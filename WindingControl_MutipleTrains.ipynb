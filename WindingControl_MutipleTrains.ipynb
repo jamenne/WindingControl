{
 "cells": [
  {
   "cell_type": "code",
   "execution_count": 1,
   "metadata": {},
   "outputs": [
    {
     "name": "stderr",
     "output_type": "stream",
     "text": [
      "Using Theano backend.\n",
      "WARNING (theano.sandbox.cuda): The cuda backend is deprecated and will be removed in the next release (v0.10).  Please switch to the gpuarray backend. You can get more information about how to switch at this URL:\n",
      " https://github.com/Theano/Theano/wiki/Converting-to-the-new-gpu-back-end%28gpuarray%29\n",
      "\n",
      "Using gpu device 0: Tesla K40m (CNMeM is disabled, cuDNN 5110)\n"
     ]
    }
   ],
   "source": [
    "import numpy as np\n",
    "\n",
    "import matplotlib.image as mpimg\n",
    "import matplotlib.pyplot as plt\n",
    "import glob\n",
    "import os, os.path\n",
    "import keras\n",
    "import time\n",
    "import scipy.misc\n",
    "import scipy.ndimage\n",
    "\n",
    "from keras.models import Sequential, load_model\n",
    "from keras.layers import Conv2D, MaxPooling2D\n",
    "from keras.layers import Activation, Dropout, Flatten, Dense\n",
    "\n",
    "from keras.utils import np_utils\n",
    "from keras.optimizers import Adam\n",
    "from keras.callbacks import CSVLogger\n",
    "\n",
    "from keras import backend as K\n",
    "from keras.initializers import RandomUniform, RandomNormal\n",
    "\n",
    "from PIL import Image\n",
    "\n",
    "from tqdm import tqdm\n",
    "from datetime import datetime\n",
    "\n",
    "%matplotlib inline"
   ]
  },
  {
   "cell_type": "code",
   "execution_count": 2,
   "metadata": {
    "collapsed": true
   },
   "outputs": [],
   "source": [
    "# resolution of images\n",
    "\n",
    "h = 75\n",
    "w = 100"
   ]
  },
  {
   "cell_type": "code",
   "execution_count": 3,
   "metadata": {},
   "outputs": [
    {
     "name": "stdout",
     "output_type": "stream",
     "text": [
      "Size of positiv Sample: 8590\n",
      "Size of negativ Sample: 13846\n"
     ]
    }
   ],
   "source": [
    "#Creates list of positiv files\n",
    "positiv_list = glob.glob('/fhgfs/groups/e5/lhcb/detector/scifi/windingcontrol/Images_Sep17/pos/IMG_*.png')\n",
    "#Finds the number of positiv files\n",
    "positiv_len = len(positiv_list)\n",
    "print(\"Size of positiv Sample: {}\".format(positiv_len))\n",
    "\n",
    "#Same but for negativ files\n",
    "negativ_list = glob.glob('/fhgfs/groups/e5/lhcb/detector/scifi/windingcontrol/Images_Sep17/neg/IMG_*.png')\n",
    "negativ_len = len(negativ_list)\n",
    "print(\"Size of negativ Sample: {}\".format(negativ_len))"
   ]
  },
  {
   "cell_type": "code",
   "execution_count": 4,
   "metadata": {},
   "outputs": [
    {
     "name": "stderr",
     "output_type": "stream",
     "text": [
      "100%|██████████| 8590/8590 [00:37<00:00, 226.72it/s]\n",
      "100%|██████████| 13846/13846 [01:22<00:00, 168.27it/s]\n"
     ]
    }
   ],
   "source": [
    "X_posind = []\n",
    "X_negind = []\n",
    "X_posinu = []\n",
    "X_neginu = []\n",
    "X_posinl = []\n",
    "X_neginl = []\n",
    "X_posinr = []\n",
    "X_neginr = []\n",
    "\n",
    "X_pos = []\n",
    "X_neg = []\n",
    "\n",
    "for fname in tqdm(positiv_list):\n",
    "    img = scipy.misc.imresize(np.array(Image.open(fname)),(h,w))\n",
    "    \n",
    "    #X_posind.append(scipy.ndimage.interpolation.shift(img, (20,0), output=None, order=1, mode='nearest', cval=0.0, prefilter=True))\n",
    "    #X_posinu.append(scipy.ndimage.interpolation.shift(img, (-20,0), output=None, order=1, mode='nearest', cval=0.0, prefilter=True))\n",
    "    \n",
    "    #X_posinr.append(scipy.ndimage.interpolation.shift(img, (0,50), output=None, order=1, mode='reflect', cval=0.0, prefilter=True))\n",
    "    #X_posinl.append(scipy.ndimage.interpolation.shift(img, (0,-50), output=None, order=1, mode='reflect', cval=0.0, prefilter=True))\n",
    "    \n",
    "    X_pos.append(img) \n",
    "    \n",
    "# Random picking of neg images with the given ratio to the pos images\n",
    "ratio_pos_neg = 1\n",
    "\n",
    "for fname in tqdm(negativ_list):\n",
    "#for fname in tqdm(np.random.choice(negativ_list, replace=False, size=int(len(X_pos) / ratio_pos_neg))):\n",
    "    img = scipy.misc.imresize(np.array(Image.open(fname)),(h,w))\n",
    "    \n",
    "    #X_negind.append(scipy.ndimage.interpolation.shift(img, (20,0), output=None, order=1, mode='nearest', cval=0.0, prefilter=True))\n",
    "    #X_neginu.append(scipy.ndimage.interpolation.shift(img, (-20,0), output=None, order=1, mode='nearest', cval=0.0, prefilter=True))\n",
    "    \n",
    "    #X_neginr.append(scipy.ndimage.interpolation.shift(img, (0,50), output=None, order=1, mode='reflect', cval=0.0, prefilter=True))\n",
    "    #X_neginl.append(scipy.ndimage.interpolation.shift(img, (0,-50), output=None, order=1, mode='reflect', cval=0.0, prefilter=True))\n",
    "    \n",
    "    X_neg.append(img)"
   ]
  },
  {
   "cell_type": "code",
   "execution_count": 5,
   "metadata": {
    "collapsed": true
   },
   "outputs": [],
   "source": [
    "X_posind = np.array(X_posind)\n",
    "X_negind = np.array(X_negind)\n",
    "X_posinu = np.array(X_posinu)\n",
    "X_neginu = np.array(X_neginu)\n",
    "X_posinl = np.array(X_posinl)\n",
    "X_neginl = np.array(X_neginl)\n",
    "X_posinr = np.array(X_posinr)\n",
    "X_neginr = np.array(X_neginr)\n",
    "X_pos = np.array(X_pos)\n",
    "X_neg = np.array(X_neg)"
   ]
  },
  {
   "cell_type": "code",
   "execution_count": 6,
   "metadata": {
    "collapsed": true
   },
   "outputs": [],
   "source": [
    "X_all = np.concatenate((X_pos, X_neg), axis=0)\n",
    "Y_all = np.concatenate( ( np.ones(len(X_pos)), np.zeros(len(X_neg)) ) , axis=0)\n",
    "#X_all_trans = np.concatenate((X_pos, X_posind, X_posinu, X_posinl, X_posinr, X_neg, X_negind, X_neginu, X_neginl, X_neginr), axis=0)\n",
    "#Y_all_trans = np_utils.to_categorical(np.concatenate((np.ones((5*positiv_len, 1)), np.zeros((5*negativ_len,1))), axis=0), 2)"
   ]
  },
  {
   "cell_type": "code",
   "execution_count": 7,
   "metadata": {},
   "outputs": [
    {
     "data": {
      "text/plain": [
       "(22436, 75, 100)"
      ]
     },
     "execution_count": 7,
     "metadata": {},
     "output_type": "execute_result"
    }
   ],
   "source": [
    "X_all.shape"
   ]
  },
  {
   "cell_type": "code",
   "execution_count": 8,
   "metadata": {},
   "outputs": [
    {
     "data": {
      "text/plain": [
       "(22436,)"
      ]
     },
     "execution_count": 8,
     "metadata": {},
     "output_type": "execute_result"
    }
   ],
   "source": [
    "Y_all.shape"
   ]
  },
  {
   "cell_type": "code",
   "execution_count": 10,
   "metadata": {
    "collapsed": true
   },
   "outputs": [],
   "source": [
    "#Shuffling the order of the input - required to avoid batches selecting only positive/negative images\n",
    "randomize = np.arange(len(X_all))\n",
    "np.random.shuffle(randomize)\n",
    "X_all = X_all[randomize]\n",
    "Y_all = Y_all[randomize]"
   ]
  },
  {
   "cell_type": "code",
   "execution_count": 11,
   "metadata": {
    "collapsed": true
   },
   "outputs": [],
   "source": [
    "# Check labeling of Data\n",
    "if False:\n",
    "    for i, img in enumerate(X_all[:200]):\n",
    "        plt.imshow(np.squeeze(img), cmap='gray')\n",
    "\n",
    "        name = \"Good img\" if Y_all[i] == 1 else \"Bad img\"\n",
    "        plt.title('{}.'.format(name))\n",
    "        plt.savefig('../Plots/TestImg/{}.png'.format(i))\n",
    "        if i%10 == 0:\n",
    "            print(\"10 written\")\n",
    "        i+=1"
   ]
  },
  {
   "cell_type": "code",
   "execution_count": 12,
   "metadata": {
    "collapsed": true
   },
   "outputs": [],
   "source": [
    "# Hold 5% back as training data\n",
    "train_split = int(0.05 * len(X_all))\n",
    "\n",
    "# Separate in Training and Testing Sample\n",
    "X_train = X_all[train_split:]\n",
    "Y_train = Y_all[train_split:]\n",
    "\n",
    "X_test = X_all[:train_split]\n",
    "Y_test = Y_all[:train_split]"
   ]
  },
  {
   "cell_type": "code",
   "execution_count": 13,
   "metadata": {
    "collapsed": true
   },
   "outputs": [],
   "source": [
    "# Check labeling of Data\n",
    "if False:\n",
    "    for i, img in enumerate(X_test[:100]):\n",
    "        plt.imshow(np.squeeze(img), cmap='gray')\n",
    "\n",
    "        name = \"Good img\" if Y_test[i] == 1 else \"Bad img\"\n",
    "        plt.title('{}.'.format(name))\n",
    "        plt.savefig('../Plots/TestImg/{}.png'.format(i))\n",
    "        if i%10 == 0:\n",
    "            print(\"10 written\")\n",
    "        i+=1"
   ]
  },
  {
   "cell_type": "code",
   "execution_count": 14,
   "metadata": {},
   "outputs": [
    {
     "name": "stdout",
     "output_type": "stream",
     "text": [
      "(21315, 75, 100, 1)\n",
      "(21315,)\n",
      "(1121, 75, 100, 1)\n",
      "(1121,)\n"
     ]
    }
   ],
   "source": [
    "X_train = X_train.reshape(X_train.shape[0], h, w, 1)\n",
    "X_test = X_test.reshape(X_test.shape[0], h, w, 1)\n",
    "\n",
    "#Shape check (NumberofImages, Height, Width, Depth)\n",
    "print(X_train.shape)\n",
    "print(Y_train.shape)\n",
    "print(X_test.shape)\n",
    "print(Y_test.shape)"
   ]
  },
  {
   "cell_type": "markdown",
   "metadata": {},
   "source": [
    "# Data need to be normalised\n",
    "* Mean and StdDev for each pixel over whole data set"
   ]
  },
  {
   "cell_type": "code",
   "execution_count": 15,
   "metadata": {},
   "outputs": [
    {
     "data": {
      "text/plain": [
       "(21315, 75, 100, 1)"
      ]
     },
     "execution_count": 15,
     "metadata": {},
     "output_type": "execute_result"
    }
   ],
   "source": [
    "X_train.shape"
   ]
  },
  {
   "cell_type": "code",
   "execution_count": 16,
   "metadata": {
    "collapsed": true
   },
   "outputs": [],
   "source": [
    "means = np.mean(X_train, axis=0)\n",
    "stds = np.std(X_train, axis=0)\n",
    "\n",
    "#means_30_40 = np.mean(X_train_30_40, axis=0)\n",
    "#stds_30_40 = np.std(X_train_30_40, axis=0)"
   ]
  },
  {
   "cell_type": "code",
   "execution_count": 17,
   "metadata": {},
   "outputs": [
    {
     "name": "stdout",
     "output_type": "stream",
     "text": [
      "(75, 100, 1)\n",
      "(75, 100, 1)\n"
     ]
    }
   ],
   "source": [
    "print(means.shape)\n",
    "print(stds.shape)\n",
    "#print(means_30_40.shape)\n",
    "#print(stds_30_40.shape)"
   ]
  },
  {
   "cell_type": "code",
   "execution_count": 18,
   "metadata": {},
   "outputs": [
    {
     "name": "stdout",
     "output_type": "stream",
     "text": [
      "Created path: ../TrainedModels/2017-09-16/MeansStdDev/\n"
     ]
    }
   ],
   "source": [
    "path_meanstd = '../TrainedModels/' + str(datetime.now().strftime('%Y-%m-%d')) + '/MeansStdDev/'\n",
    "\n",
    "if not os.path.exists(path_meanstd):\n",
    "    os.makedirs(path_meanstd)\n",
    "    print('Created path: {}'.format(path_meanstd))\n",
    "                                            \n",
    "#np.savetxt('../Data/Means_30_40.txt', means_30_40)\n",
    "#np.savetxt('../Data/StdDev_30_40.txt', stds_30_40)\n",
    "np.savetxt(path_meanstd +'Means_' +  str(datetime.now().strftime('%Y-%m-%d_%H-%M-%S')) +  '.txt', means)\n",
    "np.savetxt(path_meanstd +'StdDev_' +  str(datetime.now().strftime('%Y-%m-%d_%H-%M-%S')) +  '.txt', stds)"
   ]
  },
  {
   "cell_type": "code",
   "execution_count": 19,
   "metadata": {},
   "outputs": [
    {
     "data": {
      "image/png": "[encoded data removed]",
      "text/plain": [
       "<matplotlib.figure.Figure at 0x7fcf09627860>"
      ]
     },
     "metadata": {},
     "output_type": "display_data"
    }
   ],
   "source": [
    "plt.imshow(np.squeeze(means), cmap='gray')\n",
    "plt.savefig(path_meanstd + 'MeanImg' +  str(datetime.now().strftime('%Y-%m-%d_%H-%M-%S')) + '.png')"
   ]
  },
  {
   "cell_type": "code",
   "execution_count": 20,
   "metadata": {},
   "outputs": [
    {
     "data": {
      "image/png": "[encoded data removed]",
      "text/plain": [
       "<matplotlib.figure.Figure at 0x7fcf09459f60>"
      ]
     },
     "metadata": {},
     "output_type": "display_data"
    }
   ],
   "source": [
    "plt.imshow(np.squeeze(stds), cmap='gray')\n",
    "plt.savefig(path_meanstd + 'StdImg' +  str(datetime.now().strftime('%Y-%m-%d_%H-%M-%S')) + '.png')"
   ]
  },
  {
   "cell_type": "code",
   "execution_count": 21,
   "metadata": {
    "collapsed": true
   },
   "outputs": [],
   "source": [
    "X_train_norm = np.array([(img-means)/stds for img in X_train])\n",
    "X_test_norm = np.array([(img-means)/stds for img in X_test])"
   ]
  },
  {
   "cell_type": "markdown",
   "metadata": {},
   "source": [
    "# Let the training begin..."
   ]
  },
  {
   "cell_type": "code",
   "execution_count": 22,
   "metadata": {
    "collapsed": true
   },
   "outputs": [],
   "source": [
    "## Class to get loss and accuracy during training of NN\n",
    "\n",
    "class LossHistory(keras.callbacks.Callback):\n",
    "    def on_train_begin(self, logs={}):\n",
    "        self.losses = []\n",
    "        self.accuracy = []\n",
    "    def on_batch_end(self, batch, logs={}):\n",
    "        self.losses.append(logs.get('loss'))\n",
    "        self.accuracy.append(logs.get('acc'))"
   ]
  },
  {
   "cell_type": "code",
   "execution_count": 23,
   "metadata": {
    "collapsed": true
   },
   "outputs": [],
   "source": [
    "input_shape= (h,w,1)\n",
    "#input_shape_30_40= (x_new,y_new,1)"
   ]
  },
  {
   "cell_type": "markdown",
   "metadata": {
    "collapsed": true
   },
   "source": [
    "* initializer need to have mean = 0 and std 1/input_shape\n",
    "* for successive layers output shape of previous layer will declare this"
   ]
  },
  {
   "cell_type": "markdown",
   "metadata": {},
   "source": [
    "### Models with 3 Conv Layer and 2 Fully Connected"
   ]
  },
  {
   "cell_type": "code",
   "execution_count": 26,
   "metadata": {
    "collapsed": true
   },
   "outputs": [],
   "source": [
    "names_3Conv_2Fully = ['167_165_163_200_200', '165_165_163_200_200', '165_163_163_200_200']"
   ]
  },
  {
   "cell_type": "code",
   "execution_count": 28,
   "metadata": {
    "collapsed": true
   },
   "outputs": [],
   "source": [
    "kernel_sizes_3Conv_2Fully = [(7,5,3), (5,5,3), (5,3,3)]"
   ]
  },
  {
   "cell_type": "code",
   "execution_count": 36,
   "metadata": {
    "collapsed": true
   },
   "outputs": [
    {
     "name": "stdout",
     "output_type": "stream",
     "text": [
      "Name: 167_165_163_200_200\tKernelsize: (7, 5, 3)\n",
      "k_sizes: 7,5,3\n",
      "_________________________________________________________________\n",
      "Layer (type)                 Output Shape              Param #   \n",
      "=================================================================\n",
      "conv2d_1 (Conv2D)            (None, 69, 94, 16)        800       \n",
      "_________________________________________________________________\n",
      "max_pooling2d_1 (MaxPooling2 (None, 34, 47, 16)        0         \n",
      "_________________________________________________________________\n",
      "conv2d_2 (Conv2D)            (None, 30, 43, 16)        6416      \n",
      "_________________________________________________________________\n",
      "max_pooling2d_2 (MaxPooling2 (None, 15, 21, 16)        0         \n",
      "_________________________________________________________________\n",
      "conv2d_3 (Conv2D)            (None, 13, 19, 16)        2320      \n",
      "_________________________________________________________________\n",
      "max_pooling2d_3 (MaxPooling2 (None, 6, 9, 16)          0         \n",
      "_________________________________________________________________\n",
      "flatten_1 (Flatten)          (None, 864)               0         \n",
      "_________________________________________________________________\n",
      "dense_1 (Dense)              (None, 200)               173000    \n",
      "_________________________________________________________________\n",
      "dropout_1 (Dropout)          (None, 200)               0         \n",
      "_________________________________________________________________\n",
      "dense_2 (Dense)              (None, 200)               40200     \n",
      "_________________________________________________________________\n",
      "dropout_2 (Dropout)          (None, 200)               0         \n",
      "_________________________________________________________________\n",
      "dense_3 (Dense)              (None, 1)                 201       \n",
      "=================================================================\n",
      "Total params: 222,937\n",
      "Trainable params: 222,937\n",
      "Non-trainable params: 0\n",
      "_________________________________________________________________\n",
      "Name: 165_165_163_200_200\tKernelsize: (5, 5, 3)\n",
      "k_sizes: 5,5,3\n",
      "_________________________________________________________________\n",
      "Layer (type)                 Output Shape              Param #   \n",
      "=================================================================\n",
      "conv2d_4 (Conv2D)            (None, 71, 96, 16)        416       \n",
      "_________________________________________________________________\n",
      "max_pooling2d_4 (MaxPooling2 (None, 35, 48, 16)        0         \n",
      "_________________________________________________________________\n",
      "conv2d_5 (Conv2D)            (None, 31, 44, 16)        6416      \n",
      "_________________________________________________________________\n",
      "max_pooling2d_5 (MaxPooling2 (None, 15, 22, 16)        0         \n",
      "_________________________________________________________________\n",
      "conv2d_6 (Conv2D)            (None, 13, 20, 16)        2320      \n",
      "_________________________________________________________________\n",
      "max_pooling2d_6 (MaxPooling2 (None, 6, 10, 16)         0         \n",
      "_________________________________________________________________\n",
      "flatten_2 (Flatten)          (None, 960)               0         \n",
      "_________________________________________________________________\n",
      "dense_4 (Dense)              (None, 200)               192200    \n",
      "_________________________________________________________________\n",
      "dropout_3 (Dropout)          (None, 200)               0         \n",
      "_________________________________________________________________\n",
      "dense_5 (Dense)              (None, 200)               40200     \n",
      "_________________________________________________________________\n",
      "dropout_4 (Dropout)          (None, 200)               0         \n",
      "_________________________________________________________________\n",
      "dense_6 (Dense)              (None, 1)                 201       \n",
      "=================================================================\n",
      "Total params: 241,753\n",
      "Trainable params: 241,753\n",
      "Non-trainable params: 0\n",
      "_________________________________________________________________\n",
      "Name: 165_163_163_200_200\tKernelsize: (5, 3, 3)\n",
      "k_sizes: 5,3,3\n",
      "_________________________________________________________________\n",
      "Layer (type)                 Output Shape              Param #   \n",
      "=================================================================\n",
      "conv2d_7 (Conv2D)            (None, 71, 96, 16)        416       \n",
      "_________________________________________________________________\n",
      "max_pooling2d_7 (MaxPooling2 (None, 35, 48, 16)        0         \n",
      "_________________________________________________________________\n",
      "conv2d_8 (Conv2D)            (None, 33, 46, 16)        2320      \n",
      "_________________________________________________________________\n",
      "max_pooling2d_8 (MaxPooling2 (None, 16, 23, 16)        0         \n",
      "_________________________________________________________________\n",
      "conv2d_9 (Conv2D)            (None, 14, 21, 16)        2320      \n",
      "_________________________________________________________________\n",
      "max_pooling2d_9 (MaxPooling2 (None, 7, 10, 16)         0         \n",
      "_________________________________________________________________\n",
      "flatten_3 (Flatten)          (None, 1120)              0         \n",
      "_________________________________________________________________\n",
      "dense_7 (Dense)              (None, 200)               224200    \n",
      "_________________________________________________________________\n",
      "dropout_5 (Dropout)          (None, 200)               0         \n",
      "_________________________________________________________________\n",
      "dense_8 (Dense)              (None, 200)               40200     \n",
      "_________________________________________________________________\n",
      "dropout_6 (Dropout)          (None, 200)               0         \n",
      "_________________________________________________________________\n",
      "dense_9 (Dense)              (None, 1)                 201       \n",
      "=================================================================\n",
      "Total params: 269,657\n",
      "Trainable params: 269,657\n",
      "Non-trainable params: 0\n",
      "_________________________________________________________________\n"
     ]
    }
   ],
   "source": [
    "for name, k_size in zip(names_3Conv_2Fully, kernel_sizes_3Conv_2Fully):    \n",
    "    print('Name: {}\\tKernelsize: {}'.format(name, k_size))\n",
    "    #print('k_sizes: {},{},{}'.format(k_size[0], k_size[1], k_size[2]))\n",
    "    \n",
    "    ## Path for Model saving!\n",
    "    path_model = '../TrainedModels/' + str(datetime.now().strftime('%Y-%m-%d')) + '/'\n",
    "\n",
    "    if not os.path.exists(path_model):\n",
    "        os.makedirs(path_model)\n",
    "        print('Created path: {}'.format(path_model))\n",
    "        \n",
    "    ##### MODEL #####\n",
    "    model = Sequential()\n",
    "\n",
    "    # First Convolutional layer initialised with random input weights\n",
    "    model.add(Conv2D(16, (k_size[0], k_size[0]), kernel_initializer=RandomNormal(mean=0, stddev=1/(h*w)), padding='valid', input_shape=input_shape, activation='selu'))\n",
    "    # Reduce size a bit\n",
    "    model.add(MaxPooling2D(pool_size=(2,2)))\n",
    "    mult_shape1 = np.prod(model.layers[1].output_shape[1:])\n",
    "\n",
    "    # Second Convolutional layer\n",
    "    model.add(Conv2D(16, (k_size[1], k_size[1]), kernel_initializer=RandomNormal(mean=0, stddev=1/mult_shape1), padding='valid', activation='selu'))\n",
    "    # Reduce size a bit\n",
    "    model.add(MaxPooling2D(pool_size=(2,2)))\n",
    "    mult_shape2 = np.prod(model.layers[3].output_shape[1:])\n",
    "\n",
    "    # Third Convolutional layer\n",
    "    model.add(Conv2D(16, (k_size[2], k_size[2]), kernel_initializer=RandomNormal(mean=0, stddev=1/mult_shape2), padding='valid', activation='selu'))\n",
    "    # Reduce size a bit\n",
    "    model.add(MaxPooling2D(pool_size=(2,2)))\n",
    "\n",
    "    #Converting the 2D images to 1D vectors\n",
    "    model.add(Flatten())  \n",
    "    mult_shape3 = np.prod(model.layers[6].output_shape[1:])\n",
    "\n",
    "    # First Fully connected layer\n",
    "    model.add(Dense(200, activation='selu', kernel_initializer=RandomNormal(mean=0, stddev=1/mult_shape3)))\n",
    "    model.add(Dropout(0.2))\n",
    "    mult_shape4 = np.prod(model.layers[8].output_shape[1:])\n",
    "\n",
    "    # Second Fully connected layer\n",
    "    model.add(Dense(200, activation='selu', kernel_initializer=RandomNormal(mean=0, stddev=1/mult_shape4)))\n",
    "    model.add(Dropout(0.2))\n",
    "    mult_shape5 = np.prod(model.layers[10].output_shape[1:])\n",
    "\n",
    "    #Output layer\n",
    "    model.add(Dense(1, activation='sigmoid', kernel_initializer=RandomNormal(mean=0, stddev=1/mult_shape5)))\n",
    "    \n",
    "    #### END OF MODEL ####\n",
    "    \n",
    "    model.summary()\n",
    "    \n",
    "    ## Save the Model and create Data path!\n",
    "    path_data = '../Data/{}/{}/'.format(str(datetime.now().strftime('%Y-%m-%d')), name )\n",
    "\n",
    "    if not os.path.exists(path_data):\n",
    "        os.makedirs(path_data)\n",
    "        print('Created path: {}'.format(path_data))\n",
    "\n",
    "    # Open the file\n",
    "    with open(path_data + 'ModelSummary.txt','w') as fh:\n",
    "        # Pass the file handle in as a lambda function to make it callable\n",
    "        model.summary(print_fn=lambda x: fh.write(x + '\\n'))\n",
    "        \n",
    "    \n",
    "    #Defining optimiser and compiling the model\n",
    "    model.compile(loss='binary_crossentropy', # using the cross-entropy loss function\n",
    "                  optimizer=Adam(lr=0.001, beta_1=0.9, beta_2=0.999, epsilon=1e-08, decay=0.0),\n",
    "                  metrics=['accuracy'])\n",
    "\n",
    "    history = LossHistory()\n",
    "    \n",
    "    ## Start the training!\n",
    "    model.fit(X_train_norm, Y_train,  batch_size=76, epochs=100, verbose=1, validation_split = 0.05, callbacks=[history])\n",
    "\n",
    "    #Evaluating trained model on test images\n",
    "    score = model.evaluate(X_test_norm, Y_test, verbose=0)\n",
    "    print('Model has accuracy:', score[1]*100,'%')\n",
    "    \n",
    "    # Save trained NN\n",
    "    model.save(path_model + name + '.h5')\n",
    "    np.savetxt(path_model + name + '_TrainingData.txt', np.transpose([history.accuracy, history.losses]))\n",
    "    \n",
    "    ### Performance on Testdata! ###\n",
    "    # Get probs per image\n",
    "    probs = []\n",
    "\n",
    "    i=0 \n",
    "    for img in X_test_norm:\n",
    "        #plt.imshow(np.squeeze(img), cmap='gray')\n",
    "\n",
    "        img = np.reshape(img, [1,h,w,1])\n",
    "        p = model.predict_proba(img, verbose=0)\n",
    "        probs.append(np.squeeze(p))\n",
    "\n",
    "        #name = \"Good img\" if Y_test[i, 1] == 1 else \"Bad img\"\n",
    "        #plt.title('{}. Score: [{:.4f}, {:.4f}]'.format(name, p[0,0], p[0,1]))\n",
    "        #plt.savefig('../Plots/TestImg/{}.png'.format(i))\n",
    "        i+=1\n",
    "\n",
    "    probs = np.array(probs)\n",
    "    \n",
    "    np.savetxt(path_data + 'ScoresOnTestData.txt', np.transpose([Y_test, probs]))\n",
    "    \n",
    "    "
   ]
  },
  {
   "cell_type": "markdown",
   "metadata": {},
   "source": [
    "### Models with 3 Conv Layer and 1 Fully Connected"
   ]
  },
  {
   "cell_type": "code",
   "execution_count": 37,
   "metadata": {
    "collapsed": true
   },
   "outputs": [],
   "source": [
    "names_3Conv_1Fully = ['167_165_163_200', '165_165_163_200', '165_163_163_200']"
   ]
  },
  {
   "cell_type": "code",
   "execution_count": 38,
   "metadata": {
    "collapsed": true
   },
   "outputs": [],
   "source": [
    "kernel_sizes_3Conv_1Fully = [(7,5,3), (5,5,3), (5,3,3)]"
   ]
  },
  {
   "cell_type": "code",
   "execution_count": 45,
   "metadata": {
    "collapsed": true
   },
   "outputs": [
    {
     "name": "stdout",
     "output_type": "stream",
     "text": [
      "Name: 167_165_163_200\tKernelsize: (7, 5, 3)\n",
      "k_sizes: 7,5,3\n",
      "_________________________________________________________________\n",
      "Layer (type)                 Output Shape              Param #   \n",
      "=================================================================\n",
      "conv2d_23 (Conv2D)           (None, 69, 94, 16)        800       \n",
      "_________________________________________________________________\n",
      "max_pooling2d_23 (MaxPooling (None, 34, 47, 16)        0         \n",
      "_________________________________________________________________\n",
      "conv2d_24 (Conv2D)           (None, 30, 43, 16)        6416      \n",
      "_________________________________________________________________\n",
      "max_pooling2d_24 (MaxPooling (None, 15, 21, 16)        0         \n",
      "_________________________________________________________________\n",
      "conv2d_25 (Conv2D)           (None, 13, 19, 16)        2320      \n",
      "_________________________________________________________________\n",
      "max_pooling2d_25 (MaxPooling (None, 6, 9, 16)          0         \n",
      "_________________________________________________________________\n",
      "flatten_9 (Flatten)          (None, 864)               0         \n",
      "_________________________________________________________________\n",
      "dense_25 (Dense)             (None, 200)               173000    \n",
      "_________________________________________________________________\n",
      "dropout_17 (Dropout)         (None, 200)               0         \n",
      "_________________________________________________________________\n",
      "dense_26 (Dense)             (None, 1)                 201       \n",
      "=================================================================\n",
      "Total params: 182,737\n",
      "Trainable params: 182,737\n",
      "Non-trainable params: 0\n",
      "_________________________________________________________________\n",
      "Name: 165_165_163_200\tKernelsize: (5, 5, 3)\n",
      "k_sizes: 5,5,3\n",
      "_________________________________________________________________\n",
      "Layer (type)                 Output Shape              Param #   \n",
      "=================================================================\n",
      "conv2d_26 (Conv2D)           (None, 71, 96, 16)        416       \n",
      "_________________________________________________________________\n",
      "max_pooling2d_26 (MaxPooling (None, 35, 48, 16)        0         \n",
      "_________________________________________________________________\n",
      "conv2d_27 (Conv2D)           (None, 31, 44, 16)        6416      \n",
      "_________________________________________________________________\n",
      "max_pooling2d_27 (MaxPooling (None, 15, 22, 16)        0         \n",
      "_________________________________________________________________\n",
      "conv2d_28 (Conv2D)           (None, 13, 20, 16)        2320      \n",
      "_________________________________________________________________\n",
      "max_pooling2d_28 (MaxPooling (None, 6, 10, 16)         0         \n",
      "_________________________________________________________________\n",
      "flatten_10 (Flatten)         (None, 960)               0         \n",
      "_________________________________________________________________\n",
      "dense_27 (Dense)             (None, 200)               192200    \n",
      "_________________________________________________________________\n",
      "dropout_18 (Dropout)         (None, 200)               0         \n",
      "_________________________________________________________________\n",
      "dense_28 (Dense)             (None, 1)                 201       \n",
      "=================================================================\n",
      "Total params: 201,553\n",
      "Trainable params: 201,553\n",
      "Non-trainable params: 0\n",
      "_________________________________________________________________\n",
      "Name: 165_163_163_200\tKernelsize: (5, 3, 3)\n",
      "k_sizes: 5,3,3\n",
      "_________________________________________________________________\n",
      "Layer (type)                 Output Shape              Param #   \n",
      "=================================================================\n",
      "conv2d_29 (Conv2D)           (None, 71, 96, 16)        416       \n",
      "_________________________________________________________________\n",
      "max_pooling2d_29 (MaxPooling (None, 35, 48, 16)        0         \n",
      "_________________________________________________________________\n",
      "conv2d_30 (Conv2D)           (None, 33, 46, 16)        2320      \n",
      "_________________________________________________________________\n",
      "max_pooling2d_30 (MaxPooling (None, 16, 23, 16)        0         \n",
      "_________________________________________________________________\n",
      "conv2d_31 (Conv2D)           (None, 14, 21, 16)        2320      \n",
      "_________________________________________________________________\n",
      "max_pooling2d_31 (MaxPooling (None, 7, 10, 16)         0         \n",
      "_________________________________________________________________\n",
      "flatten_11 (Flatten)         (None, 1120)              0         \n",
      "_________________________________________________________________\n",
      "dense_29 (Dense)             (None, 200)               224200    \n",
      "_________________________________________________________________\n",
      "dropout_19 (Dropout)         (None, 200)               0         \n",
      "_________________________________________________________________\n",
      "dense_30 (Dense)             (None, 1)                 201       \n",
      "=================================================================\n",
      "Total params: 229,457\n",
      "Trainable params: 229,457\n",
      "Non-trainable params: 0\n",
      "_________________________________________________________________\n"
     ]
    }
   ],
   "source": [
    "for name, k_size in zip(names_3Conv_1Fully, kernel_sizes_3Conv_1Fully):\n",
    "    print('Name: {}\\tKernelsize: {}'.format(name, k_size))\n",
    "    #print('k_sizes: {},{},{}'.format(k_size[0], k_size[1], k_size[2]))\n",
    "    \n",
    "    ## Path for Model saving!\n",
    "    path_model = '../TrainedModels/' + str(datetime.now().strftime('%Y-%m-%d')) + '/'\n",
    "\n",
    "    if not os.path.exists(path_model):\n",
    "        os.makedirs(path_model)\n",
    "        print('Created path: {}'.format(path_model))\n",
    "    \n",
    "    #### MODEL ####\n",
    "    model = Sequential()\n",
    "\n",
    "    # First Convolutional layer initialised with random input weights\n",
    "    model.add(Conv2D(16, (k_size[0], k_size[0]), kernel_initializer=RandomNormal(mean=0, stddev=1/(h*w)), padding='valid', input_shape=input_shape, activation='selu'))\n",
    "    # Reduce size a bit\n",
    "    model.add(MaxPooling2D(pool_size=(2,2)))\n",
    "    mult_shape1 = np.prod(model.layers[1].output_shape[1:])\n",
    "\n",
    "    # Second Convolutional layer\n",
    "    model.add(Conv2D(16, (k_size[1], k_size[1]), kernel_initializer=RandomNormal(mean=0, stddev=1/mult_shape1), padding='valid', activation='selu'))\n",
    "    # Reduce size a bit\n",
    "    model.add(MaxPooling2D(pool_size=(2,2)))\n",
    "    mult_shape2 = np.prod(model.layers[3].output_shape[1:])\n",
    "\n",
    "    # Third Convolutional layer\n",
    "    model.add(Conv2D(16, (k_size[2], k_size[2]), kernel_initializer=RandomNormal(mean=0, stddev=1/mult_shape2), padding='valid', activation='selu'))\n",
    "    # Reduce size a bit\n",
    "    model.add(MaxPooling2D(pool_size=(2,2)))\n",
    "\n",
    "    #Converting the 2D images to 1D vectors\n",
    "    model.add(Flatten())  \n",
    "    mult_shape3 = np.prod(model.layers[6].output_shape[1:])\n",
    "\n",
    "    # First Fully connected layer\n",
    "    model.add(Dense(200, activation='selu', kernel_initializer=RandomNormal(mean=0, stddev=1/mult_shape3)))\n",
    "    model.add(Dropout(0.2))\n",
    "    mult_shape4 = np.prod(model.layers[8].output_shape[1:])\n",
    "\n",
    "    #Output layer\n",
    "    model.add(Dense(1, activation='sigmoid', kernel_initializer=RandomNormal(mean=0, stddev=1/mult_shape4)))\n",
    "    \n",
    "    #### END OF MODEL ####\n",
    "    \n",
    "    model.summary()\n",
    "    \n",
    "    ## Save the Model and create Data path!\n",
    "    path_data = '../Data/{}/{}/'.format(str(datetime.now().strftime('%Y-%m-%d')), name )\n",
    "\n",
    "    if not os.path.exists(path_data):\n",
    "        os.makedirs(path_data)\n",
    "        print('Created path: {}'.format(path_data))\n",
    "\n",
    "    # Open the file\n",
    "    with open(path_data + 'ModelSummary.txt','w') as fh:\n",
    "        # Pass the file handle in as a lambda function to make it callable\n",
    "        model.summary(print_fn=lambda x: fh.write(x + '\\n'))\n",
    "        \n",
    "    \n",
    "    #Defining optimiser and compiling the model\n",
    "    model.compile(loss='binary_crossentropy', # using the cross-entropy loss function\n",
    "                  optimizer=Adam(lr=0.001, beta_1=0.9, beta_2=0.999, epsilon=1e-08, decay=0.0),\n",
    "                  metrics=['accuracy'])\n",
    "\n",
    "    history = LossHistory()\n",
    "    \n",
    "    ## Start the training!\n",
    "    model.fit(X_train_norm, Y_train,  batch_size=76, epochs=100, verbose=1, validation_split = 0.05, callbacks=[history])\n",
    "\n",
    "    #Evaluating trained model on test images\n",
    "    score = model.evaluate(X_test_norm, Y_test, verbose=0)\n",
    "    print('Model has accuracy:', score[1]*100,'%')\n",
    "    \n",
    "    # Save trained NN\n",
    "    model.save(path_model + name + '.h5')\n",
    "    np.savetxt(path_model + name + '_TrainingData.txt', np.transpose([history.accuracy, history.losses]))\n",
    "    \n",
    "    ### Performance on Testdata! ###\n",
    "    # Get probs per image\n",
    "    probs = []\n",
    "\n",
    "    i=0 \n",
    "    for img in X_test_norm:\n",
    "        #plt.imshow(np.squeeze(img), cmap='gray')\n",
    "\n",
    "        img = np.reshape(img, [1,h,w,1])\n",
    "        p = model.predict_proba(img, verbose=0)\n",
    "        probs.append(np.squeeze(p))\n",
    "\n",
    "        #name = \"Good img\" if Y_test[i, 1] == 1 else \"Bad img\"\n",
    "        #plt.title('{}. Score: [{:.4f}, {:.4f}]'.format(name, p[0,0], p[0,1]))\n",
    "        #plt.savefig('../Plots/TestImg/{}.png'.format(i))\n",
    "        i+=1\n",
    "\n",
    "    probs = np.array(probs)\n",
    "    \n",
    "    np.savetxt(path_data + 'ScoresOnTestData.txt', np.transpose([Y_test, probs]))\n",
    "    \n",
    "    "
   ]
  },
  {
   "cell_type": "code",
   "execution_count": null,
   "metadata": {
    "collapsed": true
   },
   "outputs": [],
   "source": []
  },
  {
   "cell_type": "code",
   "execution_count": null,
   "metadata": {
    "collapsed": true
   },
   "outputs": [],
   "source": []
  },
  {
   "cell_type": "code",
   "execution_count": null,
   "metadata": {
    "collapsed": true
   },
   "outputs": [],
   "source": []
  },
  {
   "cell_type": "markdown",
   "metadata": {},
   "source": [
    "### Models with 2 Conv and 2 Fully connected"
   ]
  },
  {
   "cell_type": "code",
   "execution_count": 40,
   "metadata": {
    "collapsed": true
   },
   "outputs": [],
   "source": [
    "names_2Conv_2Fully = ['167_163_200_200', '165_163_200_200']"
   ]
  },
  {
   "cell_type": "code",
   "execution_count": 41,
   "metadata": {
    "collapsed": true
   },
   "outputs": [],
   "source": [
    "kernel_sizes_2Conv_2Fully = [(7,3), (5,3)]"
   ]
  },
  {
   "cell_type": "code",
   "execution_count": 44,
   "metadata": {},
   "outputs": [
    {
     "name": "stdout",
     "output_type": "stream",
     "text": [
      "Name: 167_163_200_200\tKernelsize: (7, 3)\n",
      "k_sizes: 7,3\n",
      "_________________________________________________________________\n",
      "Layer (type)                 Output Shape              Param #   \n",
      "=================================================================\n",
      "conv2d_19 (Conv2D)           (None, 69, 94, 16)        800       \n",
      "_________________________________________________________________\n",
      "max_pooling2d_19 (MaxPooling (None, 34, 47, 16)        0         \n",
      "_________________________________________________________________\n",
      "conv2d_20 (Conv2D)           (None, 32, 45, 16)        2320      \n",
      "_________________________________________________________________\n",
      "max_pooling2d_20 (MaxPooling (None, 16, 22, 16)        0         \n",
      "_________________________________________________________________\n",
      "flatten_7 (Flatten)          (None, 5632)              0         \n",
      "_________________________________________________________________\n",
      "dense_19 (Dense)             (None, 200)               1126600   \n",
      "_________________________________________________________________\n",
      "dropout_13 (Dropout)         (None, 200)               0         \n",
      "_________________________________________________________________\n",
      "dense_20 (Dense)             (None, 200)               40200     \n",
      "_________________________________________________________________\n",
      "dropout_14 (Dropout)         (None, 200)               0         \n",
      "_________________________________________________________________\n",
      "dense_21 (Dense)             (None, 1)                 201       \n",
      "=================================================================\n",
      "Total params: 1,170,121\n",
      "Trainable params: 1,170,121\n",
      "Non-trainable params: 0\n",
      "_________________________________________________________________\n",
      "Name: 165_163_200_200\tKernelsize: (5, 3)\n",
      "k_sizes: 5,3\n",
      "_________________________________________________________________\n",
      "Layer (type)                 Output Shape              Param #   \n",
      "=================================================================\n",
      "conv2d_21 (Conv2D)           (None, 71, 96, 16)        416       \n",
      "_________________________________________________________________\n",
      "max_pooling2d_21 (MaxPooling (None, 35, 48, 16)        0         \n",
      "_________________________________________________________________\n",
      "conv2d_22 (Conv2D)           (None, 33, 46, 16)        2320      \n",
      "_________________________________________________________________\n",
      "max_pooling2d_22 (MaxPooling (None, 16, 23, 16)        0         \n",
      "_________________________________________________________________\n",
      "flatten_8 (Flatten)          (None, 5888)              0         \n",
      "_________________________________________________________________\n",
      "dense_22 (Dense)             (None, 200)               1177800   \n",
      "_________________________________________________________________\n",
      "dropout_15 (Dropout)         (None, 200)               0         \n",
      "_________________________________________________________________\n",
      "dense_23 (Dense)             (None, 200)               40200     \n",
      "_________________________________________________________________\n",
      "dropout_16 (Dropout)         (None, 200)               0         \n",
      "_________________________________________________________________\n",
      "dense_24 (Dense)             (None, 1)                 201       \n",
      "=================================================================\n",
      "Total params: 1,220,937\n",
      "Trainable params: 1,220,937\n",
      "Non-trainable params: 0\n",
      "_________________________________________________________________\n"
     ]
    }
   ],
   "source": [
    "for name, k_size in zip(names_2Conv_2Fully, kernel_sizes_2Conv_2Fully):\n",
    "    print('Name: {}\\tKernelsize: {}'.format(name, k_size))\n",
    "    #print('k_sizes: {},{}'.format(k_size[0], k_size[1]))\n",
    "    \n",
    "    ## Path for Model saving!\n",
    "    path_model = '../TrainedModels/' + str(datetime.now().strftime('%Y-%m-%d')) + '/'\n",
    "\n",
    "    if not os.path.exists(path_model):\n",
    "        os.makedirs(path_model)\n",
    "        print('Created path: {}'.format(path_model))\n",
    "    \n",
    "    #### MODEL ####\n",
    "    model = Sequential()\n",
    "\n",
    "    # First Convolutional layer initialised with random input weights\n",
    "    model.add(Conv2D(16, (k_size[0], k_size[0]), kernel_initializer=RandomNormal(mean=0, stddev=1/(h*w)), padding='valid', input_shape=input_shape, activation='selu'))\n",
    "    # Reduce size a bit\n",
    "    model.add(MaxPooling2D(pool_size=(2,2)))\n",
    "    mult_shape1 = np.prod(model.layers[1].output_shape[1:])\n",
    "\n",
    "    # Second Convolutional layer\n",
    "    model.add(Conv2D(16, (k_size[1], k_size[1]), kernel_initializer=RandomNormal(mean=0, stddev=1/mult_shape1), padding='valid', activation='selu'))\n",
    "    # Reduce size a bit\n",
    "    model.add(MaxPooling2D(pool_size=(2,2)))\n",
    "\n",
    "    #Converting the 2D images to 1D vectors\n",
    "    model.add(Flatten())  \n",
    "    mult_shape2 = np.prod(model.layers[4].output_shape[1:])\n",
    "\n",
    "    # First Fully connected layer\n",
    "    model.add(Dense(200, activation='selu', kernel_initializer=RandomNormal(mean=0, stddev=1/mult_shape2)))\n",
    "    model.add(Dropout(0.2))\n",
    "    mult_shape3 = np.prod(model.layers[6].output_shape[1:])\n",
    "\n",
    "    model.add(Dense(200, activation='selu', kernel_initializer=RandomNormal(mean=0, stddev=1/mult_shape3)))\n",
    "    model.add(Dropout(0.2))\n",
    "    mult_shape4 = np.prod(model.layers[8].output_shape[1:])\n",
    "\n",
    "    #Output layer\n",
    "    model.add(Dense(1, activation='sigmoid', kernel_initializer=RandomNormal(mean=0, stddev=1/mult_shape4)))\n",
    "    \n",
    "    #### END OF MODEL ####\n",
    "    \n",
    "    model.summary()\n",
    "    \n",
    "    ## Save the Model and create Data path!\n",
    "    path_data = '../Data/{}/{}/'.format(str(datetime.now().strftime('%Y-%m-%d')), name )\n",
    "\n",
    "    if not os.path.exists(path_data):\n",
    "        os.makedirs(path_data)\n",
    "        print('Created path: {}'.format(path_data))\n",
    "\n",
    "    # Open the file\n",
    "    with open(path_data + 'ModelSummary.txt','w') as fh:\n",
    "        # Pass the file handle in as a lambda function to make it callable\n",
    "        model.summary(print_fn=lambda x: fh.write(x + '\\n'))\n",
    "        \n",
    "    \n",
    "    #Defining optimiser and compiling the model\n",
    "    model.compile(loss='binary_crossentropy', # using the cross-entropy loss function\n",
    "                  optimizer=Adam(lr=0.001, beta_1=0.9, beta_2=0.999, epsilon=1e-08, decay=0.0),\n",
    "                  metrics=['accuracy'])\n",
    "\n",
    "    history = LossHistory()\n",
    "    \n",
    "    ## Start the training!\n",
    "    model.fit(X_train_norm, Y_train,  batch_size=76, epochs=100, verbose=1, validation_split = 0.05, callbacks=[history])\n",
    "\n",
    "    #Evaluating trained model on test images\n",
    "    score = model.evaluate(X_test_norm, Y_test, verbose=0)\n",
    "    print('Model has accuracy:', score[1]*100,'%')\n",
    "    \n",
    "    # Save trained NN\n",
    "    model.save(path_model + name + '.h5')\n",
    "    np.savetxt(path_model + name + '_TrainingData.txt', np.transpose([history.accuracy, history.losses]))\n",
    "    \n",
    "    ### Performance on Testdata! ###\n",
    "    # Get probs per image\n",
    "    probs = []\n",
    "\n",
    "    i=0 \n",
    "    for img in X_test_norm:\n",
    "        #plt.imshow(np.squeeze(img), cmap='gray')\n",
    "\n",
    "        img = np.reshape(img, [1,h,w,1])\n",
    "        p = model.predict_proba(img, verbose=0)\n",
    "        probs.append(np.squeeze(p))\n",
    "\n",
    "        #name = \"Good img\" if Y_test[i, 1] == 1 else \"Bad img\"\n",
    "        #plt.title('{}. Score: [{:.4f}, {:.4f}]'.format(name, p[0,0], p[0,1]))\n",
    "        #plt.savefig('../Plots/TestImg/{}.png'.format(i))\n",
    "        i+=1\n",
    "\n",
    "    probs = np.array(probs)\n",
    "    \n",
    "    np.savetxt(path_data + 'ScoresOnTestData.txt', np.transpose([Y_test, probs]))"
   ]
  },
  {
   "cell_type": "code",
   "execution_count": null,
   "metadata": {
    "collapsed": true
   },
   "outputs": [],
   "source": []
  },
  {
   "cell_type": "code",
   "execution_count": null,
   "metadata": {
    "collapsed": true
   },
   "outputs": [],
   "source": []
  }
 ],
 "metadata": {
  "kernelspec": {
   "display_name": "Python 3",
   "language": "python",
   "name": "python3"
  },
  "language_info": {
   "codemirror_mode": {
    "name": "ipython",
    "version": 3
   },
   "file_extension": ".py",
   "mimetype": "text/x-python",
   "name": "python",
   "nbconvert_exporter": "python",
   "pygments_lexer": "ipython3",
   "version": "3.6.1"
  }
 },
 "nbformat": 4,
 "nbformat_minor": 2
}
