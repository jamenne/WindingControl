{
 "cells": [
  {
   "cell_type": "code",
   "execution_count": 1,
   "metadata": {},
   "outputs": [
    {
     "name": "stderr",
     "output_type": "stream",
     "text": [
      "Using Theano backend.\n",
      "WARNING (theano.sandbox.cuda): The cuda backend is deprecated and will be removed in the next release (v0.10).  Please switch to the gpuarray backend. You can get more information about how to switch at this URL:\n",
      " https://github.com/Theano/Theano/wiki/Converting-to-the-new-gpu-back-end%28gpuarray%29\n",
      "\n",
      "Using gpu device 0: Tesla K40m (CNMeM is disabled, cuDNN 5110)\n"
     ]
    }
   ],
   "source": [
    "import numpy as np\n",
    "\n",
    "import matplotlib.image as mpimg\n",
    "import matplotlib.pyplot as plt\n",
    "import glob\n",
    "import os, os.path\n",
    "import keras\n",
    "import time\n",
    "import scipy.misc\n",
    "import scipy.ndimage\n",
    "\n",
    "from keras.models import Sequential, load_model\n",
    "from keras.layers import Conv2D, MaxPooling2D\n",
    "from keras.layers import Activation, Dropout, Flatten, Dense\n",
    "\n",
    "from keras.utils import np_utils\n",
    "from keras.optimizers import Adam\n",
    "from keras.callbacks import CSVLogger\n",
    "from keras import backend as K\n",
    "from keras.initializers import RandomUniform, RandomNormal\n",
    "\n",
    "from PIL import Image\n",
    "\n",
    "from tqdm import tqdm\n",
    "from datetime import datetime\n",
    "\n",
    "%matplotlib inline"
   ]
  },
  {
   "cell_type": "code",
   "execution_count": 2,
   "metadata": {
    "collapsed": true
   },
   "outputs": [],
   "source": [
    "# resolution of images\n",
    "\n",
    "x = 75\n",
    "y = 100"
   ]
  },
  {
   "cell_type": "code",
   "execution_count": 3,
   "metadata": {},
   "outputs": [
    {
     "name": "stdout",
     "output_type": "stream",
     "text": [
      "Size of positiv Sample: 27146\n",
      "Size of negativ Sample: 12110\n"
     ]
    }
   ],
   "source": [
    "#Creates list of positiv files\n",
    "positiv_list = glob.glob('/fhgfs/groups/e5/lhcb/detector/scifi/windingcontrol/Images_Sep17/pos/IMG_*.png')\n",
    "#Finds the number of positiv files\n",
    "positiv_len = len(positiv_list)\n",
    "print(\"Size of positiv Sample: {}\".format(positiv_len))\n",
    "\n",
    "#Same but for negativ files\n",
    "negativ_list = glob.glob('/fhgfs/groups/e5/lhcb/detector/scifi/windingcontrol/Images_Sep17/neg/IMG_*.png')\n",
    "negativ_len = len(negativ_list)\n",
    "print(\"Size of negativ Sample: {}\".format(negativ_len))"
   ]
  },
  {
   "cell_type": "code",
   "execution_count": 4,
   "metadata": {},
   "outputs": [
    {
     "name": "stderr",
     "output_type": "stream",
     "text": [
      "100%|██████████| 27146/27146 [01:02<00:00, 437.08it/s]\n",
      "100%|██████████| 12110/12110 [00:32<00:00, 376.40it/s]\n"
     ]
    }
   ],
   "source": [
    "X_posind = []\n",
    "X_negind = []\n",
    "X_posinu = []\n",
    "X_neginu = []\n",
    "X_posinl = []\n",
    "X_neginl = []\n",
    "X_posinr = []\n",
    "X_neginr = []\n",
    "\n",
    "X_pos = []\n",
    "X_neg = []\n",
    "\n",
    "for fname in tqdm(positiv_list):\n",
    "    img = scipy.misc.imresize(np.array(Image.open(fname)),(x,y))\n",
    "    \n",
    "    #X_posind.append(scipy.ndimage.interpolation.shift(img, (20,0), output=None, order=1, mode='nearest', cval=0.0, prefilter=True))\n",
    "    #X_posinu.append(scipy.ndimage.interpolation.shift(img, (-20,0), output=None, order=1, mode='nearest', cval=0.0, prefilter=True))\n",
    "    \n",
    "    #X_posinr.append(scipy.ndimage.interpolation.shift(img, (0,50), output=None, order=1, mode='reflect', cval=0.0, prefilter=True))\n",
    "    #X_posinl.append(scipy.ndimage.interpolation.shift(img, (0,-50), output=None, order=1, mode='reflect', cval=0.0, prefilter=True))\n",
    "    \n",
    "    X_pos.append(img) \n",
    "    \n",
    "#Shuffling the order of the negtive images - required to avoid batches selecting similar images\n",
    "np.random.shuffle(negativ_list)   \n",
    "    \n",
    "for fname in tqdm(negativ_list):\n",
    "    img = scipy.misc.imresize(np.array(Image.open(fname)),(x,y))\n",
    "    \n",
    "    #X_negind.append(scipy.ndimage.interpolation.shift(img, (20,0), output=None, order=1, mode='nearest', cval=0.0, prefilter=True))\n",
    "    #X_neginu.append(scipy.ndimage.interpolation.shift(img, (-20,0), output=None, order=1, mode='nearest', cval=0.0, prefilter=True))\n",
    "    \n",
    "    #X_neginr.append(scipy.ndimage.interpolation.shift(img, (0,50), output=None, order=1, mode='reflect', cval=0.0, prefilter=True))\n",
    "    #X_neginl.append(scipy.ndimage.interpolation.shift(img, (0,-50), output=None, order=1, mode='reflect', cval=0.0, prefilter=True))\n",
    "    \n",
    "    X_neg.append(img)"
   ]
  },
  {
   "cell_type": "code",
   "execution_count": 5,
   "metadata": {
    "collapsed": true
   },
   "outputs": [],
   "source": [
    "X_posind = np.array(X_posind)\n",
    "X_negind = np.array(X_negind)\n",
    "X_posinu = np.array(X_posinu)\n",
    "X_neginu = np.array(X_neginu)\n",
    "X_posinl = np.array(X_posinl)\n",
    "X_neginl = np.array(X_neginl)\n",
    "X_posinr = np.array(X_posinr)\n",
    "X_neginr = np.array(X_neginr)\n",
    "X_pos = np.array(X_pos)\n",
    "X_neg = np.array(X_neg)"
   ]
  },
  {
   "cell_type": "code",
   "execution_count": 6,
   "metadata": {
    "collapsed": true
   },
   "outputs": [],
   "source": [
    "X_all = np.concatenate((X_pos, X_neg), axis=0)\n",
    "Y_all = np_utils.to_categorical(np.concatenate(( np.zeros((negativ_len,1)), np.ones((positiv_len, 1)) ), axis=0), 2)\n",
    "#X_all_trans = np.concatenate((X_pos, X_posind, X_posinu, X_posinl, X_posinr, X_neg, X_negind, X_neginu, X_neginl, X_neginr), axis=0)\n",
    "#Y_all_trans = np_utils.to_categorical(np.concatenate((np.ones((5*positiv_len, 1)), np.zeros((5*negativ_len,1))), axis=0), 2)"
   ]
  },
  {
   "cell_type": "code",
   "execution_count": 7,
   "metadata": {},
   "outputs": [
    {
     "data": {
      "text/plain": [
       "(39256, 75, 100)"
      ]
     },
     "execution_count": 7,
     "metadata": {},
     "output_type": "execute_result"
    }
   ],
   "source": [
    "X_all.shape"
   ]
  },
  {
   "cell_type": "code",
   "execution_count": 8,
   "metadata": {},
   "outputs": [
    {
     "data": {
      "text/plain": [
       "(39256, 2)"
      ]
     },
     "execution_count": 8,
     "metadata": {},
     "output_type": "execute_result"
    }
   ],
   "source": [
    "Y_all.shape"
   ]
  },
  {
   "cell_type": "code",
   "execution_count": 9,
   "metadata": {
    "collapsed": true
   },
   "outputs": [],
   "source": [
    "#Shuffling the order of the input - required to avoid batches selecting only positive/negative images\n",
    "randomize = np.arange(len(X_all))\n",
    "np.random.shuffle(randomize)\n",
    "X_all = X_all[randomize]\n",
    "Y_all = Y_all[randomize]"
   ]
  },
  {
   "cell_type": "code",
   "execution_count": 10,
   "metadata": {
    "collapsed": true
   },
   "outputs": [],
   "source": [
    "# Hold 5% back as training data\n",
    "train_split = int(0.05 * len(X_all))\n",
    "\n",
    "# Separate in Training and Testing Sample\n",
    "X_train = X_all[train_split:]\n",
    "Y_train = Y_all[train_split:]\n",
    "\n",
    "X_test = X_all[:train_split]\n",
    "Y_test = Y_all[:train_split]"
   ]
  },
  {
   "cell_type": "code",
   "execution_count": 11,
   "metadata": {},
   "outputs": [
    {
     "name": "stdout",
     "output_type": "stream",
     "text": [
      "(37294, 75, 100, 1)\n",
      "(37294, 2)\n",
      "(1962, 75, 100, 1)\n",
      "(1962, 2)\n"
     ]
    }
   ],
   "source": [
    "X_train = X_train.reshape(X_train.shape[0], x, y, 1)\n",
    "X_test = X_test.reshape(X_test.shape[0], x, y, 1)\n",
    "\n",
    "#Shape check (NumberofImages, Height, Width, Depth)\n",
    "print(X_train.shape)\n",
    "print(Y_train.shape)\n",
    "print(X_test.shape)\n",
    "print(Y_test.shape)"
   ]
  },
  {
   "cell_type": "markdown",
   "metadata": {},
   "source": [
    "### Test with lower resolution"
   ]
  },
  {
   "cell_type": "code",
   "execution_count": 12,
   "metadata": {
    "collapsed": true
   },
   "outputs": [],
   "source": [
    "x_new = 30\n",
    "y_new = 40"
   ]
  },
  {
   "cell_type": "code",
   "execution_count": 28,
   "metadata": {
    "collapsed": true
   },
   "outputs": [],
   "source": [
    "X_all_30_40 = []\n",
    "for img in X_all:\n",
    "    X_all_30_40.append(scipy.misc.imresize(np.array(img),(x_new,y_new)))\n",
    "    \n",
    "X_all_30_40 = np.array(X_all_30_40)\n",
    "Y_all_30_40 = Y_all"
   ]
  },
  {
   "cell_type": "code",
   "execution_count": 29,
   "metadata": {
    "collapsed": true
   },
   "outputs": [],
   "source": [
    "#Shuffling the order of the input - required to avoid batches selecting only positive/negative images\n",
    "randomize = np.arange(len(X_all))\n",
    "np.random.shuffle(randomize)\n",
    "X_all_30_40 = X_all_30_40[randomize]\n",
    "Y_all_30_40 = Y_all_30_40[randomize]"
   ]
  },
  {
   "cell_type": "code",
   "execution_count": 30,
   "metadata": {
    "collapsed": true
   },
   "outputs": [],
   "source": [
    "# Hold 5% back as training data\n",
    "train_split = int(0.05 * len(X_all_30_40))\n",
    "\n",
    "# Separate in Training and Testing Sample\n",
    "X_train_30_40 = X_all_30_40[train_split:]\n",
    "Y_train_30_40 = Y_all_30_40[train_split:]\n",
    "\n",
    "X_test_30_40 = X_all_30_40[:train_split]\n",
    "Y_test_30_40 = Y_all_30_40[:train_split]"
   ]
  },
  {
   "cell_type": "code",
   "execution_count": 31,
   "metadata": {
    "collapsed": true
   },
   "outputs": [],
   "source": [
    "X_train_30_40 = X_train_30_40.reshape(X_train_30_40.shape[0], x_new, y_new, 1)\n",
    "X_test_30_40 = X_test_30_40.reshape(X_test_30_40.shape[0], x_new, y_new, 1)"
   ]
  },
  {
   "cell_type": "markdown",
   "metadata": {},
   "source": [
    "# Data need to be normalised\n",
    "* Mean and StdDev for each pixel over whole data set"
   ]
  },
  {
   "cell_type": "code",
   "execution_count": 13,
   "metadata": {},
   "outputs": [
    {
     "data": {
      "text/plain": [
       "(37294, 75, 100, 1)"
      ]
     },
     "execution_count": 13,
     "metadata": {},
     "output_type": "execute_result"
    }
   ],
   "source": [
    "X_train.shape"
   ]
  },
  {
   "cell_type": "code",
   "execution_count": 14,
   "metadata": {
    "collapsed": true
   },
   "outputs": [],
   "source": [
    "means = np.mean(X_train, axis=0)\n",
    "stds = np.std(X_train, axis=0)\n",
    "\n",
    "#means_30_40 = np.mean(X_train_30_40, axis=0)\n",
    "#stds_30_40 = np.std(X_train_30_40, axis=0)"
   ]
  },
  {
   "cell_type": "code",
   "execution_count": 15,
   "metadata": {},
   "outputs": [
    {
     "name": "stdout",
     "output_type": "stream",
     "text": [
      "(75, 100, 1)\n",
      "(75, 100, 1)\n"
     ]
    }
   ],
   "source": [
    "print(means.shape)\n",
    "print(stds.shape)\n",
    "#print(means_30_40.shape)\n",
    "#print(stds_30_40.shape)"
   ]
  },
  {
   "cell_type": "code",
   "execution_count": 16,
   "metadata": {},
   "outputs": [],
   "source": [
    "path_meanstd = '../TrainedModels/' + str(datetime.now().strftime('%Y-%m-%d')) + '/MeansStdDev/'\n",
    "\n",
    "if not os.path.exists(path_meanstd):\n",
    "    os.makedirs(path_meanstd)\n",
    "    print('Created path: {}'.format(path_meanstd))\n",
    "                                            \n",
    "#np.savetxt('../Data/Means_30_40.txt', means_30_40)\n",
    "#np.savetxt('../Data/StdDev_30_40.txt', stds_30_40)\n",
    "np.savetxt(path_meanstd +'Means_' +  str(datetime.now().strftime('%Y-%m-%d_%H-%M-%S')) +  '.txt', means)\n",
    "np.savetxt(path_meanstd +'StdDev_' +  str(datetime.now().strftime('%Y-%m-%d_%H-%M-%S')) +  '.txt', stds)"
   ]
  },
  {
   "cell_type": "code",
   "execution_count": 17,
   "metadata": {},
   "outputs": [
    {
     "data": {
      "image/png": "[encoded data removed]",
      "text/plain": [
       "<matplotlib.figure.Figure at 0x7eff9f5f5550>"
      ]
     },
     "metadata": {},
     "output_type": "display_data"
    }
   ],
   "source": [
    "plt.imshow(np.squeeze(means), cmap='gray')\n",
    "plt.savefig(path_meanstd + 'MeanImg' +  str(datetime.now().strftime('%Y-%m-%d_%H-%M-%S')) + '.png')"
   ]
  },
  {
   "cell_type": "code",
   "execution_count": 18,
   "metadata": {
    "collapsed": true
   },
   "outputs": [],
   "source": [
    "X_train_norm = np.array([(img-means)/stds for img in X_train])\n",
    "X_test_norm = np.array([(img-means)/stds for img in X_test])"
   ]
  },
  {
   "cell_type": "code",
   "execution_count": 39,
   "metadata": {
    "collapsed": true
   },
   "outputs": [],
   "source": [
    "#X_train_30_40_norm = np.array([(img-means_30_40)/stds_30_40 for img in X_train_30_40])\n",
    "#X_test_30_40_norm = np.array([(img-means_30_40)/stds_30_40 for img in X_test_30_40])"
   ]
  },
  {
   "cell_type": "markdown",
   "metadata": {},
   "source": [
    "# Let the training begin..."
   ]
  },
  {
   "cell_type": "code",
   "execution_count": 19,
   "metadata": {
    "collapsed": true
   },
   "outputs": [],
   "source": [
    "## Class to get loss and accuracy during training of NN\n",
    "\n",
    "class LossHistory(keras.callbacks.Callback):\n",
    "    def on_train_begin(self, logs={}):\n",
    "        self.losses = []\n",
    "        self.accuracy = []\n",
    "    def on_batch_end(self, batch, logs={}):\n",
    "        self.losses.append(logs.get('loss'))\n",
    "        self.accuracy.append(logs.get('acc'))"
   ]
  },
  {
   "cell_type": "code",
   "execution_count": 20,
   "metadata": {
    "collapsed": true
   },
   "outputs": [],
   "source": [
    "input_shape= (x,y,1)\n",
    "#input_shape_30_40= (x_new,y_new,1)\n",
    "\n",
    "seed = 1234"
   ]
  },
  {
   "cell_type": "markdown",
   "metadata": {
    "collapsed": true
   },
   "source": [
    "* initializer need to have mean = 0 and std 1/input_shape\n",
    "* for successive layers output shape of previous layer will declare this"
   ]
  },
  {
   "cell_type": "code",
   "execution_count": 21,
   "metadata": {
    "collapsed": true
   },
   "outputs": [],
   "source": [
    "path_model = '../TrainedModels/' + str(datetime.now().strftime('%Y-%m-%d')) + '/'\n",
    "\n",
    "if not os.path.exists(path_model):\n",
    "    os.makedirs(path_model)\n",
    "    print('Created path: {}'.format(path_model))"
   ]
  },
  {
   "cell_type": "code",
   "execution_count": 22,
   "metadata": {
    "collapsed": true
   },
   "outputs": [],
   "source": [
    "model = Sequential()\n",
    "\n",
    "# First Convolutional layer initialised with random input weights\n",
    "model.add(Conv2D(32, (13,13), kernel_initializer=RandomNormal(mean=0, stddev=1/(x*y)), padding='valid', input_shape=input_shape, activation='selu'))\n",
    "model.add(MaxPooling2D(pool_size=(2,2)))\n",
    "\n",
    "mult_shape1 = model.layers[1].output_shape[1]*model.layers[1].output_shape[2]*model.layers[1].output_shape[3]\n",
    "\n",
    "# Second Convolutional layer\n",
    "model.add(Conv2D(32, (11,11), kernel_initializer=RandomNormal(mean=0, stddev=1/mult_shape1), padding='valid', activation='selu'))\n",
    "model.add(MaxPooling2D(pool_size=(2,2)))\n",
    "\n",
    "mult_shape2 = model.layers[3].output_shape[1]*model.layers[3].output_shape[2]*model.layers[3].output_shape[3]\n",
    "\n",
    "# Third Convolutional layer\n",
    "model.add(Conv2D(32, (9,9), kernel_initializer=RandomNormal(mean=0, stddev=1/mult_shape2), padding='valid', activation='selu'))\n",
    "model.add(MaxPooling2D(pool_size=(2,2)))\n",
    "\n",
    "\n",
    "#Converting the 2D images to 1D vectors\n",
    "model.add(Flatten())  \n",
    "\n",
    "# First Fully connected layer\n",
    "model.add(Dense(32, activation='selu'))\n",
    "model.add(Dropout(0.2))\n",
    "\n",
    "#Second Fully connected layer\n",
    "model.add(Dense(32, activation='selu'))\n",
    "model.add(Dropout(0.2))\n",
    "\n",
    "#Output layer\n",
    "model.add(Dense(2, activation='softmax'))\n"
   ]
  },
  {
   "cell_type": "code",
   "execution_count": 23,
   "metadata": {},
   "outputs": [
    {
     "name": "stdout",
     "output_type": "stream",
     "text": [
      "_________________________________________________________________\n",
      "Layer (type)                 Output Shape              Param #   \n",
      "=================================================================\n",
      "conv2d_1 (Conv2D)            (None, 63, 88, 32)        5440      \n",
      "_________________________________________________________________\n",
      "max_pooling2d_1 (MaxPooling2 (None, 31, 44, 32)        0         \n",
      "_________________________________________________________________\n",
      "conv2d_2 (Conv2D)            (None, 21, 34, 32)        123936    \n",
      "_________________________________________________________________\n",
      "max_pooling2d_2 (MaxPooling2 (None, 10, 17, 32)        0         \n",
      "_________________________________________________________________\n",
      "conv2d_3 (Conv2D)            (None, 2, 9, 32)          82976     \n",
      "_________________________________________________________________\n",
      "max_pooling2d_3 (MaxPooling2 (None, 1, 4, 32)          0         \n",
      "_________________________________________________________________\n",
      "flatten_1 (Flatten)          (None, 128)               0         \n",
      "_________________________________________________________________\n",
      "dense_1 (Dense)              (None, 32)                4128      \n",
      "_________________________________________________________________\n",
      "dropout_1 (Dropout)          (None, 32)                0         \n",
      "_________________________________________________________________\n",
      "dense_2 (Dense)              (None, 32)                1056      \n",
      "_________________________________________________________________\n",
      "dropout_2 (Dropout)          (None, 32)                0         \n",
      "_________________________________________________________________\n",
      "dense_3 (Dense)              (None, 2)                 66        \n",
      "=================================================================\n",
      "Total params: 217,602\n",
      "Trainable params: 217,602\n",
      "Non-trainable params: 0\n",
      "_________________________________________________________________\n"
     ]
    }
   ],
   "source": [
    "model.summary()"
   ]
  },
  {
   "cell_type": "code",
   "execution_count": null,
   "metadata": {},
   "outputs": [
    {
     "name": "stdout",
     "output_type": "stream",
     "text": [
      "Train on 33564 samples, validate on 3730 samples\n",
      "Epoch 1/50\n",
      "33564/33564 [==============================] - 151s - loss: 0.6942 - acc: 0.6588 - val_loss: 0.6215 - val_acc: 0.6861\n",
      "Epoch 2/50\n",
      "33564/33564 [==============================] - 156s - loss: 0.6226 - acc: 0.6922 - val_loss: 0.6222 - val_acc: 0.6861\n",
      "Epoch 3/50\n",
      " 6560/33564 [====>.........................] - ETA: 186s - loss: 0.6176 - acc: 0.6944"
     ]
    }
   ],
   "source": [
    "#Defining optimiser and compiling the model\n",
    "\n",
    "model.compile(loss='categorical_crossentropy', # using the cross-entropy loss function\n",
    "              optimizer=Adam(lr=0.001, beta_1=0.9, beta_2=0.999, epsilon=1e-08, decay=0.0),\n",
    "              metrics=['accuracy'])\n",
    "        \n",
    "history = LossHistory()\n",
    "model.fit(X_train_norm, Y_train,  batch_size=32, epochs=50, verbose=1, validation_split = 0.1, callbacks=[history])\n",
    "\n",
    "#Evaluating trained model on test images\n",
    "score = model.evaluate(X_test_norm, Y_test, verbose=0)\n",
    "print('Model has accuracy:', score[1]*100,'%')"
   ]
  },
  {
   "cell_type": "code",
   "execution_count": null,
   "metadata": {
    "collapsed": true
   },
   "outputs": [],
   "source": [
    "#To save trained NN - USE DIFFERENT NAME FOR NEW NETWORK\n",
    "model.save(path_model + '3213_3211_329_32_32_selu_50epochs.h5')"
   ]
  },
  {
   "cell_type": "code",
   "execution_count": null,
   "metadata": {
    "collapsed": true
   },
   "outputs": [],
   "source": [
    "np.savetxt(path_model + '3213_3211_329_32_32_selu_12epochs_TrainingData.txt', np.transpose([history.accuracy, history.losses]))"
   ]
  },
  {
   "cell_type": "code",
   "execution_count": null,
   "metadata": {
    "collapsed": true
   },
   "outputs": [],
   "source": [
    "accuracy = np.array(history.accuracy)\n",
    "losses = np.array(history.losses)\n",
    "\n",
    "fig, ax = plt.subplots(2, sharex=True)\n",
    "\n",
    "ax[0].plot(accuracy, color = 'b', marker='', ls='-')\n",
    "ax[1].plot(losses, color = 'm', marker='', ls='-')\n",
    "\n",
    "ax[1].set_xlabel('batch number')\n",
    "ax[0].set_ylabel('accuracy')\n",
    "ax[1].set_ylabel('loss')\n",
    "#ax[1].set_yscale('log')"
   ]
  },
  {
   "cell_type": "markdown",
   "metadata": {},
   "source": [
    "### Score Distribution"
   ]
  },
  {
   "cell_type": "code",
   "execution_count": null,
   "metadata": {
    "collapsed": true
   },
   "outputs": [],
   "source": [
    "probs = []\n",
    "\n",
    "for img in X_test_norm:\n",
    "    img = np.reshape(img, [1,x,y,1])\n",
    "    p = test_model.predict_proba(img, verbose=0)\n",
    "    probs.append(np.squeeze(p))\n",
    "    \n",
    "probs = np.array(probs) \n",
    "\n",
    "# Score\n",
    "true = []\n",
    "false = []\n",
    "for p, t in zip(probs[:,0], Y_test[:,0]):\n",
    "    if t == 1:\n",
    "        true.append(p)\n",
    "    if t == 0:\n",
    "        false.append(p)\n",
    "        \n",
    "true = np.array(true)\n",
    "false = np.array(false)"
   ]
  },
  {
   "cell_type": "code",
   "execution_count": null,
   "metadata": {
    "collapsed": true
   },
   "outputs": [],
   "source": [
    "fig, ax = plt.subplots()\n",
    "\n",
    "ax.hist(false, bins=np.arange(0, 1 + 0.05, 0.05), histtype='stepfilled', linewidth=1, edgecolor='m', color='#ff99ff', alpha=1, label='neg img')\n",
    "ax.hist(true, bins=np.arange(0, 1 + 0.05, 0.05), histtype='stepfilled', linewidth=1, edgecolor='b', color='#6666ff', alpha=1, label='pos img')\n",
    "\n",
    "ax.hist(false, bins=np.arange(0, 1 + 0.05, 0.05), histtype='step', linewidth=1, linestyle='-', edgecolor='m', color='c', alpha=1)\n",
    "ax.hist(true, bins=np.arange(0, 1 + 0.05, 0.05), histtype='step', linewidth=1, linestyle='-',edgecolor='b', color='b', alpha=1)\n",
    "\n",
    "ax.set_yscale('log')\n",
    "\n",
    "ax.legend(loc='best')"
   ]
  },
  {
   "cell_type": "markdown",
   "metadata": {},
   "source": [
    "# Analyse saved model"
   ]
  },
  {
   "cell_type": "code",
   "execution_count": 57,
   "metadata": {
    "collapsed": true
   },
   "outputs": [],
   "source": [
    "test_model = load_model('../TrainedModels/1613_1611_169_32_32_relu_woDropout_240_epochs.h5')"
   ]
  },
  {
   "cell_type": "code",
   "execution_count": 60,
   "metadata": {},
   "outputs": [
    {
     "name": "stdout",
     "output_type": "stream",
     "text": [
      "Model has accuracy: 99.6432212029 %\n"
     ]
    }
   ],
   "source": [
    "#Evaluating trained model on test images\n",
    "score = test_model.evaluate(X_test_norm, Y_test, verbose=0)\n",
    "print('Model has accuracy:', score[1]*100,'%')"
   ]
  },
  {
   "cell_type": "code",
   "execution_count": 58,
   "metadata": {
    "collapsed": true
   },
   "outputs": [],
   "source": [
    "accuracy, losses = np.genfromtxt('../Data/TrainingsData/1613_1611_169_32_32_relu_woDropout_240_epochs_TrainingData.txt', unpack=True)"
   ]
  },
  {
   "cell_type": "code",
   "execution_count": 61,
   "metadata": {},
   "outputs": [
    {
     "data": {
      "text/plain": [
       "<matplotlib.text.Text at 0x7f6cd5ef4ac8>"
      ]
     },
     "execution_count": 61,
     "metadata": {},
     "output_type": "execute_result"
    },
    {
     "data": {
      "image/png": "[encoded data removed]",
      "text/plain": [
       "<matplotlib.figure.Figure at 0x7f6cd5f05d30>"
      ]
     },
     "metadata": {},
     "output_type": "display_data"
    }
   ],
   "source": [
    "fig, ax = plt.subplots(2, sharex=True)\n",
    "\n",
    "ax[0].plot(accuracy, color = 'b', marker='', ls='-')\n",
    "ax[1].plot(losses, color = 'm', marker='', ls='-')\n",
    "\n",
    "ax[1].set_xlabel('batch number')\n",
    "ax[0].set_ylabel('accuracy')\n",
    "ax[1].set_ylabel('loss')\n",
    "#ax[1].set_yscale('log')"
   ]
  },
  {
   "cell_type": "markdown",
   "metadata": {},
   "source": [
    "# Score distribution for models on testdata"
   ]
  },
  {
   "cell_type": "code",
   "execution_count": 81,
   "metadata": {
    "collapsed": true
   },
   "outputs": [],
   "source": [
    "test_model = load_model('../TrainedModels/')"
   ]
  },
  {
   "cell_type": "code",
   "execution_count": 82,
   "metadata": {
    "collapsed": true
   },
   "outputs": [],
   "source": [
    "probs = []\n",
    "\n",
    "for img in X_test_norm:\n",
    "    img = np.reshape(img, [1,x,y,1])\n",
    "    p = test_model.predict_proba(img, verbose=0)\n",
    "    probs.append(np.squeeze(p))\n",
    "    \n",
    "probs = np.array(probs)    "
   ]
  },
  {
   "cell_type": "code",
   "execution_count": 83,
   "metadata": {
    "collapsed": true
   },
   "outputs": [],
   "source": [
    "# Score\n",
    "true = []\n",
    "false = []\n",
    "for p, t in zip(probs[:,0], Y_test[:,0]):\n",
    "    if t == 1:\n",
    "        true.append(p)\n",
    "    if t == 0:\n",
    "        false.append(p)\n",
    "        \n",
    "true = np.array(true)\n",
    "false = np.array(false)"
   ]
  },
  {
   "cell_type": "code",
   "execution_count": 84,
   "metadata": {},
   "outputs": [
    {
     "data": {
      "text/plain": [
       "<matplotlib.legend.Legend at 0x7f6cd509b208>"
      ]
     },
     "execution_count": 84,
     "metadata": {},
     "output_type": "execute_result"
    },
    {
     "data": {
      "image/png": "[encoded data removed]",
      "text/plain": [
       "<matplotlib.figure.Figure at 0x7f6cd51e9630>"
      ]
     },
     "metadata": {},
     "output_type": "display_data"
    }
   ],
   "source": [
    "fig, ax = plt.subplots()\n",
    "\n",
    "ax.hist(false, bins=np.arange(0, 1 + 0.05, 0.05), histtype='stepfilled', linewidth=1, edgecolor='m', color='#ff99ff', alpha=1, label='neg img')\n",
    "ax.hist(true, bins=np.arange(0, 1 + 0.05, 0.05), histtype='stepfilled', linewidth=1, edgecolor='b', color='#6666ff', alpha=1, label='pos img')\n",
    "\n",
    "ax.hist(false, bins=np.arange(0, 1 + 0.05, 0.05), histtype='step', linewidth=1, linestyle='-', edgecolor='m', color='c', alpha=1)\n",
    "ax.hist(true, bins=np.arange(0, 1 + 0.05, 0.05), histtype='step', linewidth=1, linestyle='-',edgecolor='b', color='b', alpha=1)\n",
    "\n",
    "ax.set_yscale('log')\n",
    "\n",
    "ax.legend(loc='best')"
   ]
  },
  {
   "cell_type": "code",
   "execution_count": 170,
   "metadata": {},
   "outputs": [
    {
     "data": {
      "text/plain": [
       "(3199, 75, 100, 1)"
      ]
     },
     "execution_count": 170,
     "metadata": {},
     "output_type": "execute_result"
    }
   ],
   "source": [
    "X_test_norm.shape"
   ]
  },
  {
   "cell_type": "code",
   "execution_count": 169,
   "metadata": {},
   "outputs": [
    {
     "data": {
      "text/plain": [
       "10"
      ]
     },
     "execution_count": 169,
     "metadata": {},
     "output_type": "execute_result"
    }
   ],
   "source": [
    "mask = [t<=0.4 for t in true]\n",
    "len(true[mask])"
   ]
  },
  {
   "cell_type": "code",
   "execution_count": 167,
   "metadata": {},
   "outputs": [
    {
     "data": {
      "text/plain": [
       "array([ 0.3108232 ,  0.561351  ,  0.35285813,  0.13598061,  0.22960733,\n",
       "        0.36893725,  0.59845793,  0.439345  ,  0.4335185 ,  0.55695796,\n",
       "        0.33551922,  0.18115899,  0.03894445,  0.31848711,  0.2846505 ,\n",
       "        0.59369594,  0.43472007,  0.59333205], dtype=float32)"
      ]
     },
     "execution_count": 167,
     "metadata": {},
     "output_type": "execute_result"
    }
   ],
   "source": [
    "true[mask]"
   ]
  },
  {
   "cell_type": "code",
   "execution_count": 154,
   "metadata": {},
   "outputs": [
    {
     "data": {
      "text/plain": [
       "(array([0]),)"
      ]
     },
     "execution_count": 154,
     "metadata": {},
     "output_type": "execute_result"
    }
   ],
   "source": [
    "len(t < 0.4 for t in true)"
   ]
  },
  {
   "cell_type": "code",
   "execution_count": null,
   "metadata": {
    "collapsed": true
   },
   "outputs": [],
   "source": []
  }
 ],
 "metadata": {
  "kernelspec": {
   "display_name": "Python 3",
   "language": "python",
   "name": "python3"
  },
  "language_info": {
   "codemirror_mode": {
    "name": "ipython",
    "version": 3
   },
   "file_extension": ".py",
   "mimetype": "text/x-python",
   "name": "python",
   "nbconvert_exporter": "python",
   "pygments_lexer": "ipython3",
   "version": "3.6.1"
  }
 },
 "nbformat": 4,
 "nbformat_minor": 2
}
