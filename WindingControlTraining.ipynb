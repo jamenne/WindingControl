{
 "cells": [
  {
   "cell_type": "code",
   "execution_count": 1,
   "metadata": {},
   "outputs": [
    {
     "name": "stderr",
     "output_type": "stream",
     "text": [
      "Using Theano backend.\n",
      "WARNING (theano.sandbox.cuda): The cuda backend is deprecated and will be removed in the next release (v0.10).  Please switch to the gpuarray backend. You can get more information about how to switch at this URL:\n",
      " https://github.com/Theano/Theano/wiki/Converting-to-the-new-gpu-back-end%28gpuarray%29\n",
      "\n",
      "Using gpu device 0: Tesla K40m (CNMeM is disabled, cuDNN 5110)\n"
     ]
    }
   ],
   "source": [
    "import numpy as np\n",
    "\n",
    "import matplotlib.image as mpimg\n",
    "import matplotlib.pyplot as plt\n",
    "import glob\n",
    "import os, os.path\n",
    "import keras\n",
    "import time\n",
    "import scipy.misc\n",
    "import scipy.ndimage\n",
    "\n",
    "from keras.models import Sequential, load_model\n",
    "from keras.layers import Conv2D, MaxPooling2D\n",
    "from keras.layers import Activation, Dropout, Flatten, Dense\n",
    "\n",
    "from keras.utils import np_utils\n",
    "from keras.optimizers import Adam\n",
    "from keras.callbacks import CSVLogger\n",
    "\n",
    "from keras import backend as K\n",
    "from keras.initializers import RandomUniform, RandomNormal\n",
    "\n",
    "from PIL import Image\n",
    "\n",
    "from tqdm import tqdm\n",
    "from datetime import datetime\n",
    "\n",
    "%matplotlib inline"
   ]
  },
  {
   "cell_type": "code",
   "execution_count": 2,
   "metadata": {
    "collapsed": true
   },
   "outputs": [],
   "source": [
    "# resolution of images\n",
    "\n",
    "h = 75\n",
    "w = 100"
   ]
  },
  {
   "cell_type": "code",
   "execution_count": 3,
   "metadata": {},
   "outputs": [
    {
     "name": "stdout",
     "output_type": "stream",
     "text": [
      "Size of positiv Sample: 8590\n",
      "Size of negativ Sample: 13846\n"
     ]
    }
   ],
   "source": [
    "#Creates list of positiv files\n",
    "positiv_list = glob.glob('/fhgfs/groups/e5/lhcb/detector/scifi/windingcontrol/Images_Sep17/pos/IMG_*.png')\n",
    "#Finds the number of positiv files\n",
    "positiv_len = len(positiv_list)\n",
    "print(\"Size of positiv Sample: {}\".format(positiv_len))\n",
    "\n",
    "#Same but for negativ files\n",
    "negativ_list = glob.glob('/fhgfs/groups/e5/lhcb/detector/scifi/windingcontrol/Images_Sep17/neg/IMG_*.png')\n",
    "negativ_len = len(negativ_list)\n",
    "print(\"Size of negativ Sample: {}\".format(negativ_len))"
   ]
  },
  {
   "cell_type": "code",
   "execution_count": 4,
   "metadata": {},
   "outputs": [
    {
     "name": "stderr",
     "output_type": "stream",
     "text": [
      "100%|██████████| 8590/8590 [02:49<00:00, 50.58it/s] \n",
      "100%|██████████| 8590/8590 [03:40<00:00, 31.45it/s]\n"
     ]
    }
   ],
   "source": [
    "X_posind = []\n",
    "X_negind = []\n",
    "X_posinu = []\n",
    "X_neginu = []\n",
    "X_posinl = []\n",
    "X_neginl = []\n",
    "X_posinr = []\n",
    "X_neginr = []\n",
    "\n",
    "X_pos = []\n",
    "X_neg = []\n",
    "\n",
    "for fname in tqdm(positiv_list):\n",
    "    img = scipy.misc.imresize(np.array(Image.open(fname)),(h,w))\n",
    "    \n",
    "    #X_posind.append(scipy.ndimage.interpolation.shift(img, (20,0), output=None, order=1, mode='nearest', cval=0.0, prefilter=True))\n",
    "    #X_posinu.append(scipy.ndimage.interpolation.shift(img, (-20,0), output=None, order=1, mode='nearest', cval=0.0, prefilter=True))\n",
    "    \n",
    "    #X_posinr.append(scipy.ndimage.interpolation.shift(img, (0,50), output=None, order=1, mode='reflect', cval=0.0, prefilter=True))\n",
    "    #X_posinl.append(scipy.ndimage.interpolation.shift(img, (0,-50), output=None, order=1, mode='reflect', cval=0.0, prefilter=True))\n",
    "    \n",
    "    X_pos.append(img) \n",
    "    \n",
    "# Random picking of neg images with the given ratio to the pos images\n",
    "ratio_pos_neg = 1\n",
    "    \n",
    "for fname in tqdm(np.random.choice(negativ_list, replace=False, size=int(len(X_pos) / ratio_pos_neg))):\n",
    "    img = scipy.misc.imresize(np.array(Image.open(fname)),(h,w))\n",
    "    \n",
    "    #X_negind.append(scipy.ndimage.interpolation.shift(img, (20,0), output=None, order=1, mode='nearest', cval=0.0, prefilter=True))\n",
    "    #X_neginu.append(scipy.ndimage.interpolation.shift(img, (-20,0), output=None, order=1, mode='nearest', cval=0.0, prefilter=True))\n",
    "    \n",
    "    #X_neginr.append(scipy.ndimage.interpolation.shift(img, (0,50), output=None, order=1, mode='reflect', cval=0.0, prefilter=True))\n",
    "    #X_neginl.append(scipy.ndimage.interpolation.shift(img, (0,-50), output=None, order=1, mode='reflect', cval=0.0, prefilter=True))\n",
    "    \n",
    "    X_neg.append(img)"
   ]
  },
  {
   "cell_type": "code",
   "execution_count": 5,
   "metadata": {
    "collapsed": true
   },
   "outputs": [],
   "source": [
    "X_posind = np.array(X_posind)\n",
    "X_negind = np.array(X_negind)\n",
    "X_posinu = np.array(X_posinu)\n",
    "X_neginu = np.array(X_neginu)\n",
    "X_posinl = np.array(X_posinl)\n",
    "X_neginl = np.array(X_neginl)\n",
    "X_posinr = np.array(X_posinr)\n",
    "X_neginr = np.array(X_neginr)\n",
    "X_pos = np.array(X_pos)\n",
    "X_neg = np.array(X_neg)"
   ]
  },
  {
   "cell_type": "code",
   "execution_count": 6,
   "metadata": {
    "collapsed": true
   },
   "outputs": [],
   "source": [
    "X_all = np.concatenate((X_pos, X_neg), axis=0)\n",
    "Y_all = np.concatenate( ( np.ones(len(X_pos)), np.zeros(len(X_neg)) ) , axis=0)\n",
    "#X_all_trans = np.concatenate((X_pos, X_posind, X_posinu, X_posinl, X_posinr, X_neg, X_negind, X_neginu, X_neginl, X_neginr), axis=0)\n",
    "#Y_all_trans = np_utils.to_categorical(np.concatenate((np.ones((5*positiv_len, 1)), np.zeros((5*negativ_len,1))), axis=0), 2)"
   ]
  },
  {
   "cell_type": "code",
   "execution_count": 7,
   "metadata": {},
   "outputs": [
    {
     "data": {
      "text/plain": [
       "(17180, 75, 100)"
      ]
     },
     "execution_count": 7,
     "metadata": {},
     "output_type": "execute_result"
    }
   ],
   "source": [
    "X_all.shape"
   ]
  },
  {
   "cell_type": "code",
   "execution_count": 8,
   "metadata": {},
   "outputs": [
    {
     "data": {
      "text/plain": [
       "(17180,)"
      ]
     },
     "execution_count": 8,
     "metadata": {},
     "output_type": "execute_result"
    }
   ],
   "source": [
    "Y_all.shape"
   ]
  },
  {
   "cell_type": "code",
   "execution_count": 9,
   "metadata": {
    "collapsed": true
   },
   "outputs": [],
   "source": [
    "#Shuffling the order of the input - required to avoid batches selecting only positive/negative images\n",
    "randomize = np.arange(len(X_all))\n",
    "np.random.shuffle(randomize)\n",
    "X_all = X_all[randomize]\n",
    "Y_all = Y_all[randomize]"
   ]
  },
  {
   "cell_type": "code",
   "execution_count": 10,
   "metadata": {
    "collapsed": true
   },
   "outputs": [],
   "source": [
    "# Check labeling of Data\n",
    "if False:\n",
    "    for i, img in enumerate(X_all[:200]):\n",
    "        plt.imshow(np.squeeze(img), cmap='gray')\n",
    "\n",
    "        name = \"Good img\" if Y_all[i] == 1 else \"Bad img\"\n",
    "        plt.title('{}.'.format(name))\n",
    "        plt.savefig('../Plots/TestImg/{}.png'.format(i))\n",
    "        if i%10 == 0:\n",
    "            print(\"10 written\")\n",
    "        i+=1"
   ]
  },
  {
   "cell_type": "code",
   "execution_count": 11,
   "metadata": {
    "collapsed": true
   },
   "outputs": [],
   "source": [
    "# Hold 5% back as training data\n",
    "train_split = int(0.05 * len(X_all))\n",
    "\n",
    "# Separate in Training and Testing Sample\n",
    "X_train = X_all[train_split:]\n",
    "Y_train = Y_all[train_split:]\n",
    "\n",
    "X_test = X_all[:train_split]\n",
    "Y_test = Y_all[:train_split]"
   ]
  },
  {
   "cell_type": "code",
   "execution_count": 12,
   "metadata": {
    "collapsed": true
   },
   "outputs": [],
   "source": [
    "# Check labeling of Data\n",
    "if False:\n",
    "    for i, img in enumerate(X_test[:100]):\n",
    "        plt.imshow(np.squeeze(img), cmap='gray')\n",
    "\n",
    "        name = \"Good img\" if Y_test[i] == 1 else \"Bad img\"\n",
    "        plt.title('{}.'.format(name))\n",
    "        plt.savefig('../Plots/TestImg/{}.png'.format(i))\n",
    "        if i%10 == 0:\n",
    "            print(\"10 written\")\n",
    "        i+=1"
   ]
  },
  {
   "cell_type": "code",
   "execution_count": 13,
   "metadata": {},
   "outputs": [
    {
     "name": "stdout",
     "output_type": "stream",
     "text": [
      "(16321, 75, 100, 1)\n",
      "(16321,)\n",
      "(859, 75, 100, 1)\n",
      "(859,)\n"
     ]
    }
   ],
   "source": [
    "X_train = X_train.reshape(X_train.shape[0], h, w, 1)\n",
    "X_test = X_test.reshape(X_test.shape[0], h, w, 1)\n",
    "\n",
    "#Shape check (NumberofImages, Height, Width, Depth)\n",
    "print(X_train.shape)\n",
    "print(Y_train.shape)\n",
    "print(X_test.shape)\n",
    "print(Y_test.shape)"
   ]
  },
  {
   "cell_type": "markdown",
   "metadata": {},
   "source": [
    "### Test with lower resolution"
   ]
  },
  {
   "cell_type": "code",
   "execution_count": 64,
   "metadata": {
    "collapsed": true
   },
   "outputs": [],
   "source": [
    "x_new = 30\n",
    "y_new = 40"
   ]
  },
  {
   "cell_type": "code",
   "execution_count": 65,
   "metadata": {
    "collapsed": true
   },
   "outputs": [],
   "source": [
    "X_all_30_40 = []\n",
    "for img in X_all:\n",
    "    X_all_30_40.append(scipy.misc.imresize(np.array(img),(x_new,y_new)))\n",
    "    \n",
    "X_all_30_40 = np.array(X_all_30_40)\n",
    "Y_all_30_40 = Y_all"
   ]
  },
  {
   "cell_type": "code",
   "execution_count": null,
   "metadata": {
    "collapsed": true
   },
   "outputs": [],
   "source": [
    "#Shuffling the order of the input - required to avoid batches selecting only positive/negative images\n",
    "randomize = np.arange(len(X_all))\n",
    "np.random.shuffle(randomize)\n",
    "X_all_30_40 = X_all_30_40[randomize]\n",
    "Y_all_30_40 = Y_all_30_40[randomize]"
   ]
  },
  {
   "cell_type": "code",
   "execution_count": null,
   "metadata": {
    "collapsed": true
   },
   "outputs": [],
   "source": [
    "# Hold 5% back as training data\n",
    "train_split = int(0.05 * len(X_all_30_40))\n",
    "\n",
    "# Separate in Training and Testing Sample\n",
    "X_train_30_40 = X_all_30_40[train_split:]\n",
    "Y_train_30_40 = Y_all_30_40[train_split:]\n",
    "\n",
    "X_test_30_40 = X_all_30_40[:train_split]\n",
    "Y_test_30_40 = Y_all_30_40[:train_split]"
   ]
  },
  {
   "cell_type": "code",
   "execution_count": null,
   "metadata": {
    "collapsed": true
   },
   "outputs": [],
   "source": [
    "X_train_30_40 = X_train_30_40.reshape(X_train_30_40.shape[0], x_new, y_new, 1)\n",
    "X_test_30_40 = X_test_30_40.reshape(X_test_30_40.shape[0], x_new, y_new, 1)"
   ]
  },
  {
   "cell_type": "markdown",
   "metadata": {},
   "source": [
    "# Data need to be normalised\n",
    "* Mean and StdDev for each pixel over whole data set"
   ]
  },
  {
   "cell_type": "code",
   "execution_count": 14,
   "metadata": {},
   "outputs": [
    {
     "data": {
      "text/plain": [
       "(16321, 75, 100, 1)"
      ]
     },
     "execution_count": 14,
     "metadata": {},
     "output_type": "execute_result"
    }
   ],
   "source": [
    "X_train.shape"
   ]
  },
  {
   "cell_type": "code",
   "execution_count": 15,
   "metadata": {
    "collapsed": true
   },
   "outputs": [],
   "source": [
    "means = np.mean(X_train, axis=0)\n",
    "stds = np.std(X_train, axis=0)\n",
    "\n",
    "#means_30_40 = np.mean(X_train_30_40, axis=0)\n",
    "#stds_30_40 = np.std(X_train_30_40, axis=0)"
   ]
  },
  {
   "cell_type": "code",
   "execution_count": 16,
   "metadata": {},
   "outputs": [
    {
     "name": "stdout",
     "output_type": "stream",
     "text": [
      "(75, 100, 1)\n",
      "(75, 100, 1)\n"
     ]
    }
   ],
   "source": [
    "print(means.shape)\n",
    "print(stds.shape)\n",
    "#print(means_30_40.shape)\n",
    "#print(stds_30_40.shape)"
   ]
  },
  {
   "cell_type": "code",
   "execution_count": 17,
   "metadata": {},
   "outputs": [
    {
     "name": "stdout",
     "output_type": "stream",
     "text": [
      "Created path: ../TrainedModels/2017-09-15/MeansStdDev/\n"
     ]
    }
   ],
   "source": [
    "path_meanstd = '../TrainedModels/' + str(datetime.now().strftime('%Y-%m-%d')) + '/MeansStdDev/'\n",
    "\n",
    "if not os.path.exists(path_meanstd):\n",
    "    os.makedirs(path_meanstd)\n",
    "    print('Created path: {}'.format(path_meanstd))\n",
    "                                            \n",
    "#np.savetxt('../Data/Means_30_40.txt', means_30_40)\n",
    "#np.savetxt('../Data/StdDev_30_40.txt', stds_30_40)\n",
    "np.savetxt(path_meanstd +'Means_' +  str(datetime.now().strftime('%Y-%m-%d_%H-%M-%S')) +  '.txt', means)\n",
    "np.savetxt(path_meanstd +'StdDev_' +  str(datetime.now().strftime('%Y-%m-%d_%H-%M-%S')) +  '.txt', stds)"
   ]
  },
  {
   "cell_type": "code",
   "execution_count": 18,
   "metadata": {},
   "outputs": [
    {
     "data": {
      "image/png": "[encoded data removed]",
      "text/plain": [
       "<matplotlib.figure.Figure at 0x7f3d39a60e48>"
      ]
     },
     "metadata": {},
     "output_type": "display_data"
    }
   ],
   "source": [
    "plt.imshow(np.squeeze(means), cmap='gray')\n",
    "plt.savefig(path_meanstd + 'MeanImg' +  str(datetime.now().strftime('%Y-%m-%d_%H-%M-%S')) + '.png')"
   ]
  },
  {
   "cell_type": "code",
   "execution_count": 19,
   "metadata": {},
   "outputs": [
    {
     "data": {
      "image/png": "[encoded data removed]",
      "text/plain": [
       "<matplotlib.figure.Figure at 0x7f3d39a609b0>"
      ]
     },
     "metadata": {},
     "output_type": "display_data"
    }
   ],
   "source": [
    "plt.imshow(np.squeeze(stds), cmap='gray')\n",
    "plt.savefig(path_meanstd + 'StdImg' +  str(datetime.now().strftime('%Y-%m-%d_%H-%M-%S')) + '.png')"
   ]
  },
  {
   "cell_type": "code",
   "execution_count": 20,
   "metadata": {
    "collapsed": true
   },
   "outputs": [],
   "source": [
    "X_train_norm = np.array([(img-means)/stds for img in X_train])\n",
    "X_test_norm = np.array([(img-means)/stds for img in X_test])"
   ]
  },
  {
   "cell_type": "code",
   "execution_count": null,
   "metadata": {
    "collapsed": true
   },
   "outputs": [],
   "source": [
    "#X_train_30_40_norm = np.array([(img-means_30_40)/stds_30_40 for img in X_train_30_40])\n",
    "#X_test_30_40_norm = np.array([(img-means_30_40)/stds_30_40 for img in X_test_30_40])"
   ]
  },
  {
   "cell_type": "markdown",
   "metadata": {},
   "source": [
    "# Let the training begin..."
   ]
  },
  {
   "cell_type": "code",
   "execution_count": 21,
   "metadata": {
    "collapsed": true
   },
   "outputs": [],
   "source": [
    "## Class to get loss and accuracy during training of NN\n",
    "\n",
    "class LossHistory(keras.callbacks.Callback):\n",
    "    def on_train_begin(self, logs={}):\n",
    "        self.losses = []\n",
    "        self.accuracy = []\n",
    "    def on_batch_end(self, batch, logs={}):\n",
    "        self.losses.append(logs.get('loss'))\n",
    "        self.accuracy.append(logs.get('acc'))"
   ]
  },
  {
   "cell_type": "code",
   "execution_count": 22,
   "metadata": {
    "collapsed": true
   },
   "outputs": [],
   "source": [
    "input_shape= (h,w,1)\n",
    "#input_shape_30_40= (x_new,y_new,1)"
   ]
  },
  {
   "cell_type": "markdown",
   "metadata": {
    "collapsed": true
   },
   "source": [
    "* initializer need to have mean = 0 and std 1/input_shape\n",
    "* for successive layers output shape of previous layer will declare this"
   ]
  },
  {
   "cell_type": "code",
   "execution_count": 23,
   "metadata": {
    "collapsed": true
   },
   "outputs": [],
   "source": [
    "path_model = '../TrainedModels/' + str(datetime.now().strftime('%Y-%m-%d')) + '/'\n",
    "\n",
    "if not os.path.exists(path_model):\n",
    "    os.makedirs(path_model)\n",
    "    print('Created path: {}'.format(path_model))"
   ]
  },
  {
   "cell_type": "code",
   "execution_count": 199,
   "metadata": {
    "collapsed": true
   },
   "outputs": [],
   "source": [
    "model = Sequential()\n",
    "\n",
    "# First Convolutional layer initialised with random input weights\n",
    "model.add(Conv2D(16, (7,7), kernel_initializer=RandomNormal(mean=0, stddev=1/(h*w)), padding='valid', input_shape=input_shape, activation='selu'))\n",
    "# Reduce size a bit\n",
    "model.add(MaxPooling2D(pool_size=(2,2)))\n",
    "mult_shape1 = np.prod(model.layers[1].output_shape[1:])\n",
    "\n",
    "# Second Convolutional layer\n",
    "model.add(Conv2D(16, (5,5), kernel_initializer=RandomNormal(mean=0, stddev=1/mult_shape1), padding='valid', activation='selu'))\n",
    "# Reduce size a bit\n",
    "model.add(MaxPooling2D(pool_size=(2,2)))\n",
    "mult_shape2 = np.prod(model.layers[3].output_shape[1:])\n",
    "\n",
    "# Third Convolutional layer\n",
    "model.add(Conv2D(16, (3,3), kernel_initializer=RandomNormal(mean=0, stddev=1/mult_shape2), padding='valid', activation='selu'))\n",
    "# Reduce size a bit\n",
    "model.add(MaxPooling2D(pool_size=(2,2)))\n",
    "\n",
    "#Converting the 2D images to 1D vectors\n",
    "model.add(Flatten())  \n",
    "mult_shape3 = np.prod(model.layers[6].output_shape[1:])\n",
    "\n",
    "# First Fully connected layer\n",
    "model.add(Dense(200, activation='selu', kernel_initializer=RandomNormal(mean=0, stddev=1/mult_shape3)))\n",
    "model.add(Dropout(0.2))\n",
    "mult_shape4 = np.prod(model.layers[8].output_shape[1:])\n",
    "\n",
    "#model.add(Dense(200, activation='selu', kernel_initializer=RandomNormal(mean=0, stddev=1/mult_shape4)))\n",
    "#model.add(Dropout(0.2))\n",
    "#mult_shape5 = np.prod(model.layers[10].output_shape[1:])\n",
    "\n",
    "#Output layer\n",
    "model.add(Dense(1, activation='sigmoid', kernel_initializer=RandomNormal(mean=0, stddev=1/mult_shape4)))"
   ]
  },
  {
   "cell_type": "code",
   "execution_count": 200,
   "metadata": {
    "collapsed": true
   },
   "outputs": [],
   "source": [
    "name='167_165_163_200'"
   ]
  },
  {
   "cell_type": "code",
   "execution_count": 201,
   "metadata": {
    "scrolled": false
   },
   "outputs": [
    {
     "name": "stdout",
     "output_type": "stream",
     "text": [
      "_________________________________________________________________\n",
      "Layer (type)                 Output Shape              Param #   \n",
      "=================================================================\n",
      "conv2d_23 (Conv2D)           (None, 69, 94, 16)        800       \n",
      "_________________________________________________________________\n",
      "max_pooling2d_23 (MaxPooling (None, 34, 47, 16)        0         \n",
      "_________________________________________________________________\n",
      "conv2d_24 (Conv2D)           (None, 30, 43, 16)        6416      \n",
      "_________________________________________________________________\n",
      "max_pooling2d_24 (MaxPooling (None, 15, 21, 16)        0         \n",
      "_________________________________________________________________\n",
      "conv2d_25 (Conv2D)           (None, 13, 19, 16)        2320      \n",
      "_________________________________________________________________\n",
      "max_pooling2d_25 (MaxPooling (None, 6, 9, 16)          0         \n",
      "_________________________________________________________________\n",
      "flatten_9 (Flatten)          (None, 864)               0         \n",
      "_________________________________________________________________\n",
      "dense_23 (Dense)             (None, 200)               173000    \n",
      "_________________________________________________________________\n",
      "dropout_15 (Dropout)         (None, 200)               0         \n",
      "_________________________________________________________________\n",
      "dense_24 (Dense)             (None, 1)                 201       \n",
      "=================================================================\n",
      "Total params: 182,737\n",
      "Trainable params: 182,737\n",
      "Non-trainable params: 0\n",
      "_________________________________________________________________\n",
      "Created path: ../Data/2017-09-15/167_165_163_200/\n"
     ]
    }
   ],
   "source": [
    "model.summary()\n",
    "\n",
    "path_data = '../Data/{}/{}/'.format(str(datetime.now().strftime('%Y-%m-%d')), name )\n",
    "\n",
    "if not os.path.exists(path_data):\n",
    "    os.makedirs(path_data)\n",
    "    print('Created path: {}'.format(path_data))\n",
    "\n",
    "# Open the file\n",
    "with open(path_data + 'ModelSummary.txt','w') as fh:\n",
    "    # Pass the file handle in as a lambda function to make it callable\n",
    "    model.summary(print_fn=lambda x: fh.write(x + '\\n'))"
   ]
  },
  {
   "cell_type": "code",
   "execution_count": 202,
   "metadata": {
    "collapsed": true
   },
   "outputs": [],
   "source": [
    "#Defining optimiser and compiling the model\n",
    "\n",
    "model.compile(loss='binary_crossentropy', # using the cross-entropy loss function\n",
    "              optimizer=Adam(lr=0.001, beta_1=0.9, beta_2=0.999, epsilon=1e-08, decay=0.0),\n",
    "              metrics=['accuracy'])\n",
    "\n",
    "history = LossHistory()"
   ]
  },
  {
   "cell_type": "code",
   "execution_count": 203,
   "metadata": {
    "collapsed": true
   },
   "outputs": [],
   "source": [
    "# if you want to continue a training\n",
    "if False:\n",
    "    model = load_model('../TrainedModels/2017-09-09/169_167_200_200_selu_100epochs.h5')"
   ]
  },
  {
   "cell_type": "code",
   "execution_count": 204,
   "metadata": {
    "scrolled": false
   },
   "outputs": [
    {
     "name": "stdout",
     "output_type": "stream",
     "text": [
      "Train on 15504 samples, validate on 817 samples\n",
      "Epoch 1/100\n",
      "15504/15504 [==============================] - 50s - loss: 0.6067 - acc: 0.6699 - val_loss: 0.5335 - val_acc: 0.7258\n",
      "Epoch 2/100\n",
      "15504/15504 [==============================] - 50s - loss: 0.4703 - acc: 0.7744 - val_loss: 0.4232 - val_acc: 0.7980\n",
      "Epoch 3/100\n",
      "15504/15504 [==============================] - 50s - loss: 0.3594 - acc: 0.8362 - val_loss: 0.3318 - val_acc: 0.8494\n",
      "Epoch 4/100\n",
      "15504/15504 [==============================] - 50s - loss: 0.2221 - acc: 0.9100 - val_loss: 0.1442 - val_acc: 0.9425\n",
      "Epoch 5/100\n",
      "15504/15504 [==============================] - 50s - loss: 0.1161 - acc: 0.9576 - val_loss: 0.1331 - val_acc: 0.9559\n",
      "Epoch 6/100\n",
      "15504/15504 [==============================] - 50s - loss: 0.0770 - acc: 0.9734 - val_loss: 0.0876 - val_acc: 0.9621\n",
      "Epoch 7/100\n",
      "15504/15504 [==============================] - 50s - loss: 0.0584 - acc: 0.9788 - val_loss: 0.0671 - val_acc: 0.9780\n",
      "Epoch 8/100\n",
      "15504/15504 [==============================] - 50s - loss: 0.0382 - acc: 0.9867 - val_loss: 0.0395 - val_acc: 0.9902\n",
      "Epoch 9/100\n",
      "15504/15504 [==============================] - 50s - loss: 0.0293 - acc: 0.9915 - val_loss: 0.0394 - val_acc: 0.9829\n",
      "Epoch 10/100\n",
      "15504/15504 [==============================] - 50s - loss: 0.0222 - acc: 0.9918 - val_loss: 0.0287 - val_acc: 0.9865\n",
      "Epoch 11/100\n",
      "15504/15504 [==============================] - 50s - loss: 0.0242 - acc: 0.9922 - val_loss: 0.0166 - val_acc: 0.9951\n",
      "Epoch 12/100\n",
      "15504/15504 [==============================] - 50s - loss: 0.0208 - acc: 0.9932 - val_loss: 0.0107 - val_acc: 0.9963\n",
      "Epoch 13/100\n",
      "15504/15504 [==============================] - 50s - loss: 0.0128 - acc: 0.9954 - val_loss: 0.0646 - val_acc: 0.9780\n",
      "Epoch 14/100\n",
      "15504/15504 [==============================] - 50s - loss: 0.0162 - acc: 0.9946 - val_loss: 0.0204 - val_acc: 0.9927\n",
      "Epoch 15/100\n",
      "15504/15504 [==============================] - 50s - loss: 0.0092 - acc: 0.9975 - val_loss: 0.0076 - val_acc: 0.9976\n",
      "Epoch 16/100\n",
      "15504/15504 [==============================] - 50s - loss: 0.0096 - acc: 0.9970 - val_loss: 0.0215 - val_acc: 0.9902\n",
      "Epoch 17/100\n",
      "15504/15504 [==============================] - 50s - loss: 0.0055 - acc: 0.9985 - val_loss: 0.0083 - val_acc: 0.9951\n",
      "Epoch 18/100\n",
      "15504/15504 [==============================] - 50s - loss: 0.0046 - acc: 0.9988 - val_loss: 0.0267 - val_acc: 0.9914\n",
      "Epoch 19/100\n",
      "15504/15504 [==============================] - 50s - loss: 0.0293 - acc: 0.9899 - val_loss: 0.0338 - val_acc: 0.9890\n",
      "Epoch 20/100\n",
      "15504/15504 [==============================] - 50s - loss: 0.0107 - acc: 0.9966 - val_loss: 0.0140 - val_acc: 0.9963\n",
      "Epoch 21/100\n",
      "15504/15504 [==============================] - 50s - loss: 0.0069 - acc: 0.9976 - val_loss: 0.0079 - val_acc: 0.9976\n",
      "Epoch 22/100\n",
      "15504/15504 [==============================] - 50s - loss: 0.0048 - acc: 0.9985 - val_loss: 0.0147 - val_acc: 0.9951\n",
      "Epoch 23/100\n",
      "15504/15504 [==============================] - 50s - loss: 0.0059 - acc: 0.9980 - val_loss: 0.0101 - val_acc: 0.9963\n",
      "Epoch 24/100\n",
      "15504/15504 [==============================] - 50s - loss: 0.0039 - acc: 0.9985 - val_loss: 0.0142 - val_acc: 0.9939\n",
      "Epoch 25/100\n",
      "15504/15504 [==============================] - 50s - loss: 0.0126 - acc: 0.9966 - val_loss: 0.0319 - val_acc: 0.9853\n",
      "Epoch 26/100\n",
      "15504/15504 [==============================] - 50s - loss: 0.0115 - acc: 0.9966 - val_loss: 0.0142 - val_acc: 0.9976\n",
      "Epoch 27/100\n",
      "15504/15504 [==============================] - 50s - loss: 0.0031 - acc: 0.9990 - val_loss: 0.0090 - val_acc: 0.9963\n",
      "Epoch 28/100\n",
      "15504/15504 [==============================] - 50s - loss: 7.4492e-04 - acc: 0.9997 - val_loss: 0.0020 - val_acc: 0.9988\n",
      "Epoch 29/100\n",
      "15504/15504 [==============================] - 50s - loss: 0.0017 - acc: 0.9994 - val_loss: 0.0079 - val_acc: 0.9988\n",
      "Epoch 30/100\n",
      "15504/15504 [==============================] - 50s - loss: 0.0306 - acc: 0.9914 - val_loss: 0.0236 - val_acc: 0.9927\n",
      "Epoch 31/100\n",
      "15504/15504 [==============================] - 50s - loss: 0.0074 - acc: 0.9975 - val_loss: 0.0295 - val_acc: 0.9914\n",
      "Epoch 32/100\n",
      "15504/15504 [==============================] - 50s - loss: 0.0052 - acc: 0.9984 - val_loss: 0.0065 - val_acc: 0.9988\n",
      "Epoch 33/100\n",
      "15504/15504 [==============================] - 50s - loss: 0.0018 - acc: 0.9997 - val_loss: 0.0077 - val_acc: 0.9988\n",
      "Epoch 34/100\n",
      "15504/15504 [==============================] - 50s - loss: 0.0028 - acc: 0.9992 - val_loss: 0.0054 - val_acc: 0.9988\n",
      "Epoch 35/100\n",
      "15504/15504 [==============================] - 50s - loss: 0.0062 - acc: 0.9976 - val_loss: 0.0198 - val_acc: 0.9927\n",
      "Epoch 36/100\n",
      "15504/15504 [==============================] - 50s - loss: 0.0034 - acc: 0.9988 - val_loss: 0.0165 - val_acc: 0.9951\n",
      "Epoch 37/100\n",
      "15504/15504 [==============================] - 50s - loss: 0.0075 - acc: 0.9974 - val_loss: 0.0224 - val_acc: 0.9963\n",
      "Epoch 38/100\n",
      "15504/15504 [==============================] - 50s - loss: 0.0112 - acc: 0.9973 - val_loss: 0.0605 - val_acc: 0.9902\n",
      "Epoch 39/100\n",
      "15504/15504 [==============================] - 50s - loss: 0.0069 - acc: 0.9977 - val_loss: 0.0436 - val_acc: 0.9878\n",
      "Epoch 40/100\n",
      "15504/15504 [==============================] - 50s - loss: 0.0160 - acc: 0.9952 - val_loss: 0.0025 - val_acc: 0.9988\n",
      "Epoch 41/100\n",
      "15504/15504 [==============================] - 50s - loss: 0.0016 - acc: 0.9994 - val_loss: 0.0103 - val_acc: 0.9988\n",
      "Epoch 42/100\n",
      "15504/15504 [==============================] - 50s - loss: 0.0020 - acc: 0.9991 - val_loss: 0.0140 - val_acc: 0.9988\n",
      "Epoch 43/100\n",
      "15504/15504 [==============================] - 50s - loss: 8.8887e-04 - acc: 0.9997 - val_loss: 0.0089 - val_acc: 0.9988\n",
      "Epoch 44/100\n",
      "15504/15504 [==============================] - 50s - loss: 2.3585e-04 - acc: 0.9999 - val_loss: 0.0082 - val_acc: 0.9988\n",
      "Epoch 45/100\n",
      "15504/15504 [==============================] - 50s - loss: 0.0014 - acc: 0.9995 - val_loss: 0.0130 - val_acc: 0.9963\n",
      "Epoch 46/100\n",
      "15504/15504 [==============================] - 50s - loss: 0.0014 - acc: 0.9997 - val_loss: 0.0114 - val_acc: 0.9963\n",
      "Epoch 47/100\n",
      "15504/15504 [==============================] - 50s - loss: 0.0290 - acc: 0.9936 - val_loss: 0.0065 - val_acc: 0.9963\n",
      "Epoch 48/100\n",
      "15504/15504 [==============================] - 50s - loss: 0.0060 - acc: 0.9983 - val_loss: 0.0044 - val_acc: 0.9988\n",
      "Epoch 49/100\n",
      "15504/15504 [==============================] - 50s - loss: 0.0035 - acc: 0.9990 - val_loss: 0.0158 - val_acc: 0.9951\n",
      "Epoch 50/100\n",
      "15504/15504 [==============================] - 50s - loss: 0.0033 - acc: 0.9991 - val_loss: 0.0177 - val_acc: 0.9939\n",
      "Epoch 51/100\n",
      "15504/15504 [==============================] - 50s - loss: 0.0027 - acc: 0.9992 - val_loss: 0.0108 - val_acc: 0.9976\n",
      "Epoch 52/100\n",
      "15504/15504 [==============================] - 50s - loss: 3.4655e-04 - acc: 0.9999 - val_loss: 0.0099 - val_acc: 0.9976\n",
      "Epoch 53/100\n",
      "15504/15504 [==============================] - 50s - loss: 0.0141 - acc: 0.9963 - val_loss: 0.0305 - val_acc: 0.9902\n",
      "Epoch 54/100\n",
      "15504/15504 [==============================] - 50s - loss: 0.0162 - acc: 0.9965 - val_loss: 0.0088 - val_acc: 0.9976\n",
      "Epoch 55/100\n",
      "15504/15504 [==============================] - 50s - loss: 0.0052 - acc: 0.9982 - val_loss: 0.0044 - val_acc: 0.9988\n",
      "Epoch 56/100\n",
      "15504/15504 [==============================] - 50s - loss: 6.5412e-04 - acc: 0.9998 - val_loss: 0.0083 - val_acc: 0.9988\n",
      "Epoch 57/100\n",
      "15504/15504 [==============================] - 50s - loss: 0.0010 - acc: 0.9997 - val_loss: 0.0031 - val_acc: 0.9976\n",
      "Epoch 58/100\n",
      "15504/15504 [==============================] - 50s - loss: 0.0024 - acc: 0.9993 - val_loss: 0.0159 - val_acc: 0.9951\n",
      "Epoch 59/100\n",
      "15504/15504 [==============================] - 50s - loss: 0.0013 - acc: 0.9994 - val_loss: 0.0133 - val_acc: 0.9976\n",
      "Epoch 60/100\n",
      "15504/15504 [==============================] - 50s - loss: 0.0016 - acc: 0.9994 - val_loss: 0.0086 - val_acc: 0.9963\n",
      "Epoch 61/100\n",
      "15504/15504 [==============================] - 50s - loss: 0.0010 - acc: 0.9996 - val_loss: 0.0025 - val_acc: 0.9988\n",
      "Epoch 62/100\n",
      "15504/15504 [==============================] - 50s - loss: 0.0014 - acc: 0.9996 - val_loss: 0.0297 - val_acc: 0.9902\n",
      "Epoch 63/100\n"
     ]
    },
    {
     "name": "stdout",
     "output_type": "stream",
     "text": [
      "15504/15504 [==============================] - 50s - loss: 0.0521 - acc: 0.9901 - val_loss: 0.0109 - val_acc: 0.9963\n",
      "Epoch 64/100\n",
      "15504/15504 [==============================] - 50s - loss: 0.0047 - acc: 0.9988 - val_loss: 0.0054 - val_acc: 0.9976\n",
      "Epoch 65/100\n",
      "15504/15504 [==============================] - 50s - loss: 0.0024 - acc: 0.9991 - val_loss: 0.0071 - val_acc: 0.9988\n",
      "Epoch 66/100\n",
      "15504/15504 [==============================] - 50s - loss: 7.9723e-04 - acc: 0.9997 - val_loss: 0.0017 - val_acc: 0.9988\n",
      "Epoch 67/100\n",
      "15504/15504 [==============================] - 50s - loss: 7.7205e-04 - acc: 0.9998 - val_loss: 9.0596e-04 - val_acc: 1.0000\n",
      "Epoch 68/100\n",
      "15504/15504 [==============================] - 50s - loss: 6.1822e-04 - acc: 0.9998 - val_loss: 0.0036 - val_acc: 0.9988\n",
      "Epoch 69/100\n",
      "15504/15504 [==============================] - 50s - loss: 3.1449e-04 - acc: 0.9999 - val_loss: 0.0020 - val_acc: 0.9988\n",
      "Epoch 70/100\n",
      "15504/15504 [==============================] - 50s - loss: 2.3422e-04 - acc: 0.9999 - val_loss: 0.0023 - val_acc: 0.9988\n",
      "Epoch 71/100\n",
      "15504/15504 [==============================] - 50s - loss: 5.2533e-04 - acc: 0.9999 - val_loss: 0.0019 - val_acc: 0.9988\n",
      "Epoch 72/100\n",
      "15504/15504 [==============================] - 50s - loss: 4.0673e-04 - acc: 0.9999 - val_loss: 0.0078 - val_acc: 0.9976\n",
      "Epoch 73/100\n",
      "15504/15504 [==============================] - 50s - loss: 0.0074 - acc: 0.9980 - val_loss: 0.0395 - val_acc: 0.9853\n",
      "Epoch 74/100\n",
      "15504/15504 [==============================] - 50s - loss: 0.0180 - acc: 0.9965 - val_loss: 0.0155 - val_acc: 0.9963\n",
      "Epoch 75/100\n",
      "15504/15504 [==============================] - 50s - loss: 0.0073 - acc: 0.9985 - val_loss: 0.0195 - val_acc: 0.9927\n",
      "Epoch 76/100\n",
      "15504/15504 [==============================] - 50s - loss: 0.0023 - acc: 0.9993 - val_loss: 1.7631e-04 - val_acc: 1.0000\n",
      "Epoch 77/100\n",
      "15504/15504 [==============================] - 50s - loss: 0.0032 - acc: 0.9992 - val_loss: 0.0069 - val_acc: 0.9976\n",
      "Epoch 78/100\n",
      "15504/15504 [==============================] - 50s - loss: 0.0098 - acc: 0.9980 - val_loss: 0.0137 - val_acc: 0.9988\n",
      "Epoch 79/100\n",
      "15504/15504 [==============================] - 50s - loss: 0.0121 - acc: 0.9970 - val_loss: 0.0057 - val_acc: 0.9976\n",
      "Epoch 80/100\n",
      "15504/15504 [==============================] - 50s - loss: 0.0079 - acc: 0.9983 - val_loss: 0.0030 - val_acc: 0.9988\n",
      "Epoch 81/100\n",
      "15504/15504 [==============================] - 50s - loss: 0.0032 - acc: 0.9992 - val_loss: 0.0148 - val_acc: 0.9976\n",
      "Epoch 82/100\n",
      "15504/15504 [==============================] - 50s - loss: 3.1819e-04 - acc: 0.9999 - val_loss: 0.0072 - val_acc: 0.9988\n",
      "Epoch 83/100\n",
      "15504/15504 [==============================] - 50s - loss: 5.0568e-04 - acc: 0.9997 - val_loss: 4.1239e-04 - val_acc: 1.0000\n",
      "Epoch 84/100\n",
      "15504/15504 [==============================] - 50s - loss: 6.5181e-05 - acc: 1.0000 - val_loss: 0.0013 - val_acc: 0.9988\n",
      "Epoch 85/100\n",
      "15504/15504 [==============================] - 50s - loss: 2.6890e-05 - acc: 1.0000 - val_loss: 0.0023 - val_acc: 0.9988\n",
      "Epoch 86/100\n",
      "15504/15504 [==============================] - 50s - loss: 3.1198e-05 - acc: 1.0000 - val_loss: 0.0039 - val_acc: 0.9988\n",
      "Epoch 87/100\n",
      "15504/15504 [==============================] - 50s - loss: 3.3775e-05 - acc: 1.0000 - val_loss: 0.0048 - val_acc: 0.9988\n",
      "Epoch 88/100\n",
      "15504/15504 [==============================] - 50s - loss: 4.6087e-06 - acc: 1.0000 - val_loss: 0.0045 - val_acc: 0.9988\n",
      "Epoch 89/100\n",
      "15504/15504 [==============================] - 50s - loss: 8.0281e-05 - acc: 0.9999 - val_loss: 0.0034 - val_acc: 0.9988\n",
      "Epoch 90/100\n",
      "15504/15504 [==============================] - 50s - loss: 0.0280 - acc: 0.9952 - val_loss: 0.0450 - val_acc: 0.9963\n",
      "Epoch 91/100\n",
      "15504/15504 [==============================] - 50s - loss: 0.0066 - acc: 0.9985 - val_loss: 0.0334 - val_acc: 0.9963\n",
      "Epoch 92/100\n",
      "15504/15504 [==============================] - 50s - loss: 0.0046 - acc: 0.9992 - val_loss: 0.0207 - val_acc: 0.9976\n",
      "Epoch 93/100\n",
      "15504/15504 [==============================] - 50s - loss: 0.0058 - acc: 0.9988 - val_loss: 0.0464 - val_acc: 0.9939\n",
      "Epoch 94/100\n",
      "15504/15504 [==============================] - 50s - loss: 0.0250 - acc: 0.9953 - val_loss: 0.0099 - val_acc: 0.9988\n",
      "Epoch 95/100\n",
      "15504/15504 [==============================] - 50s - loss: 0.0045 - acc: 0.9991 - val_loss: 0.0040 - val_acc: 0.9988\n",
      "Epoch 96/100\n",
      "15504/15504 [==============================] - 50s - loss: 4.0849e-04 - acc: 0.9998 - val_loss: 0.0014 - val_acc: 1.0000\n",
      "Epoch 97/100\n",
      "15504/15504 [==============================] - 50s - loss: 0.0012 - acc: 0.9997 - val_loss: 0.0017 - val_acc: 0.9988\n",
      "Epoch 98/100\n",
      "15504/15504 [==============================] - 50s - loss: 9.4197e-04 - acc: 0.9997 - val_loss: 0.0044 - val_acc: 0.9988\n",
      "Epoch 99/100\n",
      "15504/15504 [==============================] - 50s - loss: 1.4872e-04 - acc: 1.0000 - val_loss: 0.0014 - val_acc: 0.9988\n",
      "Epoch 100/100\n",
      "15504/15504 [==============================] - 50s - loss: 1.3696e-04 - acc: 0.9999 - val_loss: 3.2927e-04 - val_acc: 1.0000\n",
      "Model has accuracy: 99.6507566938 %\n"
     ]
    }
   ],
   "source": [
    "model.fit(X_train_norm, Y_train,  batch_size=76, epochs=100, verbose=1, validation_split = 0.05, callbacks=[history])\n",
    "\n",
    "#Evaluating trained model on test images\n",
    "score = model.evaluate(X_test_norm, Y_test, verbose=0)\n",
    "print('Model has accuracy:', score[1]*100,'%')"
   ]
  },
  {
   "cell_type": "code",
   "execution_count": 205,
   "metadata": {
    "collapsed": true
   },
   "outputs": [],
   "source": [
    "#To save trained NN - USE DIFFERENT NAME FOR NEW NETWORK\n",
    "model.save(path_model + name + '.h5')"
   ]
  },
  {
   "cell_type": "code",
   "execution_count": 206,
   "metadata": {
    "collapsed": true
   },
   "outputs": [],
   "source": [
    "np.savetxt(path_model + name + '_TrainingData.txt', np.transpose([history.accuracy, history.losses]))"
   ]
  },
  {
   "cell_type": "markdown",
   "metadata": {},
   "source": [
    "### Accuracy and Losss during training"
   ]
  },
  {
   "cell_type": "code",
   "execution_count": 210,
   "metadata": {},
   "outputs": [
    {
     "data": {
      "image/png": "[encoded data removed]",
      "text/plain": [
       "<matplotlib.figure.Figure at 0x7f3cd445f438>"
      ]
     },
     "metadata": {},
     "output_type": "display_data"
    }
   ],
   "source": [
    "accuracy = np.array(history.accuracy)\n",
    "losses = np.array(history.losses)\n",
    "\n",
    "fig, ax = plt.subplots(2, sharex=True)\n",
    "\n",
    "every_item = 100\n",
    "\n",
    "ax[0].plot(accuracy[::every_item], color = 'b', marker='', ls='-')\n",
    "ax[1].plot(losses[::every_item], color = 'm', marker='', ls='-')\n",
    "\n",
    "ax[1].set_xlabel('batch number')\n",
    "ax[0].set_ylabel('accuracy')\n",
    "ax[1].set_ylabel('loss')\n",
    "\n",
    "ax[1].set_yscale('log')\n",
    "\n",
    "ax[0].set_title(name)\n",
    "\n",
    "plt.tight_layout()\n",
    "plt.savefig(path_data + '/LossAccLog::{}.png'.format(every_item))"
   ]
  },
  {
   "cell_type": "markdown",
   "metadata": {},
   "source": [
    "### Score Distributions"
   ]
  },
  {
   "cell_type": "code",
   "execution_count": 211,
   "metadata": {
    "collapsed": true
   },
   "outputs": [],
   "source": [
    "# Get probs per image\n",
    "probs = []\n",
    "\n",
    "i=0 \n",
    "for img in X_test_norm:\n",
    "    #plt.imshow(np.squeeze(img), cmap='gray')\n",
    "    \n",
    "    img = np.reshape(img, [1,h,w,1])\n",
    "    p = model.predict_proba(img, verbose=0)\n",
    "    probs.append(np.squeeze(p))\n",
    "    \n",
    "    #name = \"Good img\" if Y_test[i, 1] == 1 else \"Bad img\"\n",
    "    #plt.title('{}. Score: [{:.4f}, {:.4f}]'.format(name, p[0,0], p[0,1]))\n",
    "    #plt.savefig('../Plots/TestImg/{}.png'.format(i))\n",
    "    i+=1\n",
    "\n",
    "probs = np.array(probs)"
   ]
  },
  {
   "cell_type": "code",
   "execution_count": 212,
   "metadata": {
    "collapsed": true
   },
   "outputs": [],
   "source": [
    "np.savetxt(path_data + 'ScoresOnTestData.txt', np.transpose([Y_test, probs]))"
   ]
  },
  {
   "cell_type": "code",
   "execution_count": 213,
   "metadata": {
    "collapsed": true
   },
   "outputs": [],
   "source": [
    "label_pos = Y_test\n",
    "score_pos = probs[label_pos == 1]\n",
    "score_neg = probs[label_pos == 0]"
   ]
  },
  {
   "cell_type": "code",
   "execution_count": 218,
   "metadata": {},
   "outputs": [
    {
     "data": {
      "image/png": "[encoded data removed]",
      "text/plain": [
       "<matplotlib.figure.Figure at 0x7f3c719d39e8>"
      ]
     },
     "metadata": {},
     "output_type": "display_data"
    }
   ],
   "source": [
    "fig, ax = plt.subplots()\n",
    "\n",
    "binsize = 0.05\n",
    "bins = np.arange(0, 1 + binsize, binsize)\n",
    "\n",
    "ax.hist(score_neg, bins=bins, histtype='stepfilled', linewidth=1, edgecolor='m', color='#ff99ff', label='neg img')\n",
    "ax.hist(score_pos, bins=bins, histtype='stepfilled', linewidth=1, edgecolor='b', color='#6666ff', label='pos img')\n",
    "\n",
    "ax.hist(score_neg, bins=bins, histtype='step', linewidth=1, linestyle='-', edgecolor='m')\n",
    "ax.hist(score_pos, bins=bins, histtype='step', linewidth=1, linestyle='-',edgecolor='b')\n",
    "\n",
    "ax.set_xlabel(\"Score for pos img\")\n",
    "ax.set_yscale('log')\n",
    "\n",
    "ax.legend(loc='best')\n",
    "\n",
    "plt.title('Test Data')\n",
    "\n",
    "plt.tight_layout()\n",
    "plt.savefig(path_data + 'ScoreDistributionOnTestData_{}.png'.format(binsize))"
   ]
  },
  {
   "cell_type": "code",
   "execution_count": 219,
   "metadata": {},
   "outputs": [
    {
     "name": "stdout",
     "output_type": "stream",
     "text": [
      "(1, 75, 100, 1)\n",
      "(2, 75, 100, 1)\n"
     ]
    }
   ],
   "source": [
    "# positive images below 0.5\n",
    "img_pos = X_test_norm[label_pos == 1]\n",
    "img_pos_false = img_pos[score_pos < 0.5]\n",
    "score_pos_false = score_pos[score_pos < 0.5]\n",
    "print(img_pos_false.shape)\n",
    "\n",
    "# negative images over 0.5\n",
    "img_neg = X_test_norm[label_pos == 0]\n",
    "img_neg_false = img_neg[score_neg > 0.5]\n",
    "score_neg_false = score_neg[score_neg > 0.5]\n",
    "print(img_neg_false.shape)"
   ]
  },
  {
   "cell_type": "code",
   "execution_count": 220,
   "metadata": {},
   "outputs": [
    {
     "ename": "FileNotFoundError",
     "evalue": "[Errno 2] No such file or directory: '../Data/2017-09-15/167_165_163_200/wrongImg/pos_0.png'",
     "output_type": "error",
     "traceback": [
      "\u001b[0;31m---------------------------------------------------------------------------\u001b[0m",
      "\u001b[0;31mFileNotFoundError\u001b[0m                         Traceback (most recent call last)",
      "\u001b[0;32m<ipython-input-220-f7645dde3f50>\u001b[0m in \u001b[0;36m<module>\u001b[0;34m()\u001b[0m\n\u001b[1;32m      5\u001b[0m \u001b[0;34m\u001b[0m\u001b[0m\n\u001b[1;32m      6\u001b[0m     \u001b[0mplt\u001b[0m\u001b[0;34m.\u001b[0m\u001b[0mtitle\u001b[0m\u001b[0;34m(\u001b[0m\u001b[0;34m'Score: {:}'\u001b[0m\u001b[0;34m.\u001b[0m\u001b[0mformat\u001b[0m\u001b[0;34m(\u001b[0m\u001b[0mp\u001b[0m\u001b[0;34m)\u001b[0m\u001b[0;34m)\u001b[0m\u001b[0;34m\u001b[0m\u001b[0m\n\u001b[0;32m----> 7\u001b[0;31m     \u001b[0mplt\u001b[0m\u001b[0;34m.\u001b[0m\u001b[0msavefig\u001b[0m\u001b[0;34m(\u001b[0m\u001b[0mpath_data\u001b[0m \u001b[0;34m+\u001b[0m \u001b[0;34m'wrongImg/pos_{}.png'\u001b[0m\u001b[0;34m.\u001b[0m\u001b[0mformat\u001b[0m\u001b[0;34m(\u001b[0m\u001b[0mi\u001b[0m\u001b[0;34m)\u001b[0m\u001b[0;34m)\u001b[0m\u001b[0;34m\u001b[0m\u001b[0m\n\u001b[0m\u001b[1;32m      8\u001b[0m     \u001b[0mplt\u001b[0m\u001b[0;34m.\u001b[0m\u001b[0mshow\u001b[0m\u001b[0;34m(\u001b[0m\u001b[0;34m)\u001b[0m\u001b[0;34m\u001b[0m\u001b[0m\n",
      "\u001b[0;32m/opt/rh/miniconda/envs/ml_theano_keras/lib/python3.6/site-packages/matplotlib/pyplot.py\u001b[0m in \u001b[0;36msavefig\u001b[0;34m(*args, **kwargs)\u001b[0m\n\u001b[1;32m    695\u001b[0m \u001b[0;32mdef\u001b[0m \u001b[0msavefig\u001b[0m\u001b[0;34m(\u001b[0m\u001b[0;34m*\u001b[0m\u001b[0margs\u001b[0m\u001b[0;34m,\u001b[0m \u001b[0;34m**\u001b[0m\u001b[0mkwargs\u001b[0m\u001b[0;34m)\u001b[0m\u001b[0;34m:\u001b[0m\u001b[0;34m\u001b[0m\u001b[0m\n\u001b[1;32m    696\u001b[0m     \u001b[0mfig\u001b[0m \u001b[0;34m=\u001b[0m \u001b[0mgcf\u001b[0m\u001b[0;34m(\u001b[0m\u001b[0;34m)\u001b[0m\u001b[0;34m\u001b[0m\u001b[0m\n\u001b[0;32m--> 697\u001b[0;31m     \u001b[0mres\u001b[0m \u001b[0;34m=\u001b[0m \u001b[0mfig\u001b[0m\u001b[0;34m.\u001b[0m\u001b[0msavefig\u001b[0m\u001b[0;34m(\u001b[0m\u001b[0;34m*\u001b[0m\u001b[0margs\u001b[0m\u001b[0;34m,\u001b[0m \u001b[0;34m**\u001b[0m\u001b[0mkwargs\u001b[0m\u001b[0;34m)\u001b[0m\u001b[0;34m\u001b[0m\u001b[0m\n\u001b[0m\u001b[1;32m    698\u001b[0m     \u001b[0mfig\u001b[0m\u001b[0;34m.\u001b[0m\u001b[0mcanvas\u001b[0m\u001b[0;34m.\u001b[0m\u001b[0mdraw_idle\u001b[0m\u001b[0;34m(\u001b[0m\u001b[0;34m)\u001b[0m   \u001b[0;31m# need this if 'transparent=True' to reset colors\u001b[0m\u001b[0;34m\u001b[0m\u001b[0m\n\u001b[1;32m    699\u001b[0m     \u001b[0;32mreturn\u001b[0m \u001b[0mres\u001b[0m\u001b[0;34m\u001b[0m\u001b[0m\n",
      "\u001b[0;32m/opt/rh/miniconda/envs/ml_theano_keras/lib/python3.6/site-packages/matplotlib/figure.py\u001b[0m in \u001b[0;36msavefig\u001b[0;34m(self, *args, **kwargs)\u001b[0m\n\u001b[1;32m   1570\u001b[0m             \u001b[0mself\u001b[0m\u001b[0;34m.\u001b[0m\u001b[0mset_frameon\u001b[0m\u001b[0;34m(\u001b[0m\u001b[0mframeon\u001b[0m\u001b[0;34m)\u001b[0m\u001b[0;34m\u001b[0m\u001b[0m\n\u001b[1;32m   1571\u001b[0m \u001b[0;34m\u001b[0m\u001b[0m\n\u001b[0;32m-> 1572\u001b[0;31m         \u001b[0mself\u001b[0m\u001b[0;34m.\u001b[0m\u001b[0mcanvas\u001b[0m\u001b[0;34m.\u001b[0m\u001b[0mprint_figure\u001b[0m\u001b[0;34m(\u001b[0m\u001b[0;34m*\u001b[0m\u001b[0margs\u001b[0m\u001b[0;34m,\u001b[0m \u001b[0;34m**\u001b[0m\u001b[0mkwargs\u001b[0m\u001b[0;34m)\u001b[0m\u001b[0;34m\u001b[0m\u001b[0m\n\u001b[0m\u001b[1;32m   1573\u001b[0m \u001b[0;34m\u001b[0m\u001b[0m\n\u001b[1;32m   1574\u001b[0m         \u001b[0;32mif\u001b[0m \u001b[0mframeon\u001b[0m\u001b[0;34m:\u001b[0m\u001b[0;34m\u001b[0m\u001b[0m\n",
      "\u001b[0;32m/opt/rh/miniconda/envs/ml_theano_keras/lib/python3.6/site-packages/matplotlib/backend_bases.py\u001b[0m in \u001b[0;36mprint_figure\u001b[0;34m(self, filename, dpi, facecolor, edgecolor, orientation, format, **kwargs)\u001b[0m\n\u001b[1;32m   2242\u001b[0m                 \u001b[0morientation\u001b[0m\u001b[0;34m=\u001b[0m\u001b[0morientation\u001b[0m\u001b[0;34m,\u001b[0m\u001b[0;34m\u001b[0m\u001b[0m\n\u001b[1;32m   2243\u001b[0m                 \u001b[0mbbox_inches_restore\u001b[0m\u001b[0;34m=\u001b[0m\u001b[0m_bbox_inches_restore\u001b[0m\u001b[0;34m,\u001b[0m\u001b[0;34m\u001b[0m\u001b[0m\n\u001b[0;32m-> 2244\u001b[0;31m                 **kwargs)\n\u001b[0m\u001b[1;32m   2245\u001b[0m         \u001b[0;32mfinally\u001b[0m\u001b[0;34m:\u001b[0m\u001b[0;34m\u001b[0m\u001b[0m\n\u001b[1;32m   2246\u001b[0m             \u001b[0;32mif\u001b[0m \u001b[0mbbox_inches\u001b[0m \u001b[0;32mand\u001b[0m \u001b[0mrestore_bbox\u001b[0m\u001b[0;34m:\u001b[0m\u001b[0;34m\u001b[0m\u001b[0m\n",
      "\u001b[0;32m/opt/rh/miniconda/envs/ml_theano_keras/lib/python3.6/site-packages/matplotlib/backends/backend_agg.py\u001b[0m in \u001b[0;36mprint_png\u001b[0;34m(self, filename_or_obj, *args, **kwargs)\u001b[0m\n\u001b[1;32m    548\u001b[0m         \u001b[0mrenderer\u001b[0m\u001b[0;34m.\u001b[0m\u001b[0mdpi\u001b[0m \u001b[0;34m=\u001b[0m \u001b[0mself\u001b[0m\u001b[0;34m.\u001b[0m\u001b[0mfigure\u001b[0m\u001b[0;34m.\u001b[0m\u001b[0mdpi\u001b[0m\u001b[0;34m\u001b[0m\u001b[0m\n\u001b[1;32m    549\u001b[0m         \u001b[0;32mif\u001b[0m \u001b[0mis_string_like\u001b[0m\u001b[0;34m(\u001b[0m\u001b[0mfilename_or_obj\u001b[0m\u001b[0;34m)\u001b[0m\u001b[0;34m:\u001b[0m\u001b[0;34m\u001b[0m\u001b[0m\n\u001b[0;32m--> 550\u001b[0;31m             \u001b[0mfilename_or_obj\u001b[0m \u001b[0;34m=\u001b[0m \u001b[0mopen\u001b[0m\u001b[0;34m(\u001b[0m\u001b[0mfilename_or_obj\u001b[0m\u001b[0;34m,\u001b[0m \u001b[0;34m'wb'\u001b[0m\u001b[0;34m)\u001b[0m\u001b[0;34m\u001b[0m\u001b[0m\n\u001b[0m\u001b[1;32m    551\u001b[0m             \u001b[0mclose\u001b[0m \u001b[0;34m=\u001b[0m \u001b[0;32mTrue\u001b[0m\u001b[0;34m\u001b[0m\u001b[0m\n\u001b[1;32m    552\u001b[0m         \u001b[0;32melse\u001b[0m\u001b[0;34m:\u001b[0m\u001b[0;34m\u001b[0m\u001b[0m\n",
      "\u001b[0;31mFileNotFoundError\u001b[0m: [Errno 2] No such file or directory: '../Data/2017-09-15/167_165_163_200/wrongImg/pos_0.png'"
     ]
    },
    {
     "data": {
      "image/png": "[encoded data removed]",
      "text/plain": [
       "<matplotlib.figure.Figure at 0x7f3d29ee0b38>"
      ]
     },
     "metadata": {},
     "output_type": "display_data"
    }
   ],
   "source": [
    "## wrongly classified pics:\n",
    "\n",
    "for i, (pic,p) in enumerate(zip(img_pos_false[:], score_pos_false[:])):\n",
    "    plt.imshow(np.squeeze(pic), cmap='gray')\n",
    "    \n",
    "    plt.title('Score: {:}'.format(p))\n",
    "    plt.savefig(path_data + 'wrongImg/pos_{}.png'.format(i))\n",
    "    plt.show()"
   ]
  },
  {
   "cell_type": "code",
   "execution_count": 198,
   "metadata": {},
   "outputs": [
    {
     "data": {
      "image/png": "[encoded data removed]",
      "text/plain": [
       "<matplotlib.figure.Figure at 0x7f3c717ef2e8>"
      ]
     },
     "metadata": {},
     "output_type": "display_data"
    }
   ],
   "source": [
    "## wrongly classified pics:\n",
    "\n",
    "for i, (pic,p) in enumerate(zip(img_neg_false[:], score_neg_false[:])):\n",
    "    plt.imshow(np.squeeze(pic), cmap='gray')\n",
    "    \n",
    "    plt.title('Score: {:}'.format(p))\n",
    "    plt.savefig(path_data + 'wrongImg/neg_{}.png'.format(i))\n",
    "    plt.show()"
   ]
  },
  {
   "cell_type": "code",
   "execution_count": null,
   "metadata": {
    "collapsed": true
   },
   "outputs": [],
   "source": []
  }
 ],
 "metadata": {
  "kernelspec": {
   "display_name": "Python 3",
   "language": "python",
   "name": "python3"
  },
  "language_info": {
   "codemirror_mode": {
    "name": "ipython",
    "version": 3
   },
   "file_extension": ".py",
   "mimetype": "text/x-python",
   "name": "python",
   "nbconvert_exporter": "python",
   "pygments_lexer": "ipython3",
   "version": "3.6.1"
  }
 },
 "nbformat": 4,
 "nbformat_minor": 2
}
