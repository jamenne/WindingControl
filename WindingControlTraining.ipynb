{
 "cells": [
  {
   "cell_type": "code",
   "execution_count": 1,
   "metadata": {},
   "outputs": [
    {
     "name": "stderr",
     "output_type": "stream",
     "text": [
      "Using Theano backend.\n",
      "WARNING (theano.sandbox.cuda): The cuda backend is deprecated and will be removed in the next release (v0.10).  Please switch to the gpuarray backend. You can get more information about how to switch at this URL:\n",
      " https://github.com/Theano/Theano/wiki/Converting-to-the-new-gpu-back-end%28gpuarray%29\n",
      "\n",
      "Using gpu device 0: Tesla K40m (CNMeM is disabled, cuDNN 5110)\n"
     ]
    }
   ],
   "source": [
    "import numpy as np\n",
    "\n",
    "import matplotlib.image as mpimg\n",
    "import matplotlib.pyplot as plt\n",
    "import glob\n",
    "import os, os.path\n",
    "import keras\n",
    "import time\n",
    "import scipy.misc\n",
    "import scipy.ndimage\n",
    "\n",
    "from keras.models import Sequential, load_model\n",
    "from keras.layers import Conv2D, MaxPooling2D\n",
    "from keras.layers import Activation, Dropout, Flatten, Dense\n",
    "\n",
    "from keras.utils import np_utils\n",
    "from keras.optimizers import Adam\n",
    "from keras.callbacks import CSVLogger\n",
    "\n",
    "from keras import backend as K\n",
    "from keras.initializers import RandomUniform, RandomNormal\n",
    "\n",
    "from PIL import Image\n",
    "\n",
    "from tqdm import tqdm\n",
    "from datetime import datetime\n",
    "\n",
    "%matplotlib inline"
   ]
  },
  {
   "cell_type": "code",
   "execution_count": 2,
   "metadata": {
    "collapsed": true
   },
   "outputs": [],
   "source": [
    "# resolution of images\n",
    "\n",
    "h = 75\n",
    "w = 100"
   ]
  },
  {
   "cell_type": "code",
   "execution_count": 3,
   "metadata": {},
   "outputs": [
    {
     "name": "stdout",
     "output_type": "stream",
     "text": [
      "Size of positiv Sample: 8590\n",
      "Size of negativ Sample: 13846\n"
     ]
    }
   ],
   "source": [
    "#Creates list of positiv files\n",
    "positiv_list = glob.glob('/fhgfs/groups/e5/lhcb/detector/scifi/windingcontrol/Images_Sep17/pos/IMG_*.png')\n",
    "#Finds the number of positiv files\n",
    "positiv_len = len(positiv_list)\n",
    "print(\"Size of positiv Sample: {}\".format(positiv_len))\n",
    "\n",
    "#Same but for negativ files\n",
    "negativ_list = glob.glob('/fhgfs/groups/e5/lhcb/detector/scifi/windingcontrol/Images_Sep17/neg/IMG_*.png')\n",
    "negativ_len = len(negativ_list)\n",
    "print(\"Size of negativ Sample: {}\".format(negativ_len))"
   ]
  },
  {
   "cell_type": "code",
   "execution_count": 4,
   "metadata": {},
   "outputs": [
    {
     "name": "stderr",
     "output_type": "stream",
     "text": [
      "100%|██████████| 8590/8590 [02:49<00:00, 50.58it/s] \n",
      "100%|██████████| 8590/8590 [03:40<00:00, 31.45it/s]\n"
     ]
    }
   ],
   "source": [
    "X_posind = []\n",
    "X_negind = []\n",
    "X_posinu = []\n",
    "X_neginu = []\n",
    "X_posinl = []\n",
    "X_neginl = []\n",
    "X_posinr = []\n",
    "X_neginr = []\n",
    "\n",
    "X_pos = []\n",
    "X_neg = []\n",
    "\n",
    "for fname in tqdm(positiv_list):\n",
    "    img = scipy.misc.imresize(np.array(Image.open(fname)),(h,w))\n",
    "    \n",
    "    #X_posind.append(scipy.ndimage.interpolation.shift(img, (20,0), output=None, order=1, mode='nearest', cval=0.0, prefilter=True))\n",
    "    #X_posinu.append(scipy.ndimage.interpolation.shift(img, (-20,0), output=None, order=1, mode='nearest', cval=0.0, prefilter=True))\n",
    "    \n",
    "    #X_posinr.append(scipy.ndimage.interpolation.shift(img, (0,50), output=None, order=1, mode='reflect', cval=0.0, prefilter=True))\n",
    "    #X_posinl.append(scipy.ndimage.interpolation.shift(img, (0,-50), output=None, order=1, mode='reflect', cval=0.0, prefilter=True))\n",
    "    \n",
    "    X_pos.append(img) \n",
    "    \n",
    "# Random picking of neg images with the given ratio to the pos images\n",
    "ratio_pos_neg = 1\n",
    "    \n",
    "for fname in tqdm(np.random.choice(negativ_list, replace=False, size=int(len(X_pos) / ratio_pos_neg))):\n",
    "    img = scipy.misc.imresize(np.array(Image.open(fname)),(h,w))\n",
    "    \n",
    "    #X_negind.append(scipy.ndimage.interpolation.shift(img, (20,0), output=None, order=1, mode='nearest', cval=0.0, prefilter=True))\n",
    "    #X_neginu.append(scipy.ndimage.interpolation.shift(img, (-20,0), output=None, order=1, mode='nearest', cval=0.0, prefilter=True))\n",
    "    \n",
    "    #X_neginr.append(scipy.ndimage.interpolation.shift(img, (0,50), output=None, order=1, mode='reflect', cval=0.0, prefilter=True))\n",
    "    #X_neginl.append(scipy.ndimage.interpolation.shift(img, (0,-50), output=None, order=1, mode='reflect', cval=0.0, prefilter=True))\n",
    "    \n",
    "    X_neg.append(img)"
   ]
  },
  {
   "cell_type": "code",
   "execution_count": 5,
   "metadata": {
    "collapsed": true
   },
   "outputs": [],
   "source": [
    "X_posind = np.array(X_posind)\n",
    "X_negind = np.array(X_negind)\n",
    "X_posinu = np.array(X_posinu)\n",
    "X_neginu = np.array(X_neginu)\n",
    "X_posinl = np.array(X_posinl)\n",
    "X_neginl = np.array(X_neginl)\n",
    "X_posinr = np.array(X_posinr)\n",
    "X_neginr = np.array(X_neginr)\n",
    "X_pos = np.array(X_pos)\n",
    "X_neg = np.array(X_neg)"
   ]
  },
  {
   "cell_type": "code",
   "execution_count": 6,
   "metadata": {
    "collapsed": true
   },
   "outputs": [],
   "source": [
    "X_all = np.concatenate((X_pos, X_neg), axis=0)\n",
    "Y_all = np.concatenate( ( np.ones(len(X_pos)), np.zeros(len(X_neg)) ) , axis=0)\n",
    "#X_all_trans = np.concatenate((X_pos, X_posind, X_posinu, X_posinl, X_posinr, X_neg, X_negind, X_neginu, X_neginl, X_neginr), axis=0)\n",
    "#Y_all_trans = np_utils.to_categorical(np.concatenate((np.ones((5*positiv_len, 1)), np.zeros((5*negativ_len,1))), axis=0), 2)"
   ]
  },
  {
   "cell_type": "code",
   "execution_count": 7,
   "metadata": {},
   "outputs": [
    {
     "data": {
      "text/plain": [
       "(17180, 75, 100)"
      ]
     },
     "execution_count": 7,
     "metadata": {},
     "output_type": "execute_result"
    }
   ],
   "source": [
    "X_all.shape"
   ]
  },
  {
   "cell_type": "code",
   "execution_count": 8,
   "metadata": {},
   "outputs": [
    {
     "data": {
      "text/plain": [
       "(17180,)"
      ]
     },
     "execution_count": 8,
     "metadata": {},
     "output_type": "execute_result"
    }
   ],
   "source": [
    "Y_all.shape"
   ]
  },
  {
   "cell_type": "code",
   "execution_count": 9,
   "metadata": {
    "collapsed": true
   },
   "outputs": [],
   "source": [
    "#Shuffling the order of the input - required to avoid batches selecting only positive/negative images\n",
    "randomize = np.arange(len(X_all))\n",
    "np.random.shuffle(randomize)\n",
    "X_all = X_all[randomize]\n",
    "Y_all = Y_all[randomize]"
   ]
  },
  {
   "cell_type": "code",
   "execution_count": 10,
   "metadata": {
    "collapsed": true
   },
   "outputs": [],
   "source": [
    "# Check labeling of Data\n",
    "if False:\n",
    "    for i, img in enumerate(X_all[:200]):\n",
    "        plt.imshow(np.squeeze(img), cmap='gray')\n",
    "\n",
    "        name = \"Good img\" if Y_all[i] == 1 else \"Bad img\"\n",
    "        plt.title('{}.'.format(name))\n",
    "        plt.savefig('../Plots/TestImg/{}.png'.format(i))\n",
    "        if i%10 == 0:\n",
    "            print(\"10 written\")\n",
    "        i+=1"
   ]
  },
  {
   "cell_type": "code",
   "execution_count": 11,
   "metadata": {
    "collapsed": true
   },
   "outputs": [],
   "source": [
    "# Hold 5% back as training data\n",
    "train_split = int(0.05 * len(X_all))\n",
    "\n",
    "# Separate in Training and Testing Sample\n",
    "X_train = X_all[train_split:]\n",
    "Y_train = Y_all[train_split:]\n",
    "\n",
    "X_test = X_all[:train_split]\n",
    "Y_test = Y_all[:train_split]"
   ]
  },
  {
   "cell_type": "code",
   "execution_count": 12,
   "metadata": {
    "collapsed": true
   },
   "outputs": [],
   "source": [
    "# Check labeling of Data\n",
    "if False:\n",
    "    for i, img in enumerate(X_test[:100]):\n",
    "        plt.imshow(np.squeeze(img), cmap='gray')\n",
    "\n",
    "        name = \"Good img\" if Y_test[i] == 1 else \"Bad img\"\n",
    "        plt.title('{}.'.format(name))\n",
    "        plt.savefig('../Plots/TestImg/{}.png'.format(i))\n",
    "        if i%10 == 0:\n",
    "            print(\"10 written\")\n",
    "        i+=1"
   ]
  },
  {
   "cell_type": "code",
   "execution_count": 13,
   "metadata": {},
   "outputs": [
    {
     "name": "stdout",
     "output_type": "stream",
     "text": [
      "(16321, 75, 100, 1)\n",
      "(16321,)\n",
      "(859, 75, 100, 1)\n",
      "(859,)\n"
     ]
    }
   ],
   "source": [
    "X_train = X_train.reshape(X_train.shape[0], h, w, 1)\n",
    "X_test = X_test.reshape(X_test.shape[0], h, w, 1)\n",
    "\n",
    "#Shape check (NumberofImages, Height, Width, Depth)\n",
    "print(X_train.shape)\n",
    "print(Y_train.shape)\n",
    "print(X_test.shape)\n",
    "print(Y_test.shape)"
   ]
  },
  {
   "cell_type": "markdown",
   "metadata": {},
   "source": [
    "### Test with lower resolution"
   ]
  },
  {
   "cell_type": "code",
   "execution_count": 64,
   "metadata": {
    "collapsed": true
   },
   "outputs": [],
   "source": [
    "x_new = 30\n",
    "y_new = 40"
   ]
  },
  {
   "cell_type": "code",
   "execution_count": 65,
   "metadata": {
    "collapsed": true
   },
   "outputs": [],
   "source": [
    "X_all_30_40 = []\n",
    "for img in X_all:\n",
    "    X_all_30_40.append(scipy.misc.imresize(np.array(img),(x_new,y_new)))\n",
    "    \n",
    "X_all_30_40 = np.array(X_all_30_40)\n",
    "Y_all_30_40 = Y_all"
   ]
  },
  {
   "cell_type": "code",
   "execution_count": null,
   "metadata": {
    "collapsed": true
   },
   "outputs": [],
   "source": [
    "#Shuffling the order of the input - required to avoid batches selecting only positive/negative images\n",
    "randomize = np.arange(len(X_all))\n",
    "np.random.shuffle(randomize)\n",
    "X_all_30_40 = X_all_30_40[randomize]\n",
    "Y_all_30_40 = Y_all_30_40[randomize]"
   ]
  },
  {
   "cell_type": "code",
   "execution_count": null,
   "metadata": {
    "collapsed": true
   },
   "outputs": [],
   "source": [
    "# Hold 5% back as training data\n",
    "train_split = int(0.05 * len(X_all_30_40))\n",
    "\n",
    "# Separate in Training and Testing Sample\n",
    "X_train_30_40 = X_all_30_40[train_split:]\n",
    "Y_train_30_40 = Y_all_30_40[train_split:]\n",
    "\n",
    "X_test_30_40 = X_all_30_40[:train_split]\n",
    "Y_test_30_40 = Y_all_30_40[:train_split]"
   ]
  },
  {
   "cell_type": "code",
   "execution_count": null,
   "metadata": {
    "collapsed": true
   },
   "outputs": [],
   "source": [
    "X_train_30_40 = X_train_30_40.reshape(X_train_30_40.shape[0], x_new, y_new, 1)\n",
    "X_test_30_40 = X_test_30_40.reshape(X_test_30_40.shape[0], x_new, y_new, 1)"
   ]
  },
  {
   "cell_type": "markdown",
   "metadata": {},
   "source": [
    "# Data need to be normalised\n",
    "* Mean and StdDev for each pixel over whole data set"
   ]
  },
  {
   "cell_type": "code",
   "execution_count": 14,
   "metadata": {},
   "outputs": [
    {
     "data": {
      "text/plain": [
       "(16321, 75, 100, 1)"
      ]
     },
     "execution_count": 14,
     "metadata": {},
     "output_type": "execute_result"
    }
   ],
   "source": [
    "X_train.shape"
   ]
  },
  {
   "cell_type": "code",
   "execution_count": 15,
   "metadata": {
    "collapsed": true
   },
   "outputs": [],
   "source": [
    "means = np.mean(X_train, axis=0)\n",
    "stds = np.std(X_train, axis=0)\n",
    "\n",
    "#means_30_40 = np.mean(X_train_30_40, axis=0)\n",
    "#stds_30_40 = np.std(X_train_30_40, axis=0)"
   ]
  },
  {
   "cell_type": "code",
   "execution_count": 16,
   "metadata": {},
   "outputs": [
    {
     "name": "stdout",
     "output_type": "stream",
     "text": [
      "(75, 100, 1)\n",
      "(75, 100, 1)\n"
     ]
    }
   ],
   "source": [
    "print(means.shape)\n",
    "print(stds.shape)\n",
    "#print(means_30_40.shape)\n",
    "#print(stds_30_40.shape)"
   ]
  },
  {
   "cell_type": "code",
   "execution_count": 17,
   "metadata": {},
   "outputs": [
    {
     "name": "stdout",
     "output_type": "stream",
     "text": [
      "Created path: ../TrainedModels/2017-09-15/MeansStdDev/\n"
     ]
    }
   ],
   "source": [
    "path_meanstd = '../TrainedModels/' + str(datetime.now().strftime('%Y-%m-%d')) + '/MeansStdDev/'\n",
    "\n",
    "if not os.path.exists(path_meanstd):\n",
    "    os.makedirs(path_meanstd)\n",
    "    print('Created path: {}'.format(path_meanstd))\n",
    "                                            \n",
    "#np.savetxt('../Data/Means_30_40.txt', means_30_40)\n",
    "#np.savetxt('../Data/StdDev_30_40.txt', stds_30_40)\n",
    "np.savetxt(path_meanstd +'Means_' +  str(datetime.now().strftime('%Y-%m-%d_%H-%M-%S')) +  '.txt', means)\n",
    "np.savetxt(path_meanstd +'StdDev_' +  str(datetime.now().strftime('%Y-%m-%d_%H-%M-%S')) +  '.txt', stds)"
   ]
  },
  {
   "cell_type": "code",
   "execution_count": 18,
   "metadata": {},
   "outputs": [
    {
     "data": {
      "image/png": "[encoded data removed]",
      "text/plain": [
       "<matplotlib.figure.Figure at 0x7f3d39a60e48>"
      ]
     },
     "metadata": {},
     "output_type": "display_data"
    }
   ],
   "source": [
    "plt.imshow(np.squeeze(means), cmap='gray')\n",
    "plt.savefig(path_meanstd + 'MeanImg' +  str(datetime.now().strftime('%Y-%m-%d_%H-%M-%S')) + '.png')"
   ]
  },
  {
   "cell_type": "code",
   "execution_count": 19,
   "metadata": {},
   "outputs": [
    {
     "data": {
      "image/png": "[encoded data removed]",
      "text/plain": [
       "<matplotlib.figure.Figure at 0x7f3d39a609b0>"
      ]
     },
     "metadata": {},
     "output_type": "display_data"
    }
   ],
   "source": [
    "plt.imshow(np.squeeze(stds), cmap='gray')\n",
    "plt.savefig(path_meanstd + 'StdImg' +  str(datetime.now().strftime('%Y-%m-%d_%H-%M-%S')) + '.png')"
   ]
  },
  {
   "cell_type": "code",
   "execution_count": 20,
   "metadata": {
    "collapsed": true
   },
   "outputs": [],
   "source": [
    "X_train_norm = np.array([(img-means)/stds for img in X_train])\n",
    "X_test_norm = np.array([(img-means)/stds for img in X_test])"
   ]
  },
  {
   "cell_type": "code",
   "execution_count": null,
   "metadata": {
    "collapsed": true
   },
   "outputs": [],
   "source": [
    "#X_train_30_40_norm = np.array([(img-means_30_40)/stds_30_40 for img in X_train_30_40])\n",
    "#X_test_30_40_norm = np.array([(img-means_30_40)/stds_30_40 for img in X_test_30_40])"
   ]
  },
  {
   "cell_type": "markdown",
   "metadata": {},
   "source": [
    "# Let the training begin..."
   ]
  },
  {
   "cell_type": "code",
   "execution_count": 21,
   "metadata": {
    "collapsed": true
   },
   "outputs": [],
   "source": [
    "## Class to get loss and accuracy during training of NN\n",
    "\n",
    "class LossHistory(keras.callbacks.Callback):\n",
    "    def on_train_begin(self, logs={}):\n",
    "        self.losses = []\n",
    "        self.accuracy = []\n",
    "    def on_batch_end(self, batch, logs={}):\n",
    "        self.losses.append(logs.get('loss'))\n",
    "        self.accuracy.append(logs.get('acc'))"
   ]
  },
  {
   "cell_type": "code",
   "execution_count": 22,
   "metadata": {
    "collapsed": true
   },
   "outputs": [],
   "source": [
    "input_shape= (h,w,1)\n",
    "#input_shape_30_40= (x_new,y_new,1)"
   ]
  },
  {
   "cell_type": "markdown",
   "metadata": {
    "collapsed": true
   },
   "source": [
    "* initializer need to have mean = 0 and std 1/input_shape\n",
    "* for successive layers output shape of previous layer will declare this"
   ]
  },
  {
   "cell_type": "code",
   "execution_count": 23,
   "metadata": {
    "collapsed": true
   },
   "outputs": [],
   "source": [
    "path_model = '../TrainedModels/' + str(datetime.now().strftime('%Y-%m-%d')) + '/'\n",
    "\n",
    "if not os.path.exists(path_model):\n",
    "    os.makedirs(path_model)\n",
    "    print('Created path: {}'.format(path_model))"
   ]
  },
  {
   "cell_type": "code",
   "execution_count": 174,
   "metadata": {
    "collapsed": true
   },
   "outputs": [],
   "source": [
    "model = Sequential()\n",
    "\n",
    "# First Convolutional layer initialised with random input weights\n",
    "model.add(Conv2D(16, (5,5), kernel_initializer=RandomNormal(mean=0, stddev=1/(h*w)), padding='valid', input_shape=input_shape, activation='selu'))\n",
    "# Reduce size a bit\n",
    "model.add(MaxPooling2D(pool_size=(2,2)))\n",
    "mult_shape1 = np.prod(model.layers[1].output_shape[1:])\n",
    "\n",
    "# Second Convolutional layer\n",
    "model.add(Conv2D(16, (5,5), kernel_initializer=RandomNormal(mean=0, stddev=1/mult_shape1), padding='valid', activation='selu'))\n",
    "# Reduce size a bit\n",
    "model.add(MaxPooling2D(pool_size=(2,2)))\n",
    "mult_shape2 = np.prod(model.layers[3].output_shape[1:])\n",
    "\n",
    "# Third Convolutional layer\n",
    "model.add(Conv2D(16, (3,3), kernel_initializer=RandomNormal(mean=0, stddev=1/mult_shape2), padding='valid', activation='selu'))\n",
    "# Reduce size a bit\n",
    "model.add(MaxPooling2D(pool_size=(2,2)))\n",
    "\n",
    "#Converting the 2D images to 1D vectors\n",
    "model.add(Flatten())  \n",
    "mult_shape3 = np.prod(model.layers[6].output_shape[1:])\n",
    "\n",
    "# First Fully connected layer\n",
    "model.add(Dense(200, activation='selu', kernel_initializer=RandomNormal(mean=0, stddev=1/mult_shape3)))\n",
    "model.add(Dropout(0.2))\n",
    "mult_shape4 = np.prod(model.layers[8].output_shape[1:])\n",
    "\n",
    "#model.add(Dense(200, activation='selu', kernel_initializer=RandomNormal(mean=0, stddev=1/mult_shape4)))\n",
    "#model.add(Dropout(0.2))\n",
    "#mult_shape5 = np.prod(model.layers[10].output_shape[1:])\n",
    "\n",
    "#Output layer\n",
    "model.add(Dense(1, activation='sigmoid', kernel_initializer=RandomNormal(mean=0, stddev=1/mult_shape4)))"
   ]
  },
  {
   "cell_type": "code",
   "execution_count": 175,
   "metadata": {
    "collapsed": true
   },
   "outputs": [],
   "source": [
    "name='165_165_163_200'"
   ]
  },
  {
   "cell_type": "code",
   "execution_count": 176,
   "metadata": {
    "scrolled": false
   },
   "outputs": [
    {
     "name": "stdout",
     "output_type": "stream",
     "text": [
      "_________________________________________________________________\n",
      "Layer (type)                 Output Shape              Param #   \n",
      "=================================================================\n",
      "conv2d_20 (Conv2D)           (None, 71, 96, 16)        416       \n",
      "_________________________________________________________________\n",
      "max_pooling2d_20 (MaxPooling (None, 35, 48, 16)        0         \n",
      "_________________________________________________________________\n",
      "conv2d_21 (Conv2D)           (None, 31, 44, 16)        6416      \n",
      "_________________________________________________________________\n",
      "max_pooling2d_21 (MaxPooling (None, 15, 22, 16)        0         \n",
      "_________________________________________________________________\n",
      "conv2d_22 (Conv2D)           (None, 13, 20, 16)        2320      \n",
      "_________________________________________________________________\n",
      "max_pooling2d_22 (MaxPooling (None, 6, 10, 16)         0         \n",
      "_________________________________________________________________\n",
      "flatten_8 (Flatten)          (None, 960)               0         \n",
      "_________________________________________________________________\n",
      "dense_21 (Dense)             (None, 200)               192200    \n",
      "_________________________________________________________________\n",
      "dropout_14 (Dropout)         (None, 200)               0         \n",
      "_________________________________________________________________\n",
      "dense_22 (Dense)             (None, 1)                 201       \n",
      "=================================================================\n",
      "Total params: 201,553\n",
      "Trainable params: 201,553\n",
      "Non-trainable params: 0\n",
      "_________________________________________________________________\n",
      "Created path: ../Data/2017-09-16/165_165_163_200/\n"
     ]
    }
   ],
   "source": [
    "model.summary()\n",
    "\n",
    "path_data = '../Data/{}/{}/'.format(str(datetime.now().strftime('%Y-%m-%d')), name )\n",
    "\n",
    "if not os.path.exists(path_data):\n",
    "    os.makedirs(path_data)\n",
    "    print('Created path: {}'.format(path_data))\n",
    "\n",
    "# Open the file\n",
    "with open(path_data + 'ModelSummary.txt','w') as fh:\n",
    "    # Pass the file handle in as a lambda function to make it callable\n",
    "    model.summary(print_fn=lambda x: fh.write(x + '\\n'))"
   ]
  },
  {
   "cell_type": "code",
   "execution_count": 177,
   "metadata": {
    "collapsed": true
   },
   "outputs": [],
   "source": [
    "#Defining optimiser and compiling the model\n",
    "\n",
    "model.compile(loss='binary_crossentropy', # using the cross-entropy loss function\n",
    "              optimizer=Adam(lr=0.001, beta_1=0.9, beta_2=0.999, epsilon=1e-08, decay=0.0),\n",
    "              metrics=['accuracy'])\n",
    "\n",
    "history = LossHistory()"
   ]
  },
  {
   "cell_type": "code",
   "execution_count": 178,
   "metadata": {
    "collapsed": true
   },
   "outputs": [],
   "source": [
    "# if you want to continue a training\n",
    "if False:\n",
    "    model = load_model('../TrainedModels/2017-09-09/169_167_200_200_selu_100epochs.h5')"
   ]
  },
  {
   "cell_type": "code",
   "execution_count": 179,
   "metadata": {
    "scrolled": false
   },
   "outputs": [
    {
     "name": "stdout",
     "output_type": "stream",
     "text": [
      "Train on 15504 samples, validate on 817 samples\n",
      "Epoch 1/100\n",
      "15504/15504 [==============================] - 53s - loss: 0.6087 - acc: 0.6604 - val_loss: 0.5449 - val_acc: 0.7099\n",
      "Epoch 2/100\n",
      "15504/15504 [==============================] - 54s - loss: 0.4931 - acc: 0.7620 - val_loss: 0.4903 - val_acc: 0.7319\n",
      "Epoch 3/100\n",
      "15504/15504 [==============================] - 53s - loss: 0.4049 - acc: 0.8148 - val_loss: 0.3526 - val_acc: 0.8433\n",
      "Epoch 4/100\n",
      "15504/15504 [==============================] - 53s - loss: 0.3239 - acc: 0.8594 - val_loss: 0.2911 - val_acc: 0.8727\n",
      "Epoch 5/100\n",
      "15504/15504 [==============================] - 53s - loss: 0.2266 - acc: 0.9097 - val_loss: 0.1792 - val_acc: 0.9388\n",
      "Epoch 6/100\n",
      "15504/15504 [==============================] - 53s - loss: 0.1581 - acc: 0.9410 - val_loss: 0.1150 - val_acc: 0.9657\n",
      "Epoch 7/100\n",
      "15504/15504 [==============================] - 53s - loss: 0.1018 - acc: 0.9649 - val_loss: 0.0862 - val_acc: 0.9694\n",
      "Epoch 8/100\n",
      "15504/15504 [==============================] - 52s - loss: 0.0745 - acc: 0.9754 - val_loss: 0.0921 - val_acc: 0.9682\n",
      "Epoch 9/100\n",
      "15504/15504 [==============================] - 52s - loss: 0.0598 - acc: 0.9796 - val_loss: 0.0815 - val_acc: 0.9743\n",
      "Epoch 10/100\n",
      "15504/15504 [==============================] - 52s - loss: 0.0462 - acc: 0.9844 - val_loss: 0.0668 - val_acc: 0.9853\n",
      "Epoch 11/100\n",
      "15504/15504 [==============================] - 52s - loss: 0.0432 - acc: 0.9849 - val_loss: 0.0402 - val_acc: 0.9878\n",
      "Epoch 12/100\n",
      "15504/15504 [==============================] - 52s - loss: 0.0293 - acc: 0.9907 - val_loss: 0.0419 - val_acc: 0.9914\n",
      "Epoch 13/100\n",
      "15504/15504 [==============================] - 53s - loss: 0.0204 - acc: 0.9938 - val_loss: 0.0328 - val_acc: 0.9890\n",
      "Epoch 14/100\n",
      "15504/15504 [==============================] - 53s - loss: 0.0181 - acc: 0.9942 - val_loss: 0.0416 - val_acc: 0.9865\n",
      "Epoch 15/100\n",
      "15504/15504 [==============================] - 52s - loss: 0.0204 - acc: 0.9931 - val_loss: 0.0413 - val_acc: 0.9902\n",
      "Epoch 16/100\n",
      "15504/15504 [==============================] - 52s - loss: 0.0177 - acc: 0.9946 - val_loss: 0.0217 - val_acc: 0.9927\n",
      "Epoch 17/100\n",
      "15504/15504 [==============================] - 52s - loss: 0.0105 - acc: 0.9970 - val_loss: 0.0175 - val_acc: 0.9939\n",
      "Epoch 18/100\n",
      "15504/15504 [==============================] - 52s - loss: 0.0113 - acc: 0.9959 - val_loss: 0.0187 - val_acc: 0.9939\n",
      "Epoch 19/100\n",
      "15504/15504 [==============================] - 52s - loss: 0.0081 - acc: 0.9972 - val_loss: 0.0189 - val_acc: 0.9939\n",
      "Epoch 20/100\n",
      "15504/15504 [==============================] - 52s - loss: 0.0087 - acc: 0.9970 - val_loss: 0.0367 - val_acc: 0.9914\n",
      "Epoch 21/100\n",
      "15504/15504 [==============================] - 52s - loss: 0.0080 - acc: 0.9974 - val_loss: 0.0122 - val_acc: 0.9976\n",
      "Epoch 22/100\n",
      "15504/15504 [==============================] - 52s - loss: 0.0077 - acc: 0.9976 - val_loss: 0.0082 - val_acc: 0.9963\n",
      "Epoch 23/100\n",
      "15504/15504 [==============================] - 52s - loss: 0.0047 - acc: 0.9983 - val_loss: 0.0222 - val_acc: 0.9927\n",
      "Epoch 24/100\n",
      "15504/15504 [==============================] - 52s - loss: 0.0083 - acc: 0.9972 - val_loss: 0.0236 - val_acc: 0.9927\n",
      "Epoch 25/100\n",
      "15504/15504 [==============================] - 52s - loss: 0.0230 - acc: 0.9928 - val_loss: 0.0165 - val_acc: 0.9939\n",
      "Epoch 26/100\n",
      "15504/15504 [==============================] - 53s - loss: 0.0116 - acc: 0.9960 - val_loss: 0.0158 - val_acc: 0.9963\n",
      "Epoch 27/100\n",
      "15504/15504 [==============================] - 53s - loss: 0.0052 - acc: 0.9981 - val_loss: 0.0047 - val_acc: 0.9976\n",
      "Epoch 28/100\n",
      "15504/15504 [==============================] - 53s - loss: 0.0020 - acc: 0.9994 - val_loss: 0.0136 - val_acc: 0.9951\n",
      "Epoch 29/100\n",
      "15504/15504 [==============================] - 52s - loss: 7.5478e-04 - acc: 0.9999 - val_loss: 0.0164 - val_acc: 0.9951\n",
      "Epoch 30/100\n",
      "15504/15504 [==============================] - 52s - loss: 5.2769e-04 - acc: 0.9999 - val_loss: 0.0165 - val_acc: 0.9963\n",
      "Epoch 31/100\n",
      "15504/15504 [==============================] - 53s - loss: 5.5742e-04 - acc: 0.9998 - val_loss: 0.0174 - val_acc: 0.9963\n",
      "Epoch 32/100\n",
      "15504/15504 [==============================] - 53s - loss: 0.0016 - acc: 0.9997 - val_loss: 0.0176 - val_acc: 0.9963\n",
      "Epoch 33/100\n",
      "15504/15504 [==============================] - 53s - loss: 0.0057 - acc: 0.9981 - val_loss: 0.0237 - val_acc: 0.9890\n",
      "Epoch 34/100\n",
      "15504/15504 [==============================] - 53s - loss: 0.0221 - acc: 0.9926 - val_loss: 0.0221 - val_acc: 0.9927\n",
      "Epoch 35/100\n",
      "15504/15504 [==============================] - 53s - loss: 0.0086 - acc: 0.9973 - val_loss: 0.0271 - val_acc: 0.9963\n",
      "Epoch 36/100\n",
      "15504/15504 [==============================] - 53s - loss: 0.0091 - acc: 0.9970 - val_loss: 0.0073 - val_acc: 0.9963\n",
      "Epoch 37/100\n",
      "15504/15504 [==============================] - 53s - loss: 0.0012 - acc: 0.9997 - val_loss: 0.0075 - val_acc: 0.9976\n",
      "Epoch 38/100\n",
      "15504/15504 [==============================] - 53s - loss: 4.1674e-04 - acc: 0.9999 - val_loss: 0.0244 - val_acc: 0.9963\n",
      "Epoch 39/100\n",
      "15504/15504 [==============================] - 53s - loss: 0.0017 - acc: 0.9994 - val_loss: 0.0245 - val_acc: 0.9927\n",
      "Epoch 40/100\n",
      "15504/15504 [==============================] - 52s - loss: 0.0046 - acc: 0.9985 - val_loss: 0.0133 - val_acc: 0.9963\n",
      "Epoch 41/100\n",
      "15504/15504 [==============================] - 53s - loss: 0.0023 - acc: 0.9990 - val_loss: 0.0116 - val_acc: 0.9988\n",
      "Epoch 42/100\n",
      "15504/15504 [==============================] - 53s - loss: 0.0114 - acc: 0.9969 - val_loss: 0.0120 - val_acc: 0.9963\n",
      "Epoch 43/100\n",
      "15504/15504 [==============================] - 53s - loss: 0.0095 - acc: 0.9968 - val_loss: 0.0174 - val_acc: 0.9963\n",
      "Epoch 44/100\n",
      "15504/15504 [==============================] - 53s - loss: 0.0073 - acc: 0.9977 - val_loss: 0.0326 - val_acc: 0.9927\n",
      "Epoch 45/100\n",
      "15504/15504 [==============================] - 53s - loss: 0.0059 - acc: 0.9983 - val_loss: 0.0154 - val_acc: 0.9951\n",
      "Epoch 46/100\n",
      "15504/15504 [==============================] - 53s - loss: 0.0027 - acc: 0.9993 - val_loss: 0.0151 - val_acc: 0.9963\n",
      "Epoch 47/100\n",
      "15504/15504 [==============================] - 53s - loss: 6.4768e-04 - acc: 0.9998 - val_loss: 0.0128 - val_acc: 0.9963\n",
      "Epoch 48/100\n",
      "15504/15504 [==============================] - 53s - loss: 2.6018e-04 - acc: 0.9999 - val_loss: 0.0052 - val_acc: 0.9988\n",
      "Epoch 49/100\n",
      "15504/15504 [==============================] - 53s - loss: 0.0022 - acc: 0.9995 - val_loss: 0.0087 - val_acc: 0.9988\n",
      "Epoch 50/100\n",
      "15504/15504 [==============================] - 53s - loss: 0.0151 - acc: 0.9961 - val_loss: 0.0158 - val_acc: 0.9976\n",
      "Epoch 51/100\n",
      "15504/15504 [==============================] - 53s - loss: 0.0026 - acc: 0.9991 - val_loss: 0.0120 - val_acc: 0.9976\n",
      "Epoch 52/100\n",
      "15504/15504 [==============================] - 53s - loss: 8.7181e-04 - acc: 0.9997 - val_loss: 0.0033 - val_acc: 0.9988\n",
      "Epoch 53/100\n",
      "15504/15504 [==============================] - 53s - loss: 9.1483e-04 - acc: 0.9997 - val_loss: 0.0084 - val_acc: 0.9963\n",
      "Epoch 54/100\n",
      "15504/15504 [==============================] - 53s - loss: 0.0041 - acc: 0.9990 - val_loss: 0.0105 - val_acc: 0.9951\n",
      "Epoch 55/100\n",
      "15504/15504 [==============================] - 53s - loss: 0.0102 - acc: 0.9969 - val_loss: 0.0414 - val_acc: 0.9890\n",
      "Epoch 56/100\n",
      "15504/15504 [==============================] - 53s - loss: 0.0059 - acc: 0.9985 - val_loss: 0.0117 - val_acc: 0.9963\n",
      "Epoch 57/100\n",
      "15504/15504 [==============================] - 53s - loss: 0.0020 - acc: 0.9992 - val_loss: 0.0139 - val_acc: 0.9963\n",
      "Epoch 58/100\n",
      "15504/15504 [==============================] - 53s - loss: 8.2025e-04 - acc: 0.9997 - val_loss: 0.0190 - val_acc: 0.9976\n",
      "Epoch 59/100\n",
      "15504/15504 [==============================] - 53s - loss: 9.8178e-04 - acc: 0.9997 - val_loss: 0.0040 - val_acc: 0.9976\n",
      "Epoch 60/100\n",
      "15504/15504 [==============================] - 53s - loss: 0.0024 - acc: 0.9993 - val_loss: 0.0239 - val_acc: 0.9927\n",
      "Epoch 61/100\n",
      "15504/15504 [==============================] - 53s - loss: 0.0104 - acc: 0.9969 - val_loss: 0.0657 - val_acc: 0.9853\n",
      "Epoch 62/100\n",
      "15504/15504 [==============================] - 52s - loss: 0.0118 - acc: 0.9969 - val_loss: 0.0121 - val_acc: 0.9939\n",
      "Epoch 63/100\n"
     ]
    },
    {
     "name": "stdout",
     "output_type": "stream",
     "text": [
      "15504/15504 [==============================] - 52s - loss: 0.0034 - acc: 0.9994 - val_loss: 0.0044 - val_acc: 0.9976\n",
      "Epoch 64/100\n",
      "15504/15504 [==============================] - 52s - loss: 3.2671e-04 - acc: 0.9999 - val_loss: 0.0057 - val_acc: 0.9988\n",
      "Epoch 65/100\n",
      "15504/15504 [==============================] - 52s - loss: 1.8153e-04 - acc: 0.9999 - val_loss: 0.0048 - val_acc: 0.9988\n",
      "Epoch 66/100\n",
      "15504/15504 [==============================] - 52s - loss: 2.8726e-04 - acc: 0.9999 - val_loss: 0.0092 - val_acc: 0.9988\n",
      "Epoch 67/100\n",
      "15504/15504 [==============================] - 53s - loss: 9.9190e-05 - acc: 1.0000 - val_loss: 0.0117 - val_acc: 0.9976\n",
      "Epoch 68/100\n",
      "15504/15504 [==============================] - 53s - loss: 3.1546e-05 - acc: 1.0000 - val_loss: 0.0070 - val_acc: 0.9988\n",
      "Epoch 69/100\n",
      "15504/15504 [==============================] - 53s - loss: 3.0339e-05 - acc: 1.0000 - val_loss: 0.0093 - val_acc: 0.9988\n",
      "Epoch 70/100\n",
      "15504/15504 [==============================] - 53s - loss: 3.6836e-05 - acc: 1.0000 - val_loss: 0.0149 - val_acc: 0.9963\n",
      "Epoch 71/100\n",
      "15504/15504 [==============================] - 53s - loss: 6.4370e-05 - acc: 1.0000 - val_loss: 0.0166 - val_acc: 0.9988\n",
      "Epoch 72/100\n",
      "15504/15504 [==============================] - 53s - loss: 0.0406 - acc: 0.9917 - val_loss: 0.0962 - val_acc: 0.9841\n",
      "Epoch 73/100\n",
      "15504/15504 [==============================] - 53s - loss: 0.0135 - acc: 0.9972 - val_loss: 0.0242 - val_acc: 0.9976\n",
      "Epoch 74/100\n",
      "15504/15504 [==============================] - 53s - loss: 0.0020 - acc: 0.9993 - val_loss: 0.0225 - val_acc: 0.9976\n",
      "Epoch 75/100\n",
      "15504/15504 [==============================] - 53s - loss: 2.0320e-04 - acc: 0.9999 - val_loss: 0.0238 - val_acc: 0.9963\n",
      "Epoch 76/100\n",
      "15504/15504 [==============================] - 53s - loss: 1.9245e-04 - acc: 0.9999 - val_loss: 0.0169 - val_acc: 0.9963\n",
      "Epoch 77/100\n",
      "15504/15504 [==============================] - 53s - loss: 0.0017 - acc: 0.9995 - val_loss: 0.0292 - val_acc: 0.9939\n",
      "Epoch 78/100\n",
      "15504/15504 [==============================] - 53s - loss: 0.0031 - acc: 0.9990 - val_loss: 0.0166 - val_acc: 0.9988\n",
      "Epoch 79/100\n",
      "15504/15504 [==============================] - 53s - loss: 0.0048 - acc: 0.9986 - val_loss: 0.0116 - val_acc: 0.9963\n",
      "Epoch 80/100\n",
      "15504/15504 [==============================] - 53s - loss: 6.5297e-04 - acc: 0.9999 - val_loss: 0.0034 - val_acc: 0.9976\n",
      "Epoch 81/100\n",
      "15504/15504 [==============================] - 52s - loss: 3.7515e-05 - acc: 1.0000 - val_loss: 0.0068 - val_acc: 0.9976\n",
      "Epoch 82/100\n",
      "15504/15504 [==============================] - 52s - loss: 0.0017 - acc: 0.9994 - val_loss: 0.0120 - val_acc: 0.9976\n",
      "Epoch 83/100\n",
      "15504/15504 [==============================] - 52s - loss: 0.0225 - acc: 0.9952 - val_loss: 0.0505 - val_acc: 0.9927\n",
      "Epoch 84/100\n",
      "15504/15504 [==============================] - 52s - loss: 0.0182 - acc: 0.9966 - val_loss: 0.0076 - val_acc: 0.9976\n",
      "Epoch 85/100\n",
      "15504/15504 [==============================] - 52s - loss: 0.0032 - acc: 0.9990 - val_loss: 0.0051 - val_acc: 0.9988\n",
      "Epoch 86/100\n",
      "15504/15504 [==============================] - 53s - loss: 0.0016 - acc: 0.9995 - val_loss: 0.0042 - val_acc: 0.9976\n",
      "Epoch 87/100\n",
      "15504/15504 [==============================] - 53s - loss: 1.0230e-04 - acc: 1.0000 - val_loss: 0.0032 - val_acc: 0.9988\n",
      "Epoch 88/100\n",
      "15504/15504 [==============================] - 53s - loss: 5.8896e-05 - acc: 1.0000 - val_loss: 0.0104 - val_acc: 0.9976\n",
      "Epoch 89/100\n",
      "15504/15504 [==============================] - 53s - loss: 1.5563e-04 - acc: 0.9999 - val_loss: 0.0054 - val_acc: 0.9988\n",
      "Epoch 90/100\n",
      "15504/15504 [==============================] - 53s - loss: 0.0016 - acc: 0.9996 - val_loss: 0.0142 - val_acc: 0.9976\n",
      "Epoch 91/100\n",
      "15504/15504 [==============================] - 53s - loss: 3.3531e-04 - acc: 0.9998 - val_loss: 0.0215 - val_acc: 0.9976\n",
      "Epoch 92/100\n",
      "15504/15504 [==============================] - 53s - loss: 0.0010 - acc: 0.9997 - val_loss: 0.0021 - val_acc: 0.9988\n",
      "Epoch 93/100\n",
      "15504/15504 [==============================] - 53s - loss: 0.0197 - acc: 0.9965 - val_loss: 0.0302 - val_acc: 0.9963\n",
      "Epoch 94/100\n",
      "15504/15504 [==============================] - 53s - loss: 0.0037 - acc: 0.9990 - val_loss: 0.0313 - val_acc: 0.9951\n",
      "Epoch 95/100\n",
      "15504/15504 [==============================] - 53s - loss: 0.0103 - acc: 0.9979 - val_loss: 0.0035 - val_acc: 0.9988\n",
      "Epoch 96/100\n",
      "15504/15504 [==============================] - 52s - loss: 0.0020 - acc: 0.9995 - val_loss: 0.0061 - val_acc: 0.9988\n",
      "Epoch 97/100\n",
      "15504/15504 [==============================] - 52s - loss: 0.0021 - acc: 0.9995 - val_loss: 5.5159e-04 - val_acc: 1.0000\n",
      "Epoch 98/100\n",
      "15504/15504 [==============================] - 52s - loss: 5.5772e-05 - acc: 1.0000 - val_loss: 7.3165e-04 - val_acc: 1.0000\n",
      "Epoch 99/100\n",
      "15504/15504 [==============================] - 52s - loss: 9.1068e-05 - acc: 0.9999 - val_loss: 6.0640e-04 - val_acc: 1.0000\n",
      "Epoch 100/100\n",
      "15504/15504 [==============================] - 52s - loss: 1.9470e-04 - acc: 0.9999 - val_loss: 0.0012 - val_acc: 1.0000\n",
      "Model has accuracy: 99.7671711292 %\n"
     ]
    }
   ],
   "source": [
    "model.fit(X_train_norm, Y_train,  batch_size=76, epochs=100, verbose=1, validation_split = 0.05, callbacks=[history])\n",
    "\n",
    "#Evaluating trained model on test images\n",
    "score = model.evaluate(X_test_norm, Y_test, verbose=0)\n",
    "print('Model has accuracy:', score[1]*100,'%')"
   ]
  },
  {
   "cell_type": "code",
   "execution_count": 180,
   "metadata": {
    "collapsed": true
   },
   "outputs": [],
   "source": [
    "#To save trained NN - USE DIFFERENT NAME FOR NEW NETWORK\n",
    "model.save(path_model + name + '.h5')"
   ]
  },
  {
   "cell_type": "code",
   "execution_count": 181,
   "metadata": {
    "collapsed": true
   },
   "outputs": [],
   "source": [
    "np.savetxt(path_model + name + '_TrainingData.txt', np.transpose([history.accuracy, history.losses]))"
   ]
  },
  {
   "cell_type": "markdown",
   "metadata": {},
   "source": [
    "### Accuracy and Losss during training"
   ]
  },
  {
   "cell_type": "code",
   "execution_count": 185,
   "metadata": {},
   "outputs": [
    {
     "data": {
      "image/png": "[encoded data removed]",
      "text/plain": [
       "<matplotlib.figure.Figure at 0x7f3cd50d82b0>"
      ]
     },
     "metadata": {},
     "output_type": "display_data"
    }
   ],
   "source": [
    "accuracy = np.array(history.accuracy)\n",
    "losses = np.array(history.losses)\n",
    "\n",
    "fig, ax = plt.subplots(2, sharex=True)\n",
    "\n",
    "every_item = 100\n",
    "\n",
    "ax[0].plot(accuracy[::every_item], color = 'b', marker='', ls='-')\n",
    "ax[1].plot(losses[::every_item], color = 'm', marker='', ls='-')\n",
    "\n",
    "ax[1].set_xlabel('batch number')\n",
    "ax[0].set_ylabel('accuracy')\n",
    "ax[1].set_ylabel('loss')\n",
    "\n",
    "#ax[1].set_yscale('log')\n",
    "\n",
    "ax[0].set_title(name)\n",
    "\n",
    "plt.tight_layout()\n",
    "plt.savefig(path_data + '/LossAcc::{}.png'.format(every_item))"
   ]
  },
  {
   "cell_type": "markdown",
   "metadata": {},
   "source": [
    "### Score Distributions"
   ]
  },
  {
   "cell_type": "code",
   "execution_count": 186,
   "metadata": {
    "collapsed": true
   },
   "outputs": [],
   "source": [
    "# Get probs per image\n",
    "probs = []\n",
    "\n",
    "i=0 \n",
    "for img in X_test_norm:\n",
    "    #plt.imshow(np.squeeze(img), cmap='gray')\n",
    "    \n",
    "    img = np.reshape(img, [1,h,w,1])\n",
    "    p = model.predict_proba(img, verbose=0)\n",
    "    probs.append(np.squeeze(p))\n",
    "    \n",
    "    #name = \"Good img\" if Y_test[i, 1] == 1 else \"Bad img\"\n",
    "    #plt.title('{}. Score: [{:.4f}, {:.4f}]'.format(name, p[0,0], p[0,1]))\n",
    "    #plt.savefig('../Plots/TestImg/{}.png'.format(i))\n",
    "    i+=1\n",
    "\n",
    "probs = np.array(probs)"
   ]
  },
  {
   "cell_type": "code",
   "execution_count": 187,
   "metadata": {
    "collapsed": true
   },
   "outputs": [],
   "source": [
    "np.savetxt(path_data + 'ScoresOnTestData.txt', np.transpose([Y_test, probs]))"
   ]
  },
  {
   "cell_type": "code",
   "execution_count": 188,
   "metadata": {
    "collapsed": true
   },
   "outputs": [],
   "source": [
    "label_pos = Y_test\n",
    "score_pos = probs[label_pos == 1]\n",
    "score_neg = probs[label_pos == 0]"
   ]
  },
  {
   "cell_type": "code",
   "execution_count": 193,
   "metadata": {},
   "outputs": [
    {
     "data": {
      "image/png": "[encoded data removed]",
      "text/plain": [
       "<matplotlib.figure.Figure at 0x7f3d1cc48080>"
      ]
     },
     "metadata": {},
     "output_type": "display_data"
    }
   ],
   "source": [
    "fig, ax = plt.subplots()\n",
    "\n",
    "binsize = 0.01\n",
    "bins = np.arange(0, 1 + binsize, binsize)\n",
    "\n",
    "ax.hist(score_neg, bins=bins, histtype='stepfilled', linewidth=1, edgecolor='m', color='#ff99ff', label='neg img')\n",
    "ax.hist(score_pos, bins=bins, histtype='stepfilled', linewidth=1, edgecolor='b', color='#6666ff', label='pos img')\n",
    "\n",
    "ax.hist(score_neg, bins=bins, histtype='step', linewidth=1, linestyle='-', edgecolor='m')\n",
    "ax.hist(score_pos, bins=bins, histtype='step', linewidth=1, linestyle='-',edgecolor='b')\n",
    "\n",
    "ax.set_xlabel(\"Score for pos img\")\n",
    "ax.set_yscale('log')\n",
    "\n",
    "ax.legend(loc='best')\n",
    "\n",
    "plt.title('Test Data')\n",
    "\n",
    "plt.tight_layout()\n",
    "plt.savefig(path_data + 'ScoreDistributionOnTestData_{}.png'.format(binsize))"
   ]
  },
  {
   "cell_type": "code",
   "execution_count": 194,
   "metadata": {},
   "outputs": [
    {
     "name": "stdout",
     "output_type": "stream",
     "text": [
      "(1, 75, 100, 1)\n",
      "(1, 75, 100, 1)\n"
     ]
    }
   ],
   "source": [
    "# positive images below 0.5\n",
    "img_pos = X_test_norm[label_pos == 1]\n",
    "img_pos_false = img_pos[score_pos < 0.5]\n",
    "score_pos_false = score_pos[score_pos < 0.5]\n",
    "print(img_pos_false.shape)\n",
    "\n",
    "# negative images over 0.5\n",
    "img_neg = X_test_norm[label_pos == 0]\n",
    "img_neg_false = img_neg[score_neg > 0.5]\n",
    "score_neg_false = score_neg[score_neg > 0.5]\n",
    "print(img_neg_false.shape)"
   ]
  },
  {
   "cell_type": "code",
   "execution_count": 197,
   "metadata": {},
   "outputs": [
    {
     "data": {
      "image/png": "[encoded data removed]",
      "text/plain": [
       "<matplotlib.figure.Figure at 0x7f3cd40f8f60>"
      ]
     },
     "metadata": {},
     "output_type": "display_data"
    }
   ],
   "source": [
    "## wrongly classified pics:\n",
    "\n",
    "for i, (pic,p) in enumerate(zip(img_pos_false[:], score_pos_false[:])):\n",
    "    plt.imshow(np.squeeze(pic), cmap='gray')\n",
    "    \n",
    "    plt.title('Score: {:}'.format(p))\n",
    "    plt.savefig(path_data + 'wrongImg/pos_{}.png'.format(i))\n",
    "    plt.show()"
   ]
  },
  {
   "cell_type": "code",
   "execution_count": 198,
   "metadata": {},
   "outputs": [
    {
     "data": {
      "image/png": "[encoded data removed]",
      "text/plain": [
       "<matplotlib.figure.Figure at 0x7f3c717ef2e8>"
      ]
     },
     "metadata": {},
     "output_type": "display_data"
    }
   ],
   "source": [
    "## wrongly classified pics:\n",
    "\n",
    "for i, (pic,p) in enumerate(zip(img_neg_false[:], score_neg_false[:])):\n",
    "    plt.imshow(np.squeeze(pic), cmap='gray')\n",
    "    \n",
    "    plt.title('Score: {:}'.format(p))\n",
    "    plt.savefig(path_data + 'wrongImg/neg_{}.png'.format(i))\n",
    "    plt.show()"
   ]
  },
  {
   "cell_type": "code",
   "execution_count": null,
   "metadata": {
    "collapsed": true
   },
   "outputs": [],
   "source": []
  }
 ],
 "metadata": {
  "kernelspec": {
   "display_name": "Python 3",
   "language": "python",
   "name": "python3"
  },
  "language_info": {
   "codemirror_mode": {
    "name": "ipython",
    "version": 3
   },
   "file_extension": ".py",
   "mimetype": "text/x-python",
   "name": "python",
   "nbconvert_exporter": "python",
   "pygments_lexer": "ipython3",
   "version": "3.6.1"
  }
 },
 "nbformat": 4,
 "nbformat_minor": 2
}
