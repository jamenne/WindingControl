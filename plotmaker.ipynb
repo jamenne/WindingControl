{
 "cells": [
  {
   "cell_type": "code",
   "execution_count": null,
   "metadata": {},
   "outputs": [],
   "source": [
    "import numpy as np\n",
    "\n",
    "import matplotlib.image as mpimg\n",
    "import matplotlib.pyplot as plt\n",
    "import glob\n",
    "import os, os.path\n",
    "import keras\n",
    "import time as timer\n",
    "import scipy.misc\n",
    "import scipy.ndimage\n",
    "\n",
    "from keras.models import load_model\n",
    "\n",
    "from tqdm import tqdm\n",
    "from datetime import datetime\n",
    "\n",
    "from sklearn.metrics import roc_auc_score, roc_curve\n",
    "\n",
    "%matplotlib inline\n",
    "\n",
    "from datetime import datetime\n",
    "from uncertainties import ufloat, unumpy\n",
    "from uncertainties.umath import *\n",
    "\n",
    "from PIL import Image"
   ]
  },
  {
   "cell_type": "code",
   "execution_count": null,
   "metadata": {},
   "outputs": [],
   "source": [
    "# resolution of images\n",
    "\n",
    "h = 75\n",
    "w = 100"
   ]
  },
  {
   "cell_type": "markdown",
   "metadata": {},
   "source": [
    "# Timing analysis"
   ]
  },
  {
   "cell_type": "code",
   "execution_count": null,
   "metadata": {},
   "outputs": [],
   "source": [
    "img_neg_dark = np.array(Image.open('../../../WindingImages/2017-09-10/IMG_2017-09-10_15-56-08.jpg'))\n",
    "plt.imshow(img_neg_dark, cmap='gray')"
   ]
  },
  {
   "cell_type": "code",
   "execution_count": null,
   "metadata": {},
   "outputs": [],
   "source": [
    "img_neg_light = np.array(Image.open('../../../WindingImages/2017-09-10/IMG_2017-09-10_15-56-01.jpg'))\n",
    "plt.imshow(img_neg_light, cmap='gray')"
   ]
  },
  {
   "cell_type": "code",
   "execution_count": null,
   "metadata": {},
   "outputs": [],
   "source": [
    "img_pos_dark = np.array(Image.open('../../../WindingImages/2017-09-10/IMG_2017-09-10_15-55-20.jpg'))\n",
    "plt.imshow(img_pos_dark, cmap='gray')"
   ]
  },
  {
   "cell_type": "code",
   "execution_count": null,
   "metadata": {},
   "outputs": [],
   "source": [
    "img_pos_light = np.array(Image.open('../../../WindingImages/2017-09-10/IMG_2017-09-10_15-55-30.jpg'))\n",
    "plt.imshow(img_pos_light, cmap='gray')"
   ]
  },
  {
   "cell_type": "code",
   "execution_count": null,
   "metadata": {},
   "outputs": [],
   "source": [
    "img_all = np.array([img_neg_dark, img_neg_light, img_pos_dark, img_pos_light])\n",
    "img_all_names = np.array(['neg_dark', 'neg_light', 'pos_dark', 'pos_light'])"
   ]
  },
  {
   "cell_type": "code",
   "execution_count": null,
   "metadata": {},
   "outputs": [],
   "source": [
    "means = np.loadtxt('../Means.txt')\n",
    "stds = np.loadtxt('../StdDev.txt')"
   ]
  },
  {
   "cell_type": "code",
   "execution_count": null,
   "metadata": {},
   "outputs": [],
   "source": [
    "names = ['167_163_200_200', '165_163_200_200', '167_165_163_200_200', '165_165_163_200_200',\n",
    "        '165_163_163_200_200', '165_163_163_200', '165_165_163_200', '167_165_163_200']"
   ]
  },
  {
   "cell_type": "code",
   "execution_count": null,
   "metadata": {
    "scrolled": true
   },
   "outputs": [],
   "source": [
    "for img, typ in zip(img_all, img_all_names):\n",
    "\n",
    "    f = open('../Data/Misc/Timing/2017-09-17/Timing_75_100_{:}.txt'.format(typ), 'a')\n",
    "\n",
    "    for i, n in enumerate(names):\n",
    "\n",
    "        model = load_model('../TrainedModels/2017-09-16/{}.h5'.format(n))\n",
    "\n",
    "        total_res = []\n",
    "        total_class = []\n",
    "\n",
    "        # Combine it!\n",
    "\n",
    "        for i in tqdm(range(10000)):\n",
    "            # resize and re-shape\n",
    "            t_start_resize = timer.time()\n",
    "            img2 = scipy.misc.imresize(img, (h,w))\n",
    "            # apply normalization\n",
    "            img2 = (img2-means)/stds\n",
    "            img2 = np.reshape(img2,[1,h,w,1])\n",
    "            t_stop_resize = timer.time()\n",
    "\n",
    "            dt1 = t_stop_resize - t_start_resize\n",
    "            total_res.append(dt1)\n",
    "\n",
    "            # classifying\n",
    "            t_start_class = timer.time()\n",
    "            Class = model.predict_classes(img2, verbose=0)\n",
    "            t_stop_class = timer.time()\n",
    "\n",
    "            dt2 = t_stop_class - t_start_class\n",
    "            total_class.append(dt2)\n",
    "\n",
    "\n",
    "        total_res = np.array(total_res)\n",
    "        total_class = np.array(total_class)\n",
    "\n",
    "        print('Pic: {}\\t Model: {}'.format(typ, n))\n",
    "        print('Resizing and reshaping {}: {:.8f} +- {:.8f} sec'.format(n, total_res.mean(), total_res.std()))\n",
    "        print('Classification time {}: {:.8f} +- {:.8f} sec'.format(n, total_class.mean(), total_class.std()))\n",
    "\n",
    "        f.write('{}\\t{:.8f}\\t{:.8f}\\t{:.8f}\\t{:.8f}\\n'.format(n, total_res.mean(), total_res.std(), total_class.mean(), total_class.std()))\n",
    "\n",
    "\n",
    "    f.close()"
   ]
  },
  {
   "cell_type": "markdown",
   "metadata": {},
   "source": [
    "### dark negative image"
   ]
  },
  {
   "cell_type": "code",
   "execution_count": null,
   "metadata": {},
   "outputs": [],
   "source": [
    "time_path = '../Data/Misc/Timing/2017-09-17/Timing_75_100_neg_dark.txt'\n",
    "\n",
    "name = np.genfromtxt(time_path, unpack=True, usecols=[0], dtype=str)\n",
    "\n",
    "res_darkneg, res_std_darkneg, clas_darkneg, clas_std_darkneg = np.genfromtxt(time_path, unpack=True, usecols=[1,2,3,4])"
   ]
  },
  {
   "cell_type": "code",
   "execution_count": null,
   "metadata": {},
   "outputs": [],
   "source": [
    "res_u_darkneg = unumpy.uarray(res_darkneg, res_std_darkneg)\n",
    "class_u_darkneg = unumpy.uarray(clas_darkneg, res_std_darkneg)\n",
    "total_u_darkneg = res_u_darkneg+class_u_darkneg"
   ]
  },
  {
   "cell_type": "code",
   "execution_count": null,
   "metadata": {},
   "outputs": [],
   "source": [
    "fig, ax = plt.subplots()\n",
    "\n",
    "ax.errorbar(x=np.arange(len(clas_darkneg)), y=unumpy.nominal_values(class_u_darkneg)*1000, yerr=unumpy.std_devs(class_u_darkneg)*1000, color='m', marker='.', ls='', label='Classifying')\n",
    "ax.errorbar(x=np.arange(len(res_darkneg)), y=unumpy.nominal_values(res_u_darkneg)*1000, yerr=unumpy.std_devs(res_u_darkneg)*1000, color='b', marker='.', ls='', label='Resizing')\n",
    "ax.errorbar(x=np.arange(len(total_u_darkneg)), y=unumpy.nominal_values(total_u_darkneg)*1000, yerr=unumpy.std_devs(total_u_darkneg)*1000, color='c', marker='.', ls='', label='Total')\n",
    "\n",
    "ax.set_ylabel('Time / ms')\n",
    "ax.legend(loc='best')\n",
    "ax.set_title('dark neg img')\n",
    "\n",
    "_ = plt.xticks(np.arange(len(names)), names, rotation=45, rotation_mode='anchor', ha='right', va='top', fontsize=7)\n",
    "\n",
    "plt.tight_layout()\n",
    "plt.savefig('../Data/Misc/Timing/2017-09-17/Times_DarkNegImg.pdf')"
   ]
  },
  {
   "cell_type": "markdown",
   "metadata": {},
   "source": [
    "### light negative image"
   ]
  },
  {
   "cell_type": "code",
   "execution_count": null,
   "metadata": {},
   "outputs": [],
   "source": [
    "time_path = '../Data/Misc/Timing/2017-09-17/Timing_75_100_neg_light.txt'\n",
    "\n",
    "name = np.genfromtxt(time_path, unpack=True, usecols=[0], dtype=str)\n",
    "\n",
    "res_lightneg, res_std_lightneg, clas_lightneg, clas_std_lightneg = np.genfromtxt(time_path, unpack=True, usecols=[1,2,3,4])"
   ]
  },
  {
   "cell_type": "code",
   "execution_count": null,
   "metadata": {},
   "outputs": [],
   "source": [
    "res_u_lightneg = unumpy.uarray(res_lightneg, res_std_lightneg)\n",
    "class_u_lightneg = unumpy.uarray(clas_lightneg, res_std_lightneg)\n",
    "total_u_lightneg = res_u_lightneg+class_u_lightneg"
   ]
  },
  {
   "cell_type": "code",
   "execution_count": null,
   "metadata": {},
   "outputs": [],
   "source": [
    "fig, ax = plt.subplots()\n",
    "\n",
    "ax.errorbar(x=np.arange(len(clas_lightneg)), y=unumpy.nominal_values(class_u_lightneg)*1000, yerr=unumpy.std_devs(class_u_lightneg)*1000, color='m', marker='.', ls='', label='Classifying')\n",
    "ax.errorbar(x=np.arange(len(res_lightneg)), y=unumpy.nominal_values(res_u_lightneg)*1000, yerr=unumpy.std_devs(res_u_lightneg)*1000, color='b', marker='.', ls='', label='Resizing')\n",
    "ax.errorbar(x=np.arange(len(total_u_lightneg)), y=unumpy.nominal_values(total_u_lightneg)*1000, yerr=unumpy.std_devs(total_u_lightneg)*1000, color='c', marker='.', ls='', label='Total')\n",
    "\n",
    "ax.set_ylabel('Time / ms')\n",
    "ax.legend(loc='best')\n",
    "ax.set_title('light neg img')\n",
    "\n",
    "_ = plt.xticks(np.arange(len(names)), names, rotation=45, rotation_mode='anchor', ha='right', va='top', fontsize=7)\n",
    "\n",
    "plt.tight_layout()\n",
    "plt.savefig('../Data/Misc/Timing/2017-09-17/Times_LightNegImg.pdf')"
   ]
  },
  {
   "cell_type": "markdown",
   "metadata": {},
   "source": [
    "### light positive image"
   ]
  },
  {
   "cell_type": "code",
   "execution_count": null,
   "metadata": {},
   "outputs": [],
   "source": [
    "time_path = '../Data/Misc/Timing/2017-09-17/Timing_75_100_pos_light.txt'\n",
    "\n",
    "name = np.genfromtxt(time_path, unpack=True, usecols=[0], dtype=str)\n",
    "\n",
    "res_lightpos, res_std_lightpos, clas_lightpos, clas_std_lightpos = np.genfromtxt(time_path, unpack=True, usecols=[1,2,3,4])"
   ]
  },
  {
   "cell_type": "code",
   "execution_count": null,
   "metadata": {},
   "outputs": [],
   "source": [
    "res_u_lightpos = unumpy.uarray(res_lightpos, res_std_lightpos)\n",
    "class_u_lightpos = unumpy.uarray(clas_lightpos, res_std_lightpos)\n",
    "total_u_lightpos = res_u_lightpos+class_u_lightpos"
   ]
  },
  {
   "cell_type": "code",
   "execution_count": null,
   "metadata": {},
   "outputs": [],
   "source": [
    "fig, ax = plt.subplots()\n",
    "\n",
    "ax.errorbar(x=np.arange(len(clas_lightpos)), y=unumpy.nominal_values(class_u_lightpos)*1000, yerr=unumpy.std_devs(class_u_lightpos)*1000, color='m', marker='.', ls='', label='Classifying')\n",
    "ax.errorbar(x=np.arange(len(res_lightpos)), y=unumpy.nominal_values(res_u_lightpos)*1000, yerr=unumpy.std_devs(res_u_lightpos)*1000, color='b', marker='.', ls='', label='Resizing')\n",
    "ax.errorbar(x=np.arange(len(total_u_lightpos)), y=unumpy.nominal_values(total_u_lightpos)*1000, yerr=unumpy.std_devs(total_u_lightpos)*1000, color='c', marker='.', ls='', label='Total')\n",
    "\n",
    "ax.set_ylabel('Time / ms')\n",
    "ax.legend(loc='best')\n",
    "ax.set_title('light pos img')\n",
    "\n",
    "_ = plt.xticks(np.arange(len(names)), names, rotation=45, rotation_mode='anchor', ha='right', va='top', fontsize=7)\n",
    "\n",
    "plt.tight_layout()\n",
    "plt.savefig('../Data/Misc/Timing/2017-09-17/Times_LightPosImg.pdf')"
   ]
  },
  {
   "cell_type": "markdown",
   "metadata": {},
   "source": [
    "### dark positive image"
   ]
  },
  {
   "cell_type": "code",
   "execution_count": null,
   "metadata": {},
   "outputs": [],
   "source": [
    "time_path = '../Data/Misc/Timing/2017-09-17/Timing_75_100_pos_dark.txt'\n",
    "\n",
    "name = np.genfromtxt(time_path, unpack=True, usecols=[0], dtype=str)\n",
    "\n",
    "res_darkpos, res_std_darkpos, clas_darkpos, clas_std_darkpos = np.genfromtxt(time_path, unpack=True, usecols=[1,2,3,4])"
   ]
  },
  {
   "cell_type": "code",
   "execution_count": null,
   "metadata": {},
   "outputs": [],
   "source": [
    "res_u_darkpos = unumpy.uarray(res_darkpos, res_std_darkpos)\n",
    "class_u_darkpos = unumpy.uarray(clas_darkpos, res_std_darkpos)\n",
    "total_u_darkpos = res_u_darkpos+class_u_darkpos"
   ]
  },
  {
   "cell_type": "code",
   "execution_count": null,
   "metadata": {},
   "outputs": [],
   "source": [
    "fig, ax = plt.subplots()\n",
    "\n",
    "ax.errorbar(x=np.arange(len(clas_darkpos)), y=unumpy.nominal_values(class_u_darkpos)*1000, yerr=unumpy.std_devs(class_u_darkpos)*1000, color='m', marker='.', ls='', label='Classifying')\n",
    "ax.errorbar(x=np.arange(len(res_darkpos)), y=unumpy.nominal_values(res_u_darkpos)*1000, yerr=unumpy.std_devs(res_u_darkpos)*1000, color='b', marker='.', ls='', label='Resizing')\n",
    "ax.errorbar(x=np.arange(len(total_u_darkpos)), y=unumpy.nominal_values(total_u_darkpos)*1000, yerr=unumpy.std_devs(total_u_darkpos)*1000, color='c', marker='.', ls='', label='Total')\n",
    "\n",
    "ax.set_ylabel('Time / ms')\n",
    "ax.legend(loc='best')\n",
    "ax.set_title('dark pos img')\n",
    "\n",
    "_ = plt.xticks(np.arange(len(names)), names, rotation=45, rotation_mode='anchor', ha='right', va='top', fontsize=7)\n",
    "\n",
    "plt.tight_layout()\n",
    "plt.savefig('../Data/Misc/Timing/2017-09-17/Times_DarkPosImg.pdf')"
   ]
  },
  {
   "cell_type": "markdown",
   "metadata": {},
   "source": [
    "### Total per Net for each img "
   ]
  },
  {
   "cell_type": "code",
   "execution_count": null,
   "metadata": {},
   "outputs": [],
   "source": [
    "fig, ax = plt.subplots()\n",
    "\n",
    "ax.errorbar(x=np.arange(len(total_u_darkpos)), y=unumpy.nominal_values(total_u_darkpos)*1000, yerr=unumpy.std_devs(total_u_darkpos)*1000, color='c', marker='.', ls='', label='dark pos')\n",
    "ax.errorbar(x=np.arange(len(total_u_lightpos)), y=unumpy.nominal_values(total_u_lightpos)*1000, yerr=unumpy.std_devs(total_u_lightpos)*1000, color='m', marker='.', ls='', label='light pos')\n",
    "ax.errorbar(x=np.arange(len(total_u_darkneg)), y=unumpy.nominal_values(total_u_darkneg)*1000, yerr=unumpy.std_devs(total_u_darkneg)*1000, color='b', marker='.', ls='', label='dark neg')\n",
    "ax.errorbar(x=np.arange(len(total_u_lightneg)), y=unumpy.nominal_values(total_u_lightneg)*1000, yerr=unumpy.std_devs(total_u_lightneg)*1000, color='k', marker='.', ls='', label='light neg')\n",
    "\n",
    "\n",
    "ax.set_ylabel('Time / ms')\n",
    "ax.legend(loc='best')\n",
    "ax.set_title('total time')\n",
    "\n",
    "_ = plt.xticks(np.arange(len(names)), names, rotation=45, rotation_mode='anchor', ha='right', va='top', fontsize=7)\n",
    "\n",
    "plt.tight_layout()\n",
    "plt.savefig('../Data/Misc/Timing/2017-09-17/Times_Total_allImg.pdf')"
   ]
  },
  {
   "cell_type": "markdown",
   "metadata": {},
   "source": [
    "# Score distribution for models on all data (normalized)"
   ]
  },
  {
   "cell_type": "code",
   "execution_count": null,
   "metadata": {},
   "outputs": [],
   "source": [
    "# Load test data:\n",
    "\n",
    "#Creates list of positiv files\n",
    "positiv_list = glob.glob('/fhgfs/groups/e5/lhcb/detector/scifi/windingcontrol/Images_Sep17/pos/IMG_*.png')\n",
    "#Finds the number of positiv files\n",
    "positiv_len = len(positiv_list)\n",
    "print(\"Size of positiv Sample: {}\".format(positiv_len))\n",
    "\n",
    "#Same but for negativ files\n",
    "negativ_list = glob.glob('/fhgfs/groups/e5/lhcb/detector/scifi/windingcontrol/Images_Sep17/neg/IMG_*.png')\n",
    "negativ_len = len(negativ_list)\n",
    "print(\"Size of negativ Sample: {}\".format(negativ_len))\n",
    "\n",
    "\n",
    "X_pos = []\n",
    "X_neg = []\n",
    "\n",
    "for fname in tqdm(positiv_list):\n",
    "    img = scipy.misc.imresize(np.array(Image.open(fname)),(h,w))\n",
    "    \n",
    "    X_pos.append(img) \n",
    "    \n",
    "    \n",
    "for fname in tqdm(negativ_list):\n",
    "    img = scipy.misc.imresize(np.array(Image.open(fname)),(h,w))\n",
    "    \n",
    "    X_neg.append(img)\n",
    "    \n",
    "X_pos = np.array(X_pos)\n",
    "X_neg = np.array(X_neg)"
   ]
  },
  {
   "cell_type": "code",
   "execution_count": null,
   "metadata": {},
   "outputs": [],
   "source": [
    "X_all = np.concatenate((X_pos, X_neg), axis=0)\n",
    "Y_all = np.concatenate( ( np.ones(len(X_pos)), np.zeros(len(X_neg)) ) , axis=0)"
   ]
  },
  {
   "cell_type": "code",
   "execution_count": null,
   "metadata": {},
   "outputs": [],
   "source": [
    "# Check labeling of Data\n",
    "if False:\n",
    "    for i, img in enumerate(X_all[:50]):\n",
    "        plt.imshow(np.squeeze(img), cmap='gray')\n",
    "\n",
    "        name = \"Good img\" if Y_all[i] == 1 else \"Bad img\"\n",
    "        plt.title('{}.'.format(name))\n",
    "        plt.savefig('../Plots/TestImg/{}.png'.format(i))\n",
    "        if i%10 == 0:\n",
    "            print(\"10 written\")\n",
    "        i+=1"
   ]
  },
  {
   "cell_type": "code",
   "execution_count": null,
   "metadata": {},
   "outputs": [],
   "source": [
    "#Shuffling the order of the input - required to avoid batches selecting only positive/negative images\n",
    "randomize = np.arange(len(X_all))\n",
    "np.random.shuffle(randomize)\n",
    "X_all = X_all[randomize]\n",
    "Y_all = Y_all[randomize]\n",
    "\n",
    "print(X_all.shape)\n",
    "print(Y_all.shape)\n",
    "\n",
    "X_all = X_all.reshape(X_all.shape[0], h, w, 1)\n",
    "\n",
    "#Shape check (NumberofImages, Height, Width, Depth)\n",
    "print(X_all.shape)\n",
    "print(Y_all.shape)"
   ]
  },
  {
   "cell_type": "code",
   "execution_count": null,
   "metadata": {},
   "outputs": [],
   "source": [
    "# Check labeling of Data\n",
    "if False:\n",
    "    for i, img in enumerate(X_all[:50]):\n",
    "        plt.imshow(np.squeeze(img), cmap='gray')\n",
    "\n",
    "        name = \"Good img\" if Y_all[i] == 1 else \"Bad img\"\n",
    "        plt.title('{}.'.format(name))\n",
    "        plt.savefig('../Plots/TestImg/{}.png'.format(i))\n",
    "        if i%10 == 0:\n",
    "            print(\"10 written\")\n",
    "        i+=1"
   ]
  },
  {
   "cell_type": "markdown",
   "metadata": {},
   "source": [
    "### Load Model and corresponding means and stddevs"
   ]
  },
  {
   "cell_type": "code",
   "execution_count": null,
   "metadata": {},
   "outputs": [],
   "source": [
    "# Normalize Imgages\n",
    "\n",
    "means = np.loadtxt('../TrainedModels/2017-09-15/MeansStdDev/Means_2017-09-15_13-08-59.txt')\n",
    "stds = np.loadtxt('../TrainedModels/2017-09-15/MeansStdDev/StdDev_2017-09-15_13-08-59.txt')\n",
    "\n",
    "X_all_norm = np.array([(np.squeeze(img)-means)/stds for img in X_all])"
   ]
  },
  {
   "cell_type": "code",
   "execution_count": null,
   "metadata": {},
   "outputs": [],
   "source": [
    "name = '167_165_163_200'"
   ]
  },
  {
   "cell_type": "code",
   "execution_count": null,
   "metadata": {},
   "outputs": [],
   "source": [
    "# Load Test model:\n",
    "test_model = load_model('../TrainedModels/2017-09-15/{}.h5'.format(name))"
   ]
  },
  {
   "cell_type": "code",
   "execution_count": null,
   "metadata": {},
   "outputs": [],
   "source": [
    "# Get probs per image\n",
    "probs = []\n",
    "\n",
    "for i, img in enumerate(X_all_norm):\n",
    "    #plt.imshow(np.squeeze(img), cmap='gray')\n",
    "    img = np.reshape(img, [1,h,w,1])\n",
    "    p = test_model.predict_proba(img, verbose=0)\n",
    "    #print('{:}'.format(np.squeeze(p)) )\n",
    "    probs.append(np.squeeze(p))\n",
    "    \n",
    "    #name = \"Good img\" if Y_test[i, 1] == 1 else \"Bad img\"\n",
    "    #plt.title('{}. Score: [{:.4f}, {:.4f}]'.format(name, p[0,0], p[0,1]))\n",
    "    #plt.savefig('../Plots/TestImg/{}.png'.format(i))\n",
    "    i+=1\n",
    "\n",
    "probs = np.array(probs) "
   ]
  },
  {
   "cell_type": "code",
   "execution_count": null,
   "metadata": {},
   "outputs": [],
   "source": [
    "path_data = '../Data/2017-09-15/{}/'.format(name)"
   ]
  },
  {
   "cell_type": "code",
   "execution_count": null,
   "metadata": {
    "scrolled": true
   },
   "outputs": [],
   "source": [
    "np.savetxt(path_data + 'ScoresOnAllData.txt', np.transpose([Y_all, probs]))"
   ]
  },
  {
   "cell_type": "code",
   "execution_count": null,
   "metadata": {},
   "outputs": [],
   "source": [
    "# Score\n",
    "label_pos = Y_all\n",
    "score_pos = probs[label_pos == 1]\n",
    "score_neg = probs[label_pos == 0]"
   ]
  },
  {
   "cell_type": "code",
   "execution_count": null,
   "metadata": {},
   "outputs": [],
   "source": [
    "fig, ax = plt.subplots()\n",
    "\n",
    "binsize = 0.01\n",
    "\n",
    "bins = np.arange(0, 1 + binsize, binsize)\n",
    "\n",
    "ax.hist(score_neg, bins=bins, histtype='stepfilled', linewidth=1, edgecolor='m', color='#ff99ff', label='neg img')\n",
    "ax.hist(score_pos, bins=bins, histtype='stepfilled', linewidth=1, edgecolor='b', color='#6666ff', label='pos img')\n",
    "\n",
    "ax.hist(score_neg, bins=bins, histtype='step', linewidth=1, linestyle='-', edgecolor='m')\n",
    "ax.hist(score_pos, bins=bins, histtype='step', linewidth=1, linestyle='-',edgecolor='b')\n",
    "\n",
    "ax.set_xlabel(\"Score for pos img\")\n",
    "ax.set_yscale('log')\n",
    "\n",
    "ax.set_title(name)\n",
    "\n",
    "ax.legend(loc='best')\n",
    "\n",
    "plt.tight_layout()\n",
    "plt.savefig('{}ScoreDistributionOnAllData_{}.png'.format(path_data, binsize))"
   ]
  },
  {
   "cell_type": "code",
   "execution_count": null,
   "metadata": {},
   "outputs": [],
   "source": [
    "# positive images below 0.5\n",
    "img_pos = X_all_norm[label_pos == 1]\n",
    "img_pos_false = img_pos[score_pos < 0.5]\n",
    "score_pos_false = score_pos[score_pos < 0.5]\n",
    "print(img_pos_false.shape)\n",
    "\n",
    "# negative images over 0.5\n",
    "img_neg = X_all_norm[label_pos == 0]\n",
    "img_neg_false = img_neg[score_neg > 0.5]\n",
    "score_neg_false = score_neg[score_neg > 0.5]\n",
    "print(img_neg_false.shape)"
   ]
  },
  {
   "cell_type": "code",
   "execution_count": null,
   "metadata": {},
   "outputs": [],
   "source": [
    "## wrongly classified pics:\n",
    "\n",
    "for i, (pic,p) in enumerate(zip(img_pos_false[:], score_pos_false[:])):\n",
    "    plt.imshow(np.squeeze(pic), cmap='gray')\n",
    "    \n",
    "    plt.title('Score: {:}'.format(p))\n",
    "    plt.savefig('{}wrongImg/pos_{}.png'.format(path_data, i))\n",
    "    #plt.show()"
   ]
  },
  {
   "cell_type": "code",
   "execution_count": null,
   "metadata": {
    "scrolled": false
   },
   "outputs": [],
   "source": [
    "## wrongly classified pics:\n",
    "\n",
    "for i, (pic,p) in enumerate(zip(img_neg_false[:], score_neg_false[:])):\n",
    "    plt.imshow(np.squeeze(pic), cmap='gray')\n",
    "    \n",
    "    plt.title('Score: {:}'.format(p))\n",
    "    plt.savefig('{}/wrongImg/neg_{}.png'.format(path_data, i))\n",
    "    #plt.show()\n",
    "    "
   ]
  },
  {
   "cell_type": "markdown",
   "metadata": {},
   "source": [
    "## ROC Curve"
   ]
  },
  {
   "cell_type": "code",
   "execution_count": null,
   "metadata": {},
   "outputs": [],
   "source": [
    "names"
   ]
  },
  {
   "cell_type": "code",
   "execution_count": null,
   "metadata": {},
   "outputs": [],
   "source": [
    "fig, ax = plt.subplots()\n",
    "\n",
    "colors = ['springgreen', 'blueviolet', 'firebrick', 'cornflowerblue', 'darkorange', 'aqua', 'deeppink', 'navy']\n",
    "marker = ['.', 'x', '+', '^', '<', '>', 'd', 'h']\n",
    "\n",
    "for i, n in enumerate(names):\n",
    "\n",
    "    Y_all, probs = np.genfromtxt('../Data/2017-09-15/' + n + '/ScoresOnAllData.txt', unpack=True)\n",
    "    \n",
    "    auc = roc_auc_score(Y_all, probs)\n",
    "    #print('AUC: {}'.format(auc))\n",
    "    \n",
    "    fpr, tpr, thresholds = roc_curve(Y_all, probs)\n",
    "\n",
    "    ax.plot(fpr, tpr, color=colors[i], marker=marker[i], markersize=3, ls='--', lw=0.75, label='{} (area={:.4f})'.format(n,auc))\n",
    "\n",
    "\n",
    "ax.plot([0,1], [0,1], color = 'C7', ls='--',lw=0.75)\n",
    "    \n",
    "ax.set_xlabel('False Positive Rate')\n",
    "ax.set_ylabel('True Positive Rate')\n",
    "\n",
    "#ax.set_xlim([-0.0001,0.0015])\n",
    "#ax.set_ylim([0.8, 1.01])\n",
    "\n",
    "ax.set_title('ROC Curves')\n",
    "\n",
    "ax.legend(loc='best')\n",
    "\n",
    "plt.tight_layout()\n",
    "\n",
    "plt.savefig('../Data/Misc/ROCCurves/2017-09-16/ROC_Curves.pdf')"
   ]
  },
  {
   "cell_type": "markdown",
   "metadata": {
    "collapsed": true
   },
   "source": [
    "# Loss and Accuracy during training"
   ]
  },
  {
   "cell_type": "code",
   "execution_count": null,
   "metadata": {},
   "outputs": [],
   "source": [
    "name= '165_163_200_200'"
   ]
  },
  {
   "cell_type": "code",
   "execution_count": null,
   "metadata": {},
   "outputs": [],
   "source": [
    "accuracy, losses = np.genfromtxt('../TrainedModels/2017-09-16/{}_TrainingData.txt'.format(name), unpack=True)"
   ]
  },
  {
   "cell_type": "code",
   "execution_count": null,
   "metadata": {},
   "outputs": [],
   "source": [
    "accuracy = np.array(accuracy)\n",
    "losses = np.array(losses)\n",
    "\n",
    "fig, ax = plt.subplots(2, sharex=True)\n",
    "\n",
    "every_item = 100\n",
    "\n",
    "ax[0].plot(accuracy[::every_item], color = 'b', marker='', ls='-')\n",
    "ax[1].plot(losses[::every_item], color = 'm', marker='', ls='-')\n",
    "\n",
    "ax[1].set_xlabel('batch number')\n",
    "ax[0].set_ylabel('accuracy')\n",
    "ax[1].set_ylabel('loss')\n",
    "\n",
    "ax[1].set_yscale('log')\n",
    "\n",
    "ax[0].set_title(name)\n",
    "\n",
    "plt.tight_layout()\n",
    "plt.savefig('../Data/2017-09-16/{}/LossAccLog::{}.png'.format(name, every_item))"
   ]
  },
  {
   "cell_type": "markdown",
   "metadata": {},
   "source": [
    "## Score distribution on test data"
   ]
  },
  {
   "cell_type": "code",
   "execution_count": null,
   "metadata": {},
   "outputs": [],
   "source": [
    "Y_test, probs = np.genfromtxt('../Data/2017-09-16/{}/ScoresOnTestData.txt'.format(name), unpack=True)"
   ]
  },
  {
   "cell_type": "code",
   "execution_count": null,
   "metadata": {},
   "outputs": [],
   "source": [
    "label_pos = Y_test\n",
    "score_pos = probs[label_pos == 1]\n",
    "score_neg = probs[label_pos == 0]"
   ]
  },
  {
   "cell_type": "code",
   "execution_count": null,
   "metadata": {},
   "outputs": [],
   "source": [
    "fig, ax = plt.subplots()\n",
    "\n",
    "binsize = 0.05\n",
    "\n",
    "bins = np.arange(0, 1 + binsize, binsize)\n",
    "\n",
    "ax.hist(score_neg, bins=bins, histtype='stepfilled', linewidth=1, edgecolor='m', color='#ff99ff', label='neg img')\n",
    "ax.hist(score_pos, bins=bins, histtype='stepfilled', linewidth=1, edgecolor='b', color='#6666ff', label='pos img')\n",
    "\n",
    "ax.hist(score_neg, bins=bins, histtype='step', linewidth=1, linestyle='-', edgecolor='m')\n",
    "ax.hist(score_pos, bins=bins, histtype='step', linewidth=1, linestyle='-',edgecolor='b')\n",
    "\n",
    "ax.set_xlabel(\"Score for pos img\")\n",
    "ax.set_yscale('log')\n",
    "\n",
    "ax.legend(loc='best')\n",
    "\n",
    "plt.title('Test Data')\n",
    "\n",
    "plt.tight_layout()\n",
    "plt.savefig('../Data/2017-09-16/{}/ScoreDistributionOnTestData_{}.png'.format(name, binsize))"
   ]
  },
  {
   "cell_type": "markdown",
   "metadata": {
    "collapsed": true
   },
   "source": [
    "# Score distribution for models - live testing"
   ]
  },
  {
   "cell_type": "markdown",
   "metadata": {},
   "source": [
    "### Static image (no winding)"
   ]
  },
  {
   "cell_type": "code",
   "execution_count": null,
   "metadata": {},
   "outputs": [],
   "source": [
    "score_statimg = np.genfromtxt('../Data/2017-09-10/167_165_163_200_200_selu_100epochs/Probs/WindingProb_2017-09-11_08-08-43_static_image.txt', unpack=True)"
   ]
  },
  {
   "cell_type": "code",
   "execution_count": null,
   "metadata": {},
   "outputs": [],
   "source": [
    "fig, ax = plt.subplots()\n",
    "\n",
    "binsize = 0.025\n",
    "\n",
    "bins = np.arange(0, 1 + binsize, binsize)\n",
    "\n",
    "ax.hist(score_statimg, bins=bins, histtype='stepfilled', linewidth=1, edgecolor='m', color='#ff99ff', label='static postive Image')\n",
    "\n",
    "ax.set_xlabel(\"Score\")\n",
    "ax.set_yscale('log')\n",
    "\n",
    "ax.legend(loc='upper left')\n",
    "\n",
    "plt.tight_layout()\n",
    "plt.savefig('../Data/2017-09-10/167_165_163_200_200_selu_100epochs/ScoreDistributionStaticImage_{}.png'.format(binsize))"
   ]
  },
  {
   "cell_type": "markdown",
   "metadata": {
    "collapsed": true
   },
   "source": [
    "### winding image (positive)"
   ]
  },
  {
   "cell_type": "code",
   "execution_count": null,
   "metadata": {},
   "outputs": [],
   "source": [
    "score_wind1_pos = np.genfromtxt('../Data/2017-09-10/167_165_163_200_200_selu_100epochs/Probs/WindingProb_2017-09-11_10-03-45.txt')\n",
    "score_wind2_pos = np.genfromtxt('../Data/2017-09-10/167_165_163_200_200_selu_100epochs/Probs/WindingProb_2017-09-11_10-05-44.txt')\n",
    "score_wind3_pos = np.genfromtxt('../Data/2017-09-10/167_165_163_200_200_selu_100epochs/Probs/WindingProb_2017-09-11_10-37-26.txt')"
   ]
  },
  {
   "cell_type": "code",
   "execution_count": null,
   "metadata": {},
   "outputs": [],
   "source": [
    "fig, ax = plt.subplots()\n",
    "\n",
    "binsize = 0.025\n",
    "\n",
    "bins = np.arange(0, 1 + binsize, binsize)\n",
    "\n",
    "ax.hist(score_wind1_pos, bins=bins, histtype='stepfilled', linewidth=1, edgecolor='m', color='#ff99ff', label='winding pos Image')\n",
    "ax.hist(score_wind2_pos, bins=bins, histtype='stepfilled', linewidth=1, edgecolor='b', color='#6666ff', label='pos img')\n",
    "\n",
    "ax.hist(score_wind1_pos, bins=bins, histtype='step', linewidth=1, linestyle='-', edgecolor='m')\n",
    "ax.hist(score_wind2_pos, bins=bins, histtype='step', linewidth=1, linestyle='-',edgecolor='b')\n",
    "\n",
    "ax.set_xlabel(\"Score\")\n",
    "ax.set_yscale('log')\n",
    "\n",
    "ax.legend(loc='upper left')\n",
    "\n",
    "plt.tight_layout()\n",
    "plt.savefig('../Data/2017-09-10/167_165_163_200_200_selu_100epochs/ScoreDistributionWindingPosImage_{}.png'.format(binsize))"
   ]
  }
 ],
 "metadata": {
  "kernelspec": {
   "display_name": "Python 3",
   "language": "python",
   "name": "python3"
  },
  "language_info": {
   "codemirror_mode": {
    "name": "ipython",
    "version": 3
   },
   "file_extension": ".py",
   "mimetype": "text/x-python",
   "name": "python",
   "nbconvert_exporter": "python",
   "pygments_lexer": "ipython3",
   "version": "3.6.3"
  }
 },
 "nbformat": 4,
 "nbformat_minor": 2
}
